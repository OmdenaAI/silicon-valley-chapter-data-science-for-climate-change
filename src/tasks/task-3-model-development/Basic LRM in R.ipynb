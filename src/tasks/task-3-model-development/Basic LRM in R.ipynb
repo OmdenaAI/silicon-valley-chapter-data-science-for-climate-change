{
 "cells": [
  {
   "cell_type": "code",
   "execution_count": 1,
   "metadata": {},
   "outputs": [
    {
     "name": "stdout",
     "output_type": "stream",
     "text": [
      "[1] \"Hello Zuko Here !!!\"\n"
     ]
    }
   ],
   "source": [
    "print(\"Hello Zuko Here !!!\")"
   ]
  },
  {
   "cell_type": "code",
   "execution_count": 2,
   "metadata": {},
   "outputs": [
    {
     "name": "stderr",
     "output_type": "stream",
     "text": [
      "\n",
      "Attaching package: 'dplyr'\n",
      "\n",
      "\n",
      "The following objects are masked from 'package:stats':\n",
      "\n",
      "    filter, lag\n",
      "\n",
      "\n",
      "The following objects are masked from 'package:base':\n",
      "\n",
      "    intersect, setdiff, setequal, union\n",
      "\n",
      "\n",
      "Warning message:\n",
      "\"package 'IRdisplay' was built under R version 4.1.2\"\n",
      "Warning message:\n",
      "\"package 'Metrics' was built under R version 4.1.2\"\n",
      "Warning message:\n",
      "\"package 'caret' was built under R version 4.1.2\"\n",
      "Loading required package: lattice\n",
      "\n",
      "\n",
      "Attaching package: 'caret'\n",
      "\n",
      "\n",
      "The following objects are masked from 'package:Metrics':\n",
      "\n",
      "    precision, recall\n",
      "\n",
      "\n"
     ]
    }
   ],
   "source": [
    "library(tidyr)\n",
    "library(dplyr)\n",
    "library(IRdisplay)\n",
    "library(ggplot2)\n",
    "library(Metrics)\n",
    "library(caret)"
   ]
  },
  {
   "cell_type": "markdown",
   "metadata": {},
   "source": [
    "# Data Load"
   ]
  },
  {
   "cell_type": "code",
   "execution_count": 3,
   "metadata": {},
   "outputs": [],
   "source": [
    "path <- \"D:/jupyterlab/silicon-valley-chapter-data-science-for-climate-change/src/data/train.csv\""
   ]
  },
  {
   "cell_type": "code",
   "execution_count": 4,
   "metadata": {},
   "outputs": [],
   "source": [
    "df.climate <- read.csv(path)"
   ]
  },
  {
   "cell_type": "code",
   "execution_count": 5,
   "metadata": {},
   "outputs": [
    {
     "data": {
      "text/html": [
       "<table class=\"dataframe\">\n",
       "<caption>A data.frame: 6 × 64</caption>\n",
       "<thead>\n",
       "\t<tr><th></th><th scope=col>Year_Factor</th><th scope=col>State_Factor</th><th scope=col>building_class</th><th scope=col>facility_type</th><th scope=col>floor_area</th><th scope=col>year_built</th><th scope=col>energy_star_rating</th><th scope=col>ELEVATION</th><th scope=col>january_min_temp</th><th scope=col>january_avg_temp</th><th scope=col>...</th><th scope=col>days_above_80F</th><th scope=col>days_above_90F</th><th scope=col>days_above_100F</th><th scope=col>days_above_110F</th><th scope=col>direction_max_wind_speed</th><th scope=col>direction_peak_wind_speed</th><th scope=col>max_wind_speed</th><th scope=col>days_with_fog</th><th scope=col>site_eui</th><th scope=col>id</th></tr>\n",
       "\t<tr><th></th><th scope=col>&lt;int&gt;</th><th scope=col>&lt;chr&gt;</th><th scope=col>&lt;chr&gt;</th><th scope=col>&lt;chr&gt;</th><th scope=col>&lt;dbl&gt;</th><th scope=col>&lt;dbl&gt;</th><th scope=col>&lt;dbl&gt;</th><th scope=col>&lt;dbl&gt;</th><th scope=col>&lt;int&gt;</th><th scope=col>&lt;dbl&gt;</th><th scope=col>...</th><th scope=col>&lt;int&gt;</th><th scope=col>&lt;int&gt;</th><th scope=col>&lt;int&gt;</th><th scope=col>&lt;int&gt;</th><th scope=col>&lt;dbl&gt;</th><th scope=col>&lt;dbl&gt;</th><th scope=col>&lt;dbl&gt;</th><th scope=col>&lt;dbl&gt;</th><th scope=col>&lt;dbl&gt;</th><th scope=col>&lt;int&gt;</th></tr>\n",
       "</thead>\n",
       "<tbody>\n",
       "\t<tr><th scope=row>1</th><td>1</td><td>State_1</td><td>Commercial</td><td>Grocery_store_or_food_market             </td><td> 61242</td><td>1942</td><td> 11</td><td>2.4</td><td>36</td><td>50.5</td><td>...</td><td>14</td><td>0</td><td>0</td><td>0</td><td>1</td><td> 1</td><td>1</td><td>NA</td><td>248.682615</td><td>0</td></tr>\n",
       "\t<tr><th scope=row>2</th><td>1</td><td>State_1</td><td>Commercial</td><td>Warehouse_Distribution_or_Shipping_center</td><td>274000</td><td>1955</td><td> 45</td><td>1.8</td><td>36</td><td>50.5</td><td>...</td><td>14</td><td>0</td><td>0</td><td>0</td><td>1</td><td>NA</td><td>1</td><td>12</td><td> 26.500150</td><td>1</td></tr>\n",
       "\t<tr><th scope=row>3</th><td>1</td><td>State_1</td><td>Commercial</td><td>Retail_Enclosed_mall                     </td><td>280025</td><td>1951</td><td> 97</td><td>1.8</td><td>36</td><td>50.5</td><td>...</td><td>14</td><td>0</td><td>0</td><td>0</td><td>1</td><td>NA</td><td>1</td><td>12</td><td> 24.693619</td><td>2</td></tr>\n",
       "\t<tr><th scope=row>4</th><td>1</td><td>State_1</td><td>Commercial</td><td>Education_Other_classroom                </td><td> 55325</td><td>1980</td><td> 46</td><td>1.8</td><td>36</td><td>50.5</td><td>...</td><td>14</td><td>0</td><td>0</td><td>0</td><td>1</td><td>NA</td><td>1</td><td>12</td><td> 48.406926</td><td>3</td></tr>\n",
       "\t<tr><th scope=row>5</th><td>1</td><td>State_1</td><td>Commercial</td><td>Warehouse_Nonrefrigerated                </td><td> 66000</td><td>1985</td><td>100</td><td>2.4</td><td>36</td><td>50.5</td><td>...</td><td>14</td><td>0</td><td>0</td><td>0</td><td>1</td><td> 1</td><td>1</td><td>NA</td><td>  3.899395</td><td>4</td></tr>\n",
       "\t<tr><th scope=row>6</th><td>1</td><td>State_1</td><td>Commercial</td><td>Warehouse_Selfstorage                    </td><td>119900</td><td>1956</td><td> NA</td><td>2.4</td><td>36</td><td>50.5</td><td>...</td><td>14</td><td>0</td><td>0</td><td>0</td><td>1</td><td> 1</td><td>1</td><td>NA</td><td>  6.597715</td><td>5</td></tr>\n",
       "</tbody>\n",
       "</table>\n"
      ],
      "text/latex": [
       "A data.frame: 6 × 64\n",
       "\\begin{tabular}{r|lllllllllllllllllllll}\n",
       "  & Year\\_Factor & State\\_Factor & building\\_class & facility\\_type & floor\\_area & year\\_built & energy\\_star\\_rating & ELEVATION & january\\_min\\_temp & january\\_avg\\_temp & ... & days\\_above\\_80F & days\\_above\\_90F & days\\_above\\_100F & days\\_above\\_110F & direction\\_max\\_wind\\_speed & direction\\_peak\\_wind\\_speed & max\\_wind\\_speed & days\\_with\\_fog & site\\_eui & id\\\\\n",
       "  & <int> & <chr> & <chr> & <chr> & <dbl> & <dbl> & <dbl> & <dbl> & <int> & <dbl> & ... & <int> & <int> & <int> & <int> & <dbl> & <dbl> & <dbl> & <dbl> & <dbl> & <int>\\\\\n",
       "\\hline\n",
       "\t1 & 1 & State\\_1 & Commercial & Grocery\\_store\\_or\\_food\\_market              &  61242 & 1942 &  11 & 2.4 & 36 & 50.5 & ... & 14 & 0 & 0 & 0 & 1 &  1 & 1 & NA & 248.682615 & 0\\\\\n",
       "\t2 & 1 & State\\_1 & Commercial & Warehouse\\_Distribution\\_or\\_Shipping\\_center & 274000 & 1955 &  45 & 1.8 & 36 & 50.5 & ... & 14 & 0 & 0 & 0 & 1 & NA & 1 & 12 &  26.500150 & 1\\\\\n",
       "\t3 & 1 & State\\_1 & Commercial & Retail\\_Enclosed\\_mall                      & 280025 & 1951 &  97 & 1.8 & 36 & 50.5 & ... & 14 & 0 & 0 & 0 & 1 & NA & 1 & 12 &  24.693619 & 2\\\\\n",
       "\t4 & 1 & State\\_1 & Commercial & Education\\_Other\\_classroom                 &  55325 & 1980 &  46 & 1.8 & 36 & 50.5 & ... & 14 & 0 & 0 & 0 & 1 & NA & 1 & 12 &  48.406926 & 3\\\\\n",
       "\t5 & 1 & State\\_1 & Commercial & Warehouse\\_Nonrefrigerated                 &  66000 & 1985 & 100 & 2.4 & 36 & 50.5 & ... & 14 & 0 & 0 & 0 & 1 &  1 & 1 & NA &   3.899395 & 4\\\\\n",
       "\t6 & 1 & State\\_1 & Commercial & Warehouse\\_Selfstorage                     & 119900 & 1956 &  NA & 2.4 & 36 & 50.5 & ... & 14 & 0 & 0 & 0 & 1 &  1 & 1 & NA &   6.597715 & 5\\\\\n",
       "\\end{tabular}\n"
      ],
      "text/markdown": [
       "\n",
       "A data.frame: 6 × 64\n",
       "\n",
       "| <!--/--> | Year_Factor &lt;int&gt; | State_Factor &lt;chr&gt; | building_class &lt;chr&gt; | facility_type &lt;chr&gt; | floor_area &lt;dbl&gt; | year_built &lt;dbl&gt; | energy_star_rating &lt;dbl&gt; | ELEVATION &lt;dbl&gt; | january_min_temp &lt;int&gt; | january_avg_temp &lt;dbl&gt; | ... ... | days_above_80F &lt;int&gt; | days_above_90F &lt;int&gt; | days_above_100F &lt;int&gt; | days_above_110F &lt;int&gt; | direction_max_wind_speed &lt;dbl&gt; | direction_peak_wind_speed &lt;dbl&gt; | max_wind_speed &lt;dbl&gt; | days_with_fog &lt;dbl&gt; | site_eui &lt;dbl&gt; | id &lt;int&gt; |\n",
       "|---|---|---|---|---|---|---|---|---|---|---|---|---|---|---|---|---|---|---|---|---|---|\n",
       "| 1 | 1 | State_1 | Commercial | Grocery_store_or_food_market              |  61242 | 1942 |  11 | 2.4 | 36 | 50.5 | ... | 14 | 0 | 0 | 0 | 1 |  1 | 1 | NA | 248.682615 | 0 |\n",
       "| 2 | 1 | State_1 | Commercial | Warehouse_Distribution_or_Shipping_center | 274000 | 1955 |  45 | 1.8 | 36 | 50.5 | ... | 14 | 0 | 0 | 0 | 1 | NA | 1 | 12 |  26.500150 | 1 |\n",
       "| 3 | 1 | State_1 | Commercial | Retail_Enclosed_mall                      | 280025 | 1951 |  97 | 1.8 | 36 | 50.5 | ... | 14 | 0 | 0 | 0 | 1 | NA | 1 | 12 |  24.693619 | 2 |\n",
       "| 4 | 1 | State_1 | Commercial | Education_Other_classroom                 |  55325 | 1980 |  46 | 1.8 | 36 | 50.5 | ... | 14 | 0 | 0 | 0 | 1 | NA | 1 | 12 |  48.406926 | 3 |\n",
       "| 5 | 1 | State_1 | Commercial | Warehouse_Nonrefrigerated                 |  66000 | 1985 | 100 | 2.4 | 36 | 50.5 | ... | 14 | 0 | 0 | 0 | 1 |  1 | 1 | NA |   3.899395 | 4 |\n",
       "| 6 | 1 | State_1 | Commercial | Warehouse_Selfstorage                     | 119900 | 1956 |  NA | 2.4 | 36 | 50.5 | ... | 14 | 0 | 0 | 0 | 1 |  1 | 1 | NA |   6.597715 | 5 |\n",
       "\n"
      ],
      "text/plain": [
       "  Year_Factor State_Factor building_class\n",
       "1 1           State_1      Commercial    \n",
       "2 1           State_1      Commercial    \n",
       "3 1           State_1      Commercial    \n",
       "4 1           State_1      Commercial    \n",
       "5 1           State_1      Commercial    \n",
       "6 1           State_1      Commercial    \n",
       "  facility_type                             floor_area year_built\n",
       "1 Grocery_store_or_food_market               61242     1942      \n",
       "2 Warehouse_Distribution_or_Shipping_center 274000     1955      \n",
       "3 Retail_Enclosed_mall                      280025     1951      \n",
       "4 Education_Other_classroom                  55325     1980      \n",
       "5 Warehouse_Nonrefrigerated                  66000     1985      \n",
       "6 Warehouse_Selfstorage                     119900     1956      \n",
       "  energy_star_rating ELEVATION january_min_temp january_avg_temp ...\n",
       "1  11                2.4       36               50.5             ...\n",
       "2  45                1.8       36               50.5             ...\n",
       "3  97                1.8       36               50.5             ...\n",
       "4  46                1.8       36               50.5             ...\n",
       "5 100                2.4       36               50.5             ...\n",
       "6  NA                2.4       36               50.5             ...\n",
       "  days_above_80F days_above_90F days_above_100F days_above_110F\n",
       "1 14             0              0               0              \n",
       "2 14             0              0               0              \n",
       "3 14             0              0               0              \n",
       "4 14             0              0               0              \n",
       "5 14             0              0               0              \n",
       "6 14             0              0               0              \n",
       "  direction_max_wind_speed direction_peak_wind_speed max_wind_speed\n",
       "1 1                         1                        1             \n",
       "2 1                        NA                        1             \n",
       "3 1                        NA                        1             \n",
       "4 1                        NA                        1             \n",
       "5 1                         1                        1             \n",
       "6 1                         1                        1             \n",
       "  days_with_fog site_eui   id\n",
       "1 NA            248.682615 0 \n",
       "2 12             26.500150 1 \n",
       "3 12             24.693619 2 \n",
       "4 12             48.406926 3 \n",
       "5 NA              3.899395 4 \n",
       "6 NA              6.597715 5 "
      ]
     },
     "metadata": {},
     "output_type": "display_data"
    }
   ],
   "source": [
    "head(df.climate)"
   ]
  },
  {
   "cell_type": "markdown",
   "metadata": {},
   "source": [
    "# Check distribution of the data"
   ]
  },
  {
   "cell_type": "code",
   "execution_count": 6,
   "metadata": {},
   "outputs": [
    {
     "data": {
      "image/png": "[encoded data removed]",
      "text/plain": [
       "plot without title"
      ]
     },
     "metadata": {
      "image/png": {
       "height": 420,
       "width": 420
      }
     },
     "output_type": "display_data"
    }
   ],
   "source": [
    "# histogram of facility type \n",
    "ggplot(df.climate, aes(y=facility_type)) + geom_bar()"
   ]
  },
  {
   "cell_type": "code",
   "execution_count": 7,
   "metadata": {},
   "outputs": [
    {
     "data": {
      "image/png": "[encoded data removed]",
      "text/plain": [
       "plot without title"
      ]
     },
     "metadata": {
      "image/png": {
       "height": 420,
       "width": 420
      }
     },
     "output_type": "display_data"
    }
   ],
   "source": [
    "ggplot(df.climate, aes(x=building_class)) + geom_bar()"
   ]
  },
  {
   "cell_type": "markdown",
   "metadata": {},
   "source": [
    "# Lets try on building Class for now \n",
    "\n",
    "1) We will try LR for Resedential Class \n",
    "2) We will keep floor area and try to predict site EUI\n",
    "3) We will add one month at a time to check its effect "
   ]
  },
  {
   "cell_type": "code",
   "execution_count": 8,
   "metadata": {},
   "outputs": [],
   "source": [
    "# filter records on Residential Class \n",
    "df.res <- df.climate[df.climate$building_class == \"Residential\",]"
   ]
  },
  {
   "cell_type": "markdown",
   "metadata": {
    "collapsed": false,
    "pycharm": {
     "name": "#%% md\n"
    }
   },
   "source": [
    "### Train Test split"
   ]
  },
  {
   "cell_type": "code",
   "execution_count": 9,
   "metadata": {
    "collapsed": false,
    "pycharm": {
     "name": "#%%\n"
    }
   },
   "outputs": [],
   "source": [
    "# Split into train and test\n",
    "set.seed(123)\n",
    "intrain<-createDataPartition(y=df.res$facility_type,p=0.8,list=FALSE)\n",
    "training<-df.res[intrain,]\n",
    "testing<-df.res[-intrain,]"
   ]
  },
  {
   "cell_type": "code",
   "execution_count": 10,
   "metadata": {},
   "outputs": [],
   "source": [
    "model <- lm(site_eui ~ floor_area + january_avg_temp,data=training)"
   ]
  },
  {
   "cell_type": "code",
   "execution_count": 11,
   "metadata": {},
   "outputs": [
    {
     "data": {
      "text/plain": [
       "\n",
       "Call:\n",
       "lm(formula = site_eui ~ floor_area + january_avg_temp, data = training)\n",
       "\n",
       "Residuals:\n",
       "   Min     1Q Median     3Q    Max \n",
       "-96.70 -20.76  -3.32  15.07 840.97 \n",
       "\n",
       "Coefficients:\n",
       "                   Estimate Std. Error t value Pr(>|t|)    \n",
       "(Intercept)       1.405e+02  1.534e+00  91.545   <2e-16 ***\n",
       "floor_area        1.270e-06  1.418e-06   0.895    0.371    \n",
       "january_avg_temp -1.804e+00  4.401e-02 -40.987   <2e-16 ***\n",
       "---\n",
       "Signif. codes:  0 '***' 0.001 '**' 0.01 '*' 0.05 '.' 0.1 ' ' 1\n",
       "\n",
       "Residual standard error: 40.03 on 34846 degrees of freedom\n",
       "Multiple R-squared:  0.04754,\tAdjusted R-squared:  0.04748 \n",
       "F-statistic: 869.6 on 2 and 34846 DF,  p-value: < 2.2e-16\n"
      ]
     },
     "metadata": {},
     "output_type": "display_data"
    }
   ],
   "source": [
    "summary(model)"
   ]
  },
  {
   "cell_type": "markdown",
   "metadata": {
    "collapsed": false
   },
   "source": [
    "#### RMSE on train set"
   ]
  },
  {
   "cell_type": "code",
   "execution_count": 12,
   "metadata": {},
   "outputs": [],
   "source": [
    "# Predict on train set\n",
    "training$predicted_site_eui <- predict(model, newdata=training)\n"
   ]
  },
  {
   "cell_type": "code",
   "execution_count": 13,
   "metadata": {
    "collapsed": false,
    "pycharm": {
     "name": "#%%\n"
    }
   },
   "outputs": [
    {
     "data": {
      "text/html": [
       "40.026901842349"
      ],
      "text/latex": [
       "40.026901842349"
      ],
      "text/markdown": [
       "40.026901842349"
      ],
      "text/plain": [
       "[1] 40.0269"
      ]
     },
     "metadata": {},
     "output_type": "display_data"
    }
   ],
   "source": [
    "# RMSE on train set\n",
    "rmse(training$site_eui, training$predicted_site_eui)"
   ]
  },
  {
   "cell_type": "code",
   "execution_count": 14,
   "metadata": {
    "collapsed": false,
    "pycharm": {
     "name": "#%%\n"
    }
   },
   "outputs": [],
   "source": [
    "#### RMSE on train set\n",
    "testing$predicted_site_eui <- predict(model, newdata=testing)"
   ]
  },
  {
   "cell_type": "code",
   "execution_count": 15,
   "metadata": {
    "collapsed": false,
    "pycharm": {
     "name": "#%%\n"
    }
   },
   "outputs": [
    {
     "data": {
      "text/html": [
       "40.818503127233"
      ],
      "text/latex": [
       "40.818503127233"
      ],
      "text/markdown": [
       "40.818503127233"
      ],
      "text/plain": [
       "[1] 40.8185"
      ]
     },
     "metadata": {},
     "output_type": "display_data"
    }
   ],
   "source": [
    "rmse(testing$site_eui, testing$predicted_site_eui)"
   ]
  },
  {
   "cell_type": "markdown",
   "metadata": {
    "collapsed": false,
    "pycharm": {
     "name": "#%% md\n"
    }
   },
   "source": [
    "### Add June month to the model and check"
   ]
  },
  {
   "cell_type": "code",
   "execution_count": 16,
   "metadata": {
    "collapsed": false,
    "pycharm": {
     "name": "#%%\n"
    }
   },
   "outputs": [],
   "source": [
    "model <- lm(site_eui ~ floor_area + january_avg_temp + june_avg_temp,data=training)"
   ]
  },
  {
   "cell_type": "code",
   "execution_count": 17,
   "metadata": {
    "collapsed": false,
    "pycharm": {
     "name": "#%%\n"
    }
   },
   "outputs": [
    {
     "data": {
      "text/plain": [
       "\n",
       "Call:\n",
       "lm(formula = site_eui ~ floor_area + january_avg_temp + june_avg_temp, \n",
       "    data = training)\n",
       "\n",
       "Residuals:\n",
       "   Min     1Q Median     3Q    Max \n",
       "-92.84 -19.55  -3.66  14.36 857.38 \n",
       "\n",
       "Coefficients:\n",
       "                   Estimate Std. Error t value Pr(>|t|)    \n",
       "(Intercept)      -1.111e+02  9.729e+00 -11.416   <2e-16 ***\n",
       "floor_area        1.915e-06  1.404e-06   1.363    0.173    \n",
       "january_avg_temp -9.922e-01  5.349e-02 -18.548   <2e-16 ***\n",
       "june_avg_temp     3.139e+00  1.199e-01  26.173   <2e-16 ***\n",
       "---\n",
       "Signif. codes:  0 '***' 0.001 '**' 0.01 '*' 0.05 '.' 0.1 ' ' 1\n",
       "\n",
       "Residual standard error: 39.64 on 34845 degrees of freedom\n",
       "Multiple R-squared:  0.0659,\tAdjusted R-squared:  0.06582 \n",
       "F-statistic: 819.4 on 3 and 34845 DF,  p-value: < 2.2e-16\n"
      ]
     },
     "metadata": {},
     "output_type": "display_data"
    }
   ],
   "source": [
    "summary(model)"
   ]
  },
  {
   "cell_type": "code",
   "execution_count": 18,
   "metadata": {
    "collapsed": false,
    "pycharm": {
     "name": "#%%\n"
    }
   },
   "outputs": [
    {
     "data": {
      "text/html": [
       "39.6391606079972"
      ],
      "text/latex": [
       "39.6391606079972"
      ],
      "text/markdown": [
       "39.6391606079972"
      ],
      "text/plain": [
       "[1] 39.63916"
      ]
     },
     "metadata": {},
     "output_type": "display_data"
    }
   ],
   "source": [
    "# Predict on train set\n",
    "training$predicted_site_eui <- predict(model, newdata=training)\n",
    "rmse(training$site_eui, training$predicted_site_eui)"
   ]
  },
  {
   "cell_type": "code",
   "execution_count": 19,
   "metadata": {
    "collapsed": false,
    "pycharm": {
     "name": "#%%\n"
    }
   },
   "outputs": [
    {
     "data": {
      "text/html": [
       "40.4336454874346"
      ],
      "text/latex": [
       "40.4336454874346"
      ],
      "text/markdown": [
       "40.4336454874346"
      ],
      "text/plain": [
       "[1] 40.43365"
      ]
     },
     "metadata": {},
     "output_type": "display_data"
    }
   ],
   "source": [
    "# Predict on train set\n",
    "testing$predicted_site_eui <- predict(model, newdata=testing)\n",
    "rmse(testing$site_eui, testing$predicted_site_eui)"
   ]
  },
  {
   "cell_type": "markdown",
   "metadata": {
    "collapsed": false,
    "pycharm": {
     "name": "#%% md\n"
    }
   },
   "source": [
    "### Adding 4 months to the model and check"
   ]
  },
  {
   "cell_type": "code",
   "execution_count": 24,
   "metadata": {
    "collapsed": false,
    "pycharm": {
     "name": "#%%\n"
    }
   },
   "outputs": [
    {
     "data": {
      "text/plain": [
       "\n",
       "Call:\n",
       "lm(formula = site_eui ~ floor_area + january_avg_temp + march_avg_temp + \n",
       "    june_avg_temp + september_avg_temp + facility_type, data = training)\n",
       "\n",
       "Residuals:\n",
       "   Min     1Q Median     3Q    Max \n",
       "-91.55 -17.81  -3.69  13.28 830.17 \n",
       "\n",
       "Coefficients:\n",
       "                                                    Estimate Std. Error t value\n",
       "(Intercept)                                        1.128e+02  1.428e+01   7.904\n",
       "floor_area                                        -1.040e-06  1.384e-06  -0.752\n",
       "january_avg_temp                                   4.189e-01  9.370e-02   4.471\n",
       "march_avg_temp                                    -6.892e-01  5.765e-02 -11.954\n",
       "june_avg_temp                                     -9.370e-01  1.675e-01  -5.594\n",
       "september_avg_temp                                -6.255e-02  1.026e-01  -0.609\n",
       "facility_type5plus_Unit_Building                   4.908e+00  1.574e+00   3.119\n",
       "facility_typeMixed_Use_Commercial_and_Residential  6.131e+01  2.148e+00  28.551\n",
       "facility_typeMixed_Use_Predominantly_Commercial    4.266e+01  3.091e+00  13.805\n",
       "facility_typeMixed_Use_Predominantly_Residential   6.066e+01  1.388e+01   4.371\n",
       "facility_typeMultifamily_Uncategorized             5.906e+01  1.801e+00  32.791\n",
       "                                                  Pr(>|t|)    \n",
       "(Intercept)                                       2.78e-15 ***\n",
       "floor_area                                         0.45227    \n",
       "january_avg_temp                                  7.81e-06 ***\n",
       "march_avg_temp                                     < 2e-16 ***\n",
       "june_avg_temp                                     2.24e-08 ***\n",
       "september_avg_temp                                 0.54227    \n",
       "facility_type5plus_Unit_Building                   0.00181 ** \n",
       "facility_typeMixed_Use_Commercial_and_Residential  < 2e-16 ***\n",
       "facility_typeMixed_Use_Predominantly_Commercial    < 2e-16 ***\n",
       "facility_typeMixed_Use_Predominantly_Residential  1.24e-05 ***\n",
       "facility_typeMultifamily_Uncategorized             < 2e-16 ***\n",
       "---\n",
       "Signif. codes:  0 '***' 0.001 '**' 0.01 '*' 0.05 '.' 0.1 ' ' 1\n",
       "\n",
       "Residual standard error: 38.78 on 34838 degrees of freedom\n",
       "Multiple R-squared:  0.1062,\tAdjusted R-squared:  0.106 \n",
       "F-statistic: 414.1 on 10 and 34838 DF,  p-value: < 2.2e-16\n"
      ]
     },
     "metadata": {},
     "output_type": "display_data"
    }
   ],
   "source": [
    "model.ft <- lm(site_eui ~ floor_area + january_avg_temp+march_avg_temp+june_avg_temp+september_avg_temp+facility_type,data=training)\n",
    "summary(model.ft)"
   ]
  },
  {
   "cell_type": "code",
   "execution_count": 21,
   "metadata": {
    "collapsed": false,
    "pycharm": {
     "name": "#%%\n"
    }
   },
   "outputs": [
    {
     "data": {
      "text/html": [
       "39.5040795568998"
      ],
      "text/latex": [
       "39.5040795568998"
      ],
      "text/markdown": [
       "39.5040795568998"
      ],
      "text/plain": [
       "[1] 39.50408"
      ]
     },
     "metadata": {},
     "output_type": "display_data"
    }
   ],
   "source": [
    "# Predict on train set\n",
    "training$predicted_site_eui <- predict(model, newdata=training)\n",
    "rmse(training$site_eui, training$predicted_site_eui)"
   ]
  },
  {
   "cell_type": "code",
   "execution_count": 22,
   "metadata": {
    "collapsed": false,
    "pycharm": {
     "name": "#%%\n"
    }
   },
   "outputs": [
    {
     "data": {
      "text/html": [
       "40.363238595217"
      ],
      "text/latex": [
       "40.363238595217"
      ],
      "text/markdown": [
       "40.363238595217"
      ],
      "text/plain": [
       "[1] 40.36324"
      ]
     },
     "metadata": {},
     "output_type": "display_data"
    }
   ],
   "source": [
    "# Predict on train set\n",
    "testing$predicted_site_eui <- predict(model, newdata=testing)\n",
    "rmse(testing$site_eui, testing$predicted_site_eui)"
   ]
  },
  {
   "cell_type": "markdown",
   "metadata": {
    "collapsed": false,
    "pycharm": {
     "name": "#%%\n"
    }
   },
   "source": [
    "## Model with Facility type"
   ]
  },
  {
   "cell_type": "code",
   "execution_count": null,
   "metadata": {},
   "outputs": [],
   "source": [
    "ft.model <- lm(site_eui ~ floor_area + january_avg_temp+march_avg_temp+june_avg_temp+september_avg_temp+   ,data=training)\n",
    "summary(model)"
   ]
  },
  {
   "cell_type": "code",
   "execution_count": 25,
   "metadata": {},
   "outputs": [
    {
     "data": {
      "text/html": [
       "39.5040795568998"
      ],
      "text/latex": [
       "39.5040795568998"
      ],
      "text/markdown": [
       "39.5040795568998"
      ],
      "text/plain": [
       "[1] 39.50408"
      ]
     },
     "metadata": {},
     "output_type": "display_data"
    }
   ],
   "source": [
    "# Predict on train set\n",
    "training$predicted_site_eui <- predict(model, newdata=training)\n",
    "rmse(training$site_eui, training$predicted_site_eui)"
   ]
  },
  {
   "cell_type": "code",
   "execution_count": 26,
   "metadata": {},
   "outputs": [
    {
     "data": {
      "text/html": [
       "40.363238595217"
      ],
      "text/latex": [
       "40.363238595217"
      ],
      "text/markdown": [
       "40.363238595217"
      ],
      "text/plain": [
       "[1] 40.36324"
      ]
     },
     "metadata": {},
     "output_type": "display_data"
    }
   ],
   "source": [
    "# Predict on train set\n",
    "testing$predicted_site_eui <- predict(model, newdata=testing)\n",
    "rmse(testing$site_eui, testing$predicted_site_eui)"
   ]
  },
  {
   "cell_type": "markdown",
   "metadata": {},
   "source": [
    "### Dropping of Facility type"
   ]
  },
  {
   "cell_type": "markdown",
   "metadata": {},
   "source": [
    "## Trying above model with log transforms "
   ]
  },
  {
   "cell_type": "markdown",
   "metadata": {},
   "source": [
    "### Log transform site eui"
   ]
  },
  {
   "cell_type": "code",
   "execution_count": 33,
   "metadata": {},
   "outputs": [
    {
     "data": {
      "text/plain": [
       "\n",
       "Call:\n",
       "lm(formula = log(site_eui) ~ floor_area + january_avg_temp + \n",
       "    march_avg_temp + june_avg_temp + september_avg_temp, data = training)\n",
       "\n",
       "Residuals:\n",
       "    Min      1Q  Median      3Q     Max \n",
       "-4.3070 -0.1838  0.0555  0.2705  3.2198 \n",
       "\n",
       "Coefficients:\n",
       "                     Estimate Std. Error t value Pr(>|t|)    \n",
       "(Intercept)        -8.583e-01  1.409e-01  -6.090 1.14e-09 ***\n",
       "floor_area          3.924e-08  1.811e-08   2.167  0.03024 *  \n",
       "january_avg_temp   -5.847e-03  1.165e-03  -5.017 5.27e-07 ***\n",
       "march_avg_temp     -2.220e-03  7.484e-04  -2.967  0.00301 ** \n",
       "june_avg_temp       4.959e-02  1.630e-03  30.425  < 2e-16 ***\n",
       "september_avg_temp  2.667e-02  1.193e-03  22.352  < 2e-16 ***\n",
       "---\n",
       "Signif. codes:  0 '***' 0.001 '**' 0.01 '*' 0.05 '.' 0.1 ' ' 1\n",
       "\n",
       "Residual standard error: 0.5098 on 34843 degrees of freedom\n",
       "Multiple R-squared:  0.1414,\tAdjusted R-squared:  0.1413 \n",
       "F-statistic:  1148 on 5 and 34843 DF,  p-value: < 2.2e-16\n"
      ]
     },
     "metadata": {},
     "output_type": "display_data"
    }
   ],
   "source": [
    "model.se.log <- lm(log(site_eui) ~ floor_area + january_avg_temp+march_avg_temp+june_avg_temp+september_avg_temp,data=training)\n",
    "summary(model.se.log)"
   ]
  },
  {
   "cell_type": "code",
   "execution_count": 38,
   "metadata": {},
   "outputs": [
    {
     "data": {
      "text/html": [
       "0.509790315038549"
      ],
      "text/latex": [
       "0.509790315038549"
      ],
      "text/markdown": [
       "0.509790315038549"
      ],
      "text/plain": [
       "[1] 0.5097903"
      ]
     },
     "metadata": {},
     "output_type": "display_data"
    }
   ],
   "source": [
    "# Predict on train set trnsfrom to ln\n",
    "training$predicted_site_eui <- predict(model.se.log, newdata=training)\n",
    "rmse(log(training$site_eui), training$predicted_site_eui)"
   ]
  },
  {
   "cell_type": "code",
   "execution_count": 39,
   "metadata": {},
   "outputs": [
    {
     "data": {
      "text/html": [
       "0.51512684767383"
      ],
      "text/latex": [
       "0.51512684767383"
      ],
      "text/markdown": [
       "0.51512684767383"
      ],
      "text/plain": [
       "[1] 0.5151268"
      ]
     },
     "metadata": {},
     "output_type": "display_data"
    }
   ],
   "source": [
    "# Predict on train set trnsfrom to ln\n",
    "testing$predicted_site_eui <- predict(model.se.log, newdata=testing)\n",
    "rmse(log(testing$site_eui), testing$predicted_site_eui)"
   ]
  },
  {
   "cell_type": "code",
   "execution_count": 40,
   "metadata": {},
   "outputs": [
    {
     "data": {
      "text/html": [
       "40.574109278494"
      ],
      "text/latex": [
       "40.574109278494"
      ],
      "text/markdown": [
       "40.574109278494"
      ],
      "text/plain": [
       "[1] 40.57411"
      ]
     },
     "metadata": {},
     "output_type": "display_data"
    }
   ],
   "source": [
    "training$predicted_site_eui <- predict(model.se.log, newdata=training)\n",
    "rmse(training$site_eui, exp(training$predicted_site_eui))"
   ]
  },
  {
   "cell_type": "code",
   "execution_count": 41,
   "metadata": {},
   "outputs": [
    {
     "data": {
      "text/html": [
       "41.5077690089204"
      ],
      "text/latex": [
       "41.5077690089204"
      ],
      "text/markdown": [
       "41.5077690089204"
      ],
      "text/plain": [
       "[1] 41.50777"
      ]
     },
     "metadata": {},
     "output_type": "display_data"
    }
   ],
   "source": [
    "testing$predicted_site_eui <- predict(model.se.log, newdata=testing)\n",
    "rmse(testing$site_eui, exp(testing$predicted_site_eui))"
   ]
  },
  {
   "cell_type": "markdown",
   "metadata": {},
   "source": [
    "### Log transform floor area"
   ]
  },
  {
   "cell_type": "code",
   "execution_count": 43,
   "metadata": {},
   "outputs": [
    {
     "data": {
      "text/plain": [
       "\n",
       "Call:\n",
       "lm(formula = site_eui ~ log(floor_area) + january_avg_temp + \n",
       "    march_avg_temp + june_avg_temp + september_avg_temp, data = training)\n",
       "\n",
       "Residuals:\n",
       "   Min     1Q Median     3Q    Max \n",
       "-93.25 -19.42  -3.91  14.12 861.13 \n",
       "\n",
       "Coefficients:\n",
       "                     Estimate Std. Error t value Pr(>|t|)    \n",
       "(Intercept)        -179.68188   11.37652 -15.794  < 2e-16 ***\n",
       "log(floor_area)      -0.65353    0.31488  -2.075    0.038 *  \n",
       "january_avg_temp     -0.10669    0.09063  -1.177    0.239    \n",
       "march_avg_temp       -0.43393    0.05803  -7.477 7.78e-14 ***\n",
       "june_avg_temp         2.71691    0.12675  21.436  < 2e-16 ***\n",
       "september_avg_temp    1.37062    0.09236  14.839  < 2e-16 ***\n",
       "---\n",
       "Signif. codes:  0 '***' 0.001 '**' 0.01 '*' 0.05 '.' 0.1 ' ' 1\n",
       "\n",
       "Residual standard error: 39.51 on 34843 degrees of freedom\n",
       "Multiple R-squared:  0.07223,\tAdjusted R-squared:  0.0721 \n",
       "F-statistic: 542.6 on 5 and 34843 DF,  p-value: < 2.2e-16\n"
      ]
     },
     "metadata": {},
     "output_type": "display_data"
    }
   ],
   "source": [
    "model.fa.log <- lm(site_eui ~ log(floor_area) + january_avg_temp+march_avg_temp+june_avg_temp+september_avg_temp,data=training)\n",
    "summary(model.fa.log)"
   ]
  },
  {
   "cell_type": "code",
   "execution_count": 47,
   "metadata": {},
   "outputs": [
    {
     "data": {
      "text/html": [
       "39.5045879536938"
      ],
      "text/latex": [
       "39.5045879536938"
      ],
      "text/markdown": [
       "39.5045879536938"
      ],
      "text/plain": [
       "[1] 39.50459"
      ]
     },
     "metadata": {},
     "output_type": "display_data"
    }
   ],
   "source": [
    "# Predict on train set trnsfrom to ln\n",
    "training$predicted_site_eui <- predict(model.fa.log, newdata=training)\n",
    "rmse(training$site_eui, training$predicted_site_eui)"
   ]
  },
  {
   "cell_type": "code",
   "execution_count": 48,
   "metadata": {},
   "outputs": [
    {
     "data": {
      "text/html": [
       "40.3632599617617"
      ],
      "text/latex": [
       "40.3632599617617"
      ],
      "text/markdown": [
       "40.3632599617617"
      ],
      "text/plain": [
       "[1] 40.36326"
      ]
     },
     "metadata": {},
     "output_type": "display_data"
    }
   ],
   "source": [
    "# Predict on train set trnsfrom to ln\n",
    "testing$predicted_site_eui <- predict(model.fa.log, newdata=testing)\n",
    "rmse(testing$site_eui, testing$predicted_site_eui)"
   ]
  },
  {
   "cell_type": "markdown",
   "metadata": {},
   "source": [
    "### Log transform  both"
   ]
  },
  {
   "cell_type": "code",
   "execution_count": 50,
   "metadata": {},
   "outputs": [
    {
     "data": {
      "text/plain": [
       "\n",
       "Call:\n",
       "lm(formula = log(site_eui) ~ log(floor_area) + january_avg_temp + \n",
       "    march_avg_temp + june_avg_temp + september_avg_temp, data = training)\n",
       "\n",
       "Residuals:\n",
       "    Min      1Q  Median      3Q     Max \n",
       "-4.3083 -0.1840  0.0550  0.2705  3.2235 \n",
       "\n",
       "Coefficients:\n",
       "                     Estimate Std. Error t value Pr(>|t|)    \n",
       "(Intercept)        -0.8905650  0.1468154  -6.066 1.33e-09 ***\n",
       "log(floor_area)     0.0054199  0.0040636   1.334  0.18229    \n",
       "january_avg_temp   -0.0059497  0.0011696  -5.087 3.65e-07 ***\n",
       "march_avg_temp     -0.0021892  0.0007489  -2.923  0.00347 ** \n",
       "june_avg_temp       0.0493619  0.0016357  30.178  < 2e-16 ***\n",
       "september_avg_temp  0.0265755  0.0011920  22.295  < 2e-16 ***\n",
       "---\n",
       "Signif. codes:  0 '***' 0.001 '**' 0.01 '*' 0.05 '.' 0.1 ' ' 1\n",
       "\n",
       "Residual standard error: 0.5099 on 34843 degrees of freedom\n",
       "Multiple R-squared:  0.1413,\tAdjusted R-squared:  0.1412 \n",
       "F-statistic:  1147 on 5 and 34843 DF,  p-value: < 2.2e-16\n"
      ]
     },
     "metadata": {},
     "output_type": "display_data"
    }
   ],
   "source": [
    "model.fa.both <- lm(log(site_eui) ~ log(floor_area) + january_avg_temp+march_avg_temp+june_avg_temp+september_avg_temp,data=training)\n",
    "summary(model.fa.both)"
   ]
  },
  {
   "cell_type": "code",
   "execution_count": 51,
   "metadata": {},
   "outputs": [
    {
     "data": {
      "text/html": [
       "40.5806358860366"
      ],
      "text/latex": [
       "40.5806358860366"
      ],
      "text/markdown": [
       "40.5806358860366"
      ],
      "text/plain": [
       "[1] 40.58064"
      ]
     },
     "metadata": {},
     "output_type": "display_data"
    }
   ],
   "source": [
    "# Predict on train set trnsfrom to ln\n",
    "training$predicted_site_eui <- predict(model.fa.both, newdata=training)\n",
    "rmse(training$site_eui, exp(training$predicted_site_eui))"
   ]
  },
  {
   "cell_type": "code",
   "execution_count": 52,
   "metadata": {},
   "outputs": [
    {
     "data": {
      "text/html": [
       "41.5127966432006"
      ],
      "text/latex": [
       "41.5127966432006"
      ],
      "text/markdown": [
       "41.5127966432006"
      ],
      "text/plain": [
       "[1] 41.5128"
      ]
     },
     "metadata": {},
     "output_type": "display_data"
    }
   ],
   "source": [
    "# Predict on train set trnsfrom to ln\n",
    "testing$predicted_site_eui <- predict(model.fa.both, newdata=testing)\n",
    "rmse(testing$site_eui, exp(testing$predicted_site_eui))"
   ]
  },
  {
   "cell_type": "code",
   "execution_count": null,
   "metadata": {},
   "outputs": [],
   "source": []
  }
 ],
 "metadata": {
  "kernelspec": {
   "display_name": "R",
   "language": "R",
   "name": "ir"
  },
  "language_info": {
   "codemirror_mode": "r",
   "file_extension": ".r",
   "mimetype": "text/x-r-source",
   "name": "R",
   "pygments_lexer": "r",
   "version": "4.1.1"
  },
  "orig_nbformat": 4
 },
 "nbformat": 4,
 "nbformat_minor": 2
}
