{
 "cells": [
  {
   "cell_type": "code",
   "execution_count": 1,
   "metadata": {},
   "outputs": [
    {
     "name": "stdout",
     "output_type": "stream",
     "text": [
      "[1] \"Hello Zuko Here !!!\"\n"
     ]
    }
   ],
   "source": [
    "print(\"Hello Zuko Here !!!\")"
   ]
  },
  {
   "cell_type": "code",
   "execution_count": 2,
   "metadata": {},
   "outputs": [
    {
     "name": "stderr",
     "output_type": "stream",
     "text": [
      "\n",
      "Attaching package: 'dplyr'\n",
      "\n",
      "\n",
      "The following objects are masked from 'package:stats':\n",
      "\n",
      "    filter, lag\n",
      "\n",
      "\n",
      "The following objects are masked from 'package:base':\n",
      "\n",
      "    intersect, setdiff, setequal, union\n",
      "\n",
      "\n",
      "Warning message:\n",
      "\"package 'IRdisplay' was built under R version 4.1.2\"\n",
      "Warning message:\n",
      "\"package 'Metrics' was built under R version 4.1.2\"\n",
      "Warning message:\n",
      "\"package 'caret' was built under R version 4.1.2\"\n",
      "Loading required package: lattice\n",
      "\n",
      "\n",
      "Attaching package: 'caret'\n",
      "\n",
      "\n",
      "The following objects are masked from 'package:Metrics':\n",
      "\n",
      "    precision, recall\n",
      "\n",
      "\n",
      "Warning message:\n",
      "\"package 'randomForest' was built under R version 4.1.2\"\n",
      "randomForest 4.7-1\n",
      "\n",
      "Type rfNews() to see new features/changes/bug fixes.\n",
      "\n",
      "\n",
      "Attaching package: 'randomForest'\n",
      "\n",
      "\n",
      "The following object is masked from 'package:ggplot2':\n",
      "\n",
      "    margin\n",
      "\n",
      "\n",
      "The following object is masked from 'package:dplyr':\n",
      "\n",
      "    combine\n",
      "\n",
      "\n"
     ]
    }
   ],
   "source": [
    "library(tidyr)\n",
    "library(dplyr)\n",
    "library(IRdisplay)\n",
    "library(ggplot2)\n",
    "library(Metrics)\n",
    "library(caret)\n",
    "library(randomForest)"
   ]
  },
  {
   "cell_type": "code",
   "execution_count": 3,
   "metadata": {},
   "outputs": [],
   "source": [
    "path <- \"D:/jupyterlab/silicon-valley-chapter-data-science-for-climate-change/src/data/train.csv\""
   ]
  },
  {
   "cell_type": "code",
   "execution_count": 4,
   "metadata": {},
   "outputs": [],
   "source": [
    "df.climate <- read.csv(path)"
   ]
  },
  {
   "cell_type": "markdown",
   "metadata": {},
   "source": [
    "# We will use Random Forest on Entire Dataset"
   ]
  },
  {
   "cell_type": "code",
   "execution_count": 5,
   "metadata": {},
   "outputs": [],
   "source": [
    " #Split into train and test\n",
    "set.seed(123)\n",
    "intrain<-createDataPartition(y=df.climate$facility_type,p=0.8,list=FALSE)\n",
    "training<-df.climate[intrain,]\n",
    "testing<-df.climate[-intrain,]"
   ]
  },
  {
   "cell_type": "code",
   "execution_count": 11,
   "metadata": {},
   "outputs": [],
   "source": [
    "# Create a Random Forest model with default parameters\n",
    "set.seed(120)  # Setting seed\n",
    "model1 <- randomForest(site_eui ~ floor_area +\n",
    "                                     january_avg_temp+\n",
    "                                     march_avg_temp+\n",
    "                                     june_avg_temp+\n",
    "                                     september_avg_temp+\n",
    "                                     facility_type+\n",
    "                                     building_class, \n",
    "                                     data = training,\n",
    "                                     tree = 500,\n",
    "                                     nodesize = 1000,\n",
    "                                     maxnodes = 20\n",
    "                                     )"
   ]
  },
  {
   "cell_type": "code",
   "execution_count": 15,
   "metadata": {},
   "outputs": [
    {
     "data": {
      "text/plain": [
       "                Length Class  Mode     \n",
       "call                6  -none- call     \n",
       "type                1  -none- character\n",
       "predicted       60631  -none- numeric  \n",
       "mse               500  -none- numeric  \n",
       "rsq               500  -none- numeric  \n",
       "oob.times       60631  -none- numeric  \n",
       "importance          7  -none- numeric  \n",
       "importanceSD        0  -none- NULL     \n",
       "localImportance     0  -none- NULL     \n",
       "proximity           0  -none- NULL     \n",
       "ntree               1  -none- numeric  \n",
       "mtry                1  -none- numeric  \n",
       "forest             11  -none- list     \n",
       "coefs               0  -none- NULL     \n",
       "y               60631  -none- numeric  \n",
       "test                0  -none- NULL     \n",
       "inbag               0  -none- NULL     \n",
       "terms               3  terms  call     "
      ]
     },
     "metadata": {},
     "output_type": "display_data"
    }
   ],
   "source": [
    "summary(model1)"
   ]
  },
  {
   "cell_type": "code",
   "execution_count": 16,
   "metadata": {},
   "outputs": [
    {
     "data": {
      "text/html": [
       "55.0473783793092"
      ],
      "text/latex": [
       "55.0473783793092"
      ],
      "text/markdown": [
       "55.0473783793092"
      ],
      "text/plain": [
       "[1] 55.04738"
      ]
     },
     "metadata": {},
     "output_type": "display_data"
    }
   ],
   "source": [
    "# Predict on train set\n",
    "training$predicted_site_eui <- predict(model1, newdata=training)\n",
    "rmse(training$site_eui, training$predicted_site_eui)"
   ]
  },
  {
   "cell_type": "code",
   "execution_count": 17,
   "metadata": {},
   "outputs": [
    {
     "data": {
      "text/html": [
       "54.5633504258748"
      ],
      "text/latex": [
       "54.5633504258748"
      ],
      "text/markdown": [
       "54.5633504258748"
      ],
      "text/plain": [
       "[1] 54.56335"
      ]
     },
     "metadata": {},
     "output_type": "display_data"
    }
   ],
   "source": [
    "# Predict on train set\n",
    "testing$predicted_site_eui <- predict(model1, newdata=testing)\n",
    "rmse(testing$site_eui, testing$predicted_site_eui)"
   ]
  },
  {
   "cell_type": "code",
   "execution_count": null,
   "metadata": {},
   "outputs": [],
   "source": []
  }
 ],
 "metadata": {
  "kernelspec": {
   "display_name": "R",
   "language": "R",
   "name": "ir"
  },
  "language_info": {
   "codemirror_mode": "r",
   "file_extension": ".r",
   "mimetype": "text/x-r-source",
   "name": "R",
   "pygments_lexer": "r",
   "version": "4.1.1"
  },
  "orig_nbformat": 4
 },
 "nbformat": 4,
 "nbformat_minor": 2
}
