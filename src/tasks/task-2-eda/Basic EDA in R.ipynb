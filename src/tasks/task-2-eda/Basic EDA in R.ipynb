{
 "cells": [
  {
   "cell_type": "code",
   "execution_count": 1,
   "metadata": {
    "collapsed": false,
    "pycharm": {
     "name": "#%%\n"
    }
   },
   "outputs": [
    {
     "name": "stdout",
     "output_type": "stream",
     "text": [
      "[1] \"Hello Zuko Here !!!\"\n"
     ]
    }
   ],
   "source": [
    "print(\"Hello Zuko Here !!!\")"
   ]
  },
  {
   "cell_type": "markdown",
   "metadata": {
    "collapsed": false
   },
   "source": [
    "# Basic Methodlolgy"
   ]
  },
  {
   "cell_type": "markdown",
   "metadata": {
    "collapsed": false
   },
   "source": [
    "1) Transpose the Test Set\n",
    "2) Calculate the average of the average temperature per state\n",
    "3) Subtract it  from all the records to get the delta\n",
    "4) Normailze the deltas Statewise\n",
    "5) Take set of distinct values statewise\n",
    "6) Make a scatter plot of normailized deltas against Energy consumption\n",
    "7) See if LR is possible to get a basic idea if energy consumption varies with the deltas\n"
   ]
  },
  {
   "cell_type": "markdown",
   "metadata": {
    "collapsed": false
   },
   "source": [
    "# Data Transpose"
   ]
  },
  {
   "cell_type": "code",
   "execution_count": 2,
   "metadata": {
    "datalore": {
     "sheet_delimiter": false,
     "type": "CODE"
    },
    "jupyter": {
     "outputs_hidden": false,
     "source_hidden": false
    }
   },
   "outputs": [
    {
     "name": "stderr",
     "output_type": "stream",
     "text": [
      "\n",
      "Attaching package: 'dplyr'\n",
      "\n",
      "\n",
      "The following objects are masked from 'package:stats':\n",
      "\n",
      "    filter, lag\n",
      "\n",
      "\n",
      "The following objects are masked from 'package:base':\n",
      "\n",
      "    intersect, setdiff, setequal, union\n",
      "\n",
      "\n",
      "Warning message:\n",
      "\"package 'IRdisplay' was built under R version 4.1.2\"\n"
     ]
    }
   ],
   "source": [
    "library(tidyr)\n",
    "library(dplyr)\n",
    "library(IRdisplay)"
   ]
  },
  {
   "cell_type": "code",
   "execution_count": 3,
   "metadata": {
    "collapsed": false,
    "pycharm": {
     "name": "#%%\n"
    }
   },
   "outputs": [],
   "source": [
    "path = 'D:\\\\jupyterlab\\\\silicon-valley-chapter-data-science-for-climate-change\\\\src\\\\data\\\\train.csv'"
   ]
  },
  {
   "cell_type": "code",
   "execution_count": 4,
   "metadata": {
    "datalore": {
     "sheet_delimiter": false,
     "type": "CODE"
    },
    "jupyter": {
     "outputs_hidden": false,
     "source_hidden": false
    }
   },
   "outputs": [],
   "source": [
    "df = read.csv(path, encoding='utf-8')"
   ]
  },
  {
   "cell_type": "code",
   "execution_count": 5,
   "metadata": {
    "datalore": {
     "sheet_delimiter": false,
     "type": "CODE"
    },
    "jupyter": {
     "outputs_hidden": false,
     "source_hidden": false
    }
   },
   "outputs": [
    {
     "data": {
      "text/html": "<table class=\"dataframe\">\n<caption>A data.frame: 6 × 64</caption>\n<thead>\n\t<tr><th></th><th scope=col>Year_Factor</th><th scope=col>State_Factor</th><th scope=col>building_class</th><th scope=col>facility_type</th><th scope=col>floor_area</th><th scope=col>year_built</th><th scope=col>energy_star_rating</th><th scope=col>ELEVATION</th><th scope=col>january_min_temp</th><th scope=col>january_avg_temp</th><th scope=col>...</th><th scope=col>days_above_80F</th><th scope=col>days_above_90F</th><th scope=col>days_above_100F</th><th scope=col>days_above_110F</th><th scope=col>direction_max_wind_speed</th><th scope=col>direction_peak_wind_speed</th><th scope=col>max_wind_speed</th><th scope=col>days_with_fog</th><th scope=col>site_eui</th><th scope=col>id</th></tr>\n\t<tr><th></th><th scope=col>&lt;int&gt;</th><th scope=col>&lt;chr&gt;</th><th scope=col>&lt;chr&gt;</th><th scope=col>&lt;chr&gt;</th><th scope=col>&lt;dbl&gt;</th><th scope=col>&lt;dbl&gt;</th><th scope=col>&lt;dbl&gt;</th><th scope=col>&lt;dbl&gt;</th><th scope=col>&lt;int&gt;</th><th scope=col>&lt;dbl&gt;</th><th scope=col>...</th><th scope=col>&lt;int&gt;</th><th scope=col>&lt;int&gt;</th><th scope=col>&lt;int&gt;</th><th scope=col>&lt;int&gt;</th><th scope=col>&lt;dbl&gt;</th><th scope=col>&lt;dbl&gt;</th><th scope=col>&lt;dbl&gt;</th><th scope=col>&lt;dbl&gt;</th><th scope=col>&lt;dbl&gt;</th><th scope=col>&lt;int&gt;</th></tr>\n</thead>\n<tbody>\n\t<tr><th scope=row>1</th><td>1</td><td>State_1</td><td>Commercial</td><td>Grocery_store_or_food_market             </td><td> 61242</td><td>1942</td><td> 11</td><td>2.4</td><td>36</td><td>50.5</td><td>...</td><td>14</td><td>0</td><td>0</td><td>0</td><td>1</td><td> 1</td><td>1</td><td>NA</td><td>248.682615</td><td>0</td></tr>\n\t<tr><th scope=row>2</th><td>1</td><td>State_1</td><td>Commercial</td><td>Warehouse_Distribution_or_Shipping_center</td><td>274000</td><td>1955</td><td> 45</td><td>1.8</td><td>36</td><td>50.5</td><td>...</td><td>14</td><td>0</td><td>0</td><td>0</td><td>1</td><td>NA</td><td>1</td><td>12</td><td> 26.500150</td><td>1</td></tr>\n\t<tr><th scope=row>3</th><td>1</td><td>State_1</td><td>Commercial</td><td>Retail_Enclosed_mall                     </td><td>280025</td><td>1951</td><td> 97</td><td>1.8</td><td>36</td><td>50.5</td><td>...</td><td>14</td><td>0</td><td>0</td><td>0</td><td>1</td><td>NA</td><td>1</td><td>12</td><td> 24.693619</td><td>2</td></tr>\n\t<tr><th scope=row>4</th><td>1</td><td>State_1</td><td>Commercial</td><td>Education_Other_classroom                </td><td> 55325</td><td>1980</td><td> 46</td><td>1.8</td><td>36</td><td>50.5</td><td>...</td><td>14</td><td>0</td><td>0</td><td>0</td><td>1</td><td>NA</td><td>1</td><td>12</td><td> 48.406926</td><td>3</td></tr>\n\t<tr><th scope=row>5</th><td>1</td><td>State_1</td><td>Commercial</td><td>Warehouse_Nonrefrigerated                </td><td> 66000</td><td>1985</td><td>100</td><td>2.4</td><td>36</td><td>50.5</td><td>...</td><td>14</td><td>0</td><td>0</td><td>0</td><td>1</td><td> 1</td><td>1</td><td>NA</td><td>  3.899395</td><td>4</td></tr>\n\t<tr><th scope=row>6</th><td>1</td><td>State_1</td><td>Commercial</td><td>Warehouse_Selfstorage                    </td><td>119900</td><td>1956</td><td> NA</td><td>2.4</td><td>36</td><td>50.5</td><td>...</td><td>14</td><td>0</td><td>0</td><td>0</td><td>1</td><td> 1</td><td>1</td><td>NA</td><td>  6.597715</td><td>5</td></tr>\n</tbody>\n</table>\n",
      "text/markdown": "\nA data.frame: 6 × 64\n\n| <!--/--> | Year_Factor &lt;int&gt; | State_Factor &lt;chr&gt; | building_class &lt;chr&gt; | facility_type &lt;chr&gt; | floor_area &lt;dbl&gt; | year_built &lt;dbl&gt; | energy_star_rating &lt;dbl&gt; | ELEVATION &lt;dbl&gt; | january_min_temp &lt;int&gt; | january_avg_temp &lt;dbl&gt; | ... ... | days_above_80F &lt;int&gt; | days_above_90F &lt;int&gt; | days_above_100F &lt;int&gt; | days_above_110F &lt;int&gt; | direction_max_wind_speed &lt;dbl&gt; | direction_peak_wind_speed &lt;dbl&gt; | max_wind_speed &lt;dbl&gt; | days_with_fog &lt;dbl&gt; | site_eui &lt;dbl&gt; | id &lt;int&gt; |\n|---|---|---|---|---|---|---|---|---|---|---|---|---|---|---|---|---|---|---|---|---|---|\n| 1 | 1 | State_1 | Commercial | Grocery_store_or_food_market              |  61242 | 1942 |  11 | 2.4 | 36 | 50.5 | ... | 14 | 0 | 0 | 0 | 1 |  1 | 1 | NA | 248.682615 | 0 |\n| 2 | 1 | State_1 | Commercial | Warehouse_Distribution_or_Shipping_center | 274000 | 1955 |  45 | 1.8 | 36 | 50.5 | ... | 14 | 0 | 0 | 0 | 1 | NA | 1 | 12 |  26.500150 | 1 |\n| 3 | 1 | State_1 | Commercial | Retail_Enclosed_mall                      | 280025 | 1951 |  97 | 1.8 | 36 | 50.5 | ... | 14 | 0 | 0 | 0 | 1 | NA | 1 | 12 |  24.693619 | 2 |\n| 4 | 1 | State_1 | Commercial | Education_Other_classroom                 |  55325 | 1980 |  46 | 1.8 | 36 | 50.5 | ... | 14 | 0 | 0 | 0 | 1 | NA | 1 | 12 |  48.406926 | 3 |\n| 5 | 1 | State_1 | Commercial | Warehouse_Nonrefrigerated                 |  66000 | 1985 | 100 | 2.4 | 36 | 50.5 | ... | 14 | 0 | 0 | 0 | 1 |  1 | 1 | NA |   3.899395 | 4 |\n| 6 | 1 | State_1 | Commercial | Warehouse_Selfstorage                     | 119900 | 1956 |  NA | 2.4 | 36 | 50.5 | ... | 14 | 0 | 0 | 0 | 1 |  1 | 1 | NA |   6.597715 | 5 |\n\n",
      "text/latex": "A data.frame: 6 × 64\n\\begin{tabular}{r|lllllllllllllllllllll}\n  & Year\\_Factor & State\\_Factor & building\\_class & facility\\_type & floor\\_area & year\\_built & energy\\_star\\_rating & ELEVATION & january\\_min\\_temp & january\\_avg\\_temp & ... & days\\_above\\_80F & days\\_above\\_90F & days\\_above\\_100F & days\\_above\\_110F & direction\\_max\\_wind\\_speed & direction\\_peak\\_wind\\_speed & max\\_wind\\_speed & days\\_with\\_fog & site\\_eui & id\\\\\n  & <int> & <chr> & <chr> & <chr> & <dbl> & <dbl> & <dbl> & <dbl> & <int> & <dbl> & ... & <int> & <int> & <int> & <int> & <dbl> & <dbl> & <dbl> & <dbl> & <dbl> & <int>\\\\\n\\hline\n\t1 & 1 & State\\_1 & Commercial & Grocery\\_store\\_or\\_food\\_market              &  61242 & 1942 &  11 & 2.4 & 36 & 50.5 & ... & 14 & 0 & 0 & 0 & 1 &  1 & 1 & NA & 248.682615 & 0\\\\\n\t2 & 1 & State\\_1 & Commercial & Warehouse\\_Distribution\\_or\\_Shipping\\_center & 274000 & 1955 &  45 & 1.8 & 36 & 50.5 & ... & 14 & 0 & 0 & 0 & 1 & NA & 1 & 12 &  26.500150 & 1\\\\\n\t3 & 1 & State\\_1 & Commercial & Retail\\_Enclosed\\_mall                      & 280025 & 1951 &  97 & 1.8 & 36 & 50.5 & ... & 14 & 0 & 0 & 0 & 1 & NA & 1 & 12 &  24.693619 & 2\\\\\n\t4 & 1 & State\\_1 & Commercial & Education\\_Other\\_classroom                 &  55325 & 1980 &  46 & 1.8 & 36 & 50.5 & ... & 14 & 0 & 0 & 0 & 1 & NA & 1 & 12 &  48.406926 & 3\\\\\n\t5 & 1 & State\\_1 & Commercial & Warehouse\\_Nonrefrigerated                 &  66000 & 1985 & 100 & 2.4 & 36 & 50.5 & ... & 14 & 0 & 0 & 0 & 1 &  1 & 1 & NA &   3.899395 & 4\\\\\n\t6 & 1 & State\\_1 & Commercial & Warehouse\\_Selfstorage                     & 119900 & 1956 &  NA & 2.4 & 36 & 50.5 & ... & 14 & 0 & 0 & 0 & 1 &  1 & 1 & NA &   6.597715 & 5\\\\\n\\end{tabular}\n",
      "text/plain": "  Year_Factor State_Factor building_class\n1 1           State_1      Commercial    \n2 1           State_1      Commercial    \n3 1           State_1      Commercial    \n4 1           State_1      Commercial    \n5 1           State_1      Commercial    \n6 1           State_1      Commercial    \n  facility_type                             floor_area year_built\n1 Grocery_store_or_food_market               61242     1942      \n2 Warehouse_Distribution_or_Shipping_center 274000     1955      \n3 Retail_Enclosed_mall                      280025     1951      \n4 Education_Other_classroom                  55325     1980      \n5 Warehouse_Nonrefrigerated                  66000     1985      \n6 Warehouse_Selfstorage                     119900     1956      \n  energy_star_rating ELEVATION january_min_temp january_avg_temp ...\n1  11                2.4       36               50.5             ...\n2  45                1.8       36               50.5             ...\n3  97                1.8       36               50.5             ...\n4  46                1.8       36               50.5             ...\n5 100                2.4       36               50.5             ...\n6  NA                2.4       36               50.5             ...\n  days_above_80F days_above_90F days_above_100F days_above_110F\n1 14             0              0               0              \n2 14             0              0               0              \n3 14             0              0               0              \n4 14             0              0               0              \n5 14             0              0               0              \n6 14             0              0               0              \n  direction_max_wind_speed direction_peak_wind_speed max_wind_speed\n1 1                         1                        1             \n2 1                        NA                        1             \n3 1                        NA                        1             \n4 1                        NA                        1             \n5 1                         1                        1             \n6 1                         1                        1             \n  days_with_fog site_eui   id\n1 NA            248.682615 0 \n2 12             26.500150 1 \n3 12             24.693619 2 \n4 12             48.406926 3 \n5 NA              3.899395 4 \n6 NA              6.597715 5 "
     },
     "metadata": {},
     "output_type": "display_data"
    }
   ],
   "source": [
    "head(df)"
   ]
  },
  {
   "cell_type": "code",
   "execution_count": 6,
   "metadata": {
    "datalore": {
     "sheet_delimiter": false,
     "type": "CODE"
    },
    "jupyter": {
     "outputs_hidden": false,
     "source_hidden": false
    }
   },
   "outputs": [],
   "source": [
    "months = c('january','february','march','april','may','june','july','august','september','october','november','december')\n",
    "types = c('min','avg','max')"
   ]
  },
  {
   "cell_type": "code",
   "execution_count": 7,
   "metadata": {
    "datalore": {
     "sheet_delimiter": false,
     "type": "CODE"
    },
    "jupyter": {
     "outputs_hidden": false,
     "source_hidden": false
    }
   },
   "outputs": [],
   "source": [
    "col_list <- vector()\n",
    "for (month in months){\n",
    "    for (type in types){\n",
    "\n",
    "        col_name = paste(month,'_',type,'_','temp',sep = '')\n",
    "        col_list = c(col_list,col_name)\n",
    "    }\n",
    "\n",
    "\n",
    "}"
   ]
  },
  {
   "cell_type": "code",
   "execution_count": 8,
   "metadata": {
    "datalore": {
     "sheet_delimiter": false,
     "type": "CODE"
    },
    "jupyter": {
     "outputs_hidden": false,
     "source_hidden": false
    }
   },
   "outputs": [
    {
     "name": "stderr",
     "output_type": "stream",
     "text": [
      "Note: Using an external vector in selections is ambiguous.\n",
      "\u001B[34mi\u001B[39m Use `all_of(col_list)` instead of `col_list` to silence this message.\n",
      "\u001B[34mi\u001B[39m See <https://tidyselect.r-lib.org/reference/faq-external-vector.html>.\n",
      "\u001B[90mThis message is displayed once per session.\u001B[39m\n",
      "\n"
     ]
    }
   ],
   "source": [
    "df.long <- \n",
    "\n",
    "df %>% \n",
    "  pivot_longer(\n",
    "    cols = col_list, \n",
    "    names_to = \"month\", \n",
    "    values_to = \"temp\",\n",
    "    values_drop_na = TRUE\n",
    "  )"
   ]
  },
  {
   "cell_type": "code",
   "execution_count": 9,
   "metadata": {
    "datalore": {
     "sheet_delimiter": false,
     "type": "CODE"
    },
    "jupyter": {
     "outputs_hidden": false,
     "source_hidden": false
    }
   },
   "outputs": [
    {
     "data": {
      "text/html": [
       "<table class=\"dataframe\">\n",
       "<caption>A tibble: 6 × 30</caption>\n",
       "<thead>\n",
       "\t<tr><th scope=col>Year_Factor</th><th scope=col>State_Factor</th><th scope=col>building_class</th><th scope=col>facility_type</th><th scope=col>floor_area</th><th scope=col>year_built</th><th scope=col>energy_star_rating</th><th scope=col>ELEVATION</th><th scope=col>cooling_degree_days</th><th scope=col>heating_degree_days</th><th scope=col>...</th><th scope=col>days_above_100F</th><th scope=col>days_above_110F</th><th scope=col>direction_max_wind_speed</th><th scope=col>direction_peak_wind_speed</th><th scope=col>max_wind_speed</th><th scope=col>days_with_fog</th><th scope=col>site_eui</th><th scope=col>id</th><th scope=col>month</th><th scope=col>temp</th></tr>\n",
       "\t<tr><th scope=col>&lt;int&gt;</th><th scope=col>&lt;chr&gt;</th><th scope=col>&lt;chr&gt;</th><th scope=col>&lt;chr&gt;</th><th scope=col>&lt;dbl&gt;</th><th scope=col>&lt;dbl&gt;</th><th scope=col>&lt;dbl&gt;</th><th scope=col>&lt;dbl&gt;</th><th scope=col>&lt;int&gt;</th><th scope=col>&lt;int&gt;</th><th scope=col>...</th><th scope=col>&lt;int&gt;</th><th scope=col>&lt;int&gt;</th><th scope=col>&lt;dbl&gt;</th><th scope=col>&lt;dbl&gt;</th><th scope=col>&lt;dbl&gt;</th><th scope=col>&lt;dbl&gt;</th><th scope=col>&lt;dbl&gt;</th><th scope=col>&lt;int&gt;</th><th scope=col>&lt;chr&gt;</th><th scope=col>&lt;dbl&gt;</th></tr>\n",
       "</thead>\n",
       "<tbody>\n",
       "\t<tr><td>1</td><td>State_1</td><td>Commercial</td><td>Grocery_store_or_food_market</td><td>61242</td><td>1942</td><td>11</td><td>2.4</td><td>115</td><td>2960</td><td>...</td><td>0</td><td>0</td><td>1</td><td>1</td><td>1</td><td>NA</td><td>248.6826</td><td>0</td><td>january_min_temp </td><td>36.00000</td></tr>\n",
       "\t<tr><td>1</td><td>State_1</td><td>Commercial</td><td>Grocery_store_or_food_market</td><td>61242</td><td>1942</td><td>11</td><td>2.4</td><td>115</td><td>2960</td><td>...</td><td>0</td><td>0</td><td>1</td><td>1</td><td>1</td><td>NA</td><td>248.6826</td><td>0</td><td>january_avg_temp </td><td>50.50000</td></tr>\n",
       "\t<tr><td>1</td><td>State_1</td><td>Commercial</td><td>Grocery_store_or_food_market</td><td>61242</td><td>1942</td><td>11</td><td>2.4</td><td>115</td><td>2960</td><td>...</td><td>0</td><td>0</td><td>1</td><td>1</td><td>1</td><td>NA</td><td>248.6826</td><td>0</td><td>january_max_temp </td><td>68.00000</td></tr>\n",
       "\t<tr><td>1</td><td>State_1</td><td>Commercial</td><td>Grocery_store_or_food_market</td><td>61242</td><td>1942</td><td>11</td><td>2.4</td><td>115</td><td>2960</td><td>...</td><td>0</td><td>0</td><td>1</td><td>1</td><td>1</td><td>NA</td><td>248.6826</td><td>0</td><td>february_min_temp</td><td>35.00000</td></tr>\n",
       "\t<tr><td>1</td><td>State_1</td><td>Commercial</td><td>Grocery_store_or_food_market</td><td>61242</td><td>1942</td><td>11</td><td>2.4</td><td>115</td><td>2960</td><td>...</td><td>0</td><td>0</td><td>1</td><td>1</td><td>1</td><td>NA</td><td>248.6826</td><td>0</td><td>february_avg_temp</td><td>50.58929</td></tr>\n",
       "\t<tr><td>1</td><td>State_1</td><td>Commercial</td><td>Grocery_store_or_food_market</td><td>61242</td><td>1942</td><td>11</td><td>2.4</td><td>115</td><td>2960</td><td>...</td><td>0</td><td>0</td><td>1</td><td>1</td><td>1</td><td>NA</td><td>248.6826</td><td>0</td><td>february_max_temp</td><td>73.00000</td></tr>\n",
       "</tbody>\n",
       "</table>\n"
      ],
      "text/latex": [
       "A tibble: 6 × 30\n",
       "\\begin{tabular}{lllllllllllllllllllll}\n",
       " Year\\_Factor & State\\_Factor & building\\_class & facility\\_type & floor\\_area & year\\_built & energy\\_star\\_rating & ELEVATION & cooling\\_degree\\_days & heating\\_degree\\_days & ... & days\\_above\\_100F & days\\_above\\_110F & direction\\_max\\_wind\\_speed & direction\\_peak\\_wind\\_speed & max\\_wind\\_speed & days\\_with\\_fog & site\\_eui & id & month & temp\\\\\n",
       " <int> & <chr> & <chr> & <chr> & <dbl> & <dbl> & <dbl> & <dbl> & <int> & <int> & ... & <int> & <int> & <dbl> & <dbl> & <dbl> & <dbl> & <dbl> & <int> & <chr> & <dbl>\\\\\n",
       "\\hline\n",
       "\t 1 & State\\_1 & Commercial & Grocery\\_store\\_or\\_food\\_market & 61242 & 1942 & 11 & 2.4 & 115 & 2960 & ... & 0 & 0 & 1 & 1 & 1 & NA & 248.6826 & 0 & january\\_min\\_temp  & 36.00000\\\\\n",
       "\t 1 & State\\_1 & Commercial & Grocery\\_store\\_or\\_food\\_market & 61242 & 1942 & 11 & 2.4 & 115 & 2960 & ... & 0 & 0 & 1 & 1 & 1 & NA & 248.6826 & 0 & january\\_avg\\_temp  & 50.50000\\\\\n",
       "\t 1 & State\\_1 & Commercial & Grocery\\_store\\_or\\_food\\_market & 61242 & 1942 & 11 & 2.4 & 115 & 2960 & ... & 0 & 0 & 1 & 1 & 1 & NA & 248.6826 & 0 & january\\_max\\_temp  & 68.00000\\\\\n",
       "\t 1 & State\\_1 & Commercial & Grocery\\_store\\_or\\_food\\_market & 61242 & 1942 & 11 & 2.4 & 115 & 2960 & ... & 0 & 0 & 1 & 1 & 1 & NA & 248.6826 & 0 & february\\_min\\_temp & 35.00000\\\\\n",
       "\t 1 & State\\_1 & Commercial & Grocery\\_store\\_or\\_food\\_market & 61242 & 1942 & 11 & 2.4 & 115 & 2960 & ... & 0 & 0 & 1 & 1 & 1 & NA & 248.6826 & 0 & february\\_avg\\_temp & 50.58929\\\\\n",
       "\t 1 & State\\_1 & Commercial & Grocery\\_store\\_or\\_food\\_market & 61242 & 1942 & 11 & 2.4 & 115 & 2960 & ... & 0 & 0 & 1 & 1 & 1 & NA & 248.6826 & 0 & february\\_max\\_temp & 73.00000\\\\\n",
       "\\end{tabular}\n"
      ],
      "text/markdown": [
       "\n",
       "A tibble: 6 × 30\n",
       "\n",
       "| Year_Factor &lt;int&gt; | State_Factor &lt;chr&gt; | building_class &lt;chr&gt; | facility_type &lt;chr&gt; | floor_area &lt;dbl&gt; | year_built &lt;dbl&gt; | energy_star_rating &lt;dbl&gt; | ELEVATION &lt;dbl&gt; | cooling_degree_days &lt;int&gt; | heating_degree_days &lt;int&gt; | ... ... | days_above_100F &lt;int&gt; | days_above_110F &lt;int&gt; | direction_max_wind_speed &lt;dbl&gt; | direction_peak_wind_speed &lt;dbl&gt; | max_wind_speed &lt;dbl&gt; | days_with_fog &lt;dbl&gt; | site_eui &lt;dbl&gt; | id &lt;int&gt; | month &lt;chr&gt; | temp &lt;dbl&gt; |\n",
       "|---|---|---|---|---|---|---|---|---|---|---|---|---|---|---|---|---|---|---|---|---|\n",
       "| 1 | State_1 | Commercial | Grocery_store_or_food_market | 61242 | 1942 | 11 | 2.4 | 115 | 2960 | ... | 0 | 0 | 1 | 1 | 1 | NA | 248.6826 | 0 | january_min_temp  | 36.00000 |\n",
       "| 1 | State_1 | Commercial | Grocery_store_or_food_market | 61242 | 1942 | 11 | 2.4 | 115 | 2960 | ... | 0 | 0 | 1 | 1 | 1 | NA | 248.6826 | 0 | january_avg_temp  | 50.50000 |\n",
       "| 1 | State_1 | Commercial | Grocery_store_or_food_market | 61242 | 1942 | 11 | 2.4 | 115 | 2960 | ... | 0 | 0 | 1 | 1 | 1 | NA | 248.6826 | 0 | january_max_temp  | 68.00000 |\n",
       "| 1 | State_1 | Commercial | Grocery_store_or_food_market | 61242 | 1942 | 11 | 2.4 | 115 | 2960 | ... | 0 | 0 | 1 | 1 | 1 | NA | 248.6826 | 0 | february_min_temp | 35.00000 |\n",
       "| 1 | State_1 | Commercial | Grocery_store_or_food_market | 61242 | 1942 | 11 | 2.4 | 115 | 2960 | ... | 0 | 0 | 1 | 1 | 1 | NA | 248.6826 | 0 | february_avg_temp | 50.58929 |\n",
       "| 1 | State_1 | Commercial | Grocery_store_or_food_market | 61242 | 1942 | 11 | 2.4 | 115 | 2960 | ... | 0 | 0 | 1 | 1 | 1 | NA | 248.6826 | 0 | february_max_temp | 73.00000 |\n",
       "\n"
      ],
      "text/plain": [
       "  Year_Factor State_Factor building_class facility_type               \n",
       "1 1           State_1      Commercial     Grocery_store_or_food_market\n",
       "2 1           State_1      Commercial     Grocery_store_or_food_market\n",
       "3 1           State_1      Commercial     Grocery_store_or_food_market\n",
       "4 1           State_1      Commercial     Grocery_store_or_food_market\n",
       "5 1           State_1      Commercial     Grocery_store_or_food_market\n",
       "6 1           State_1      Commercial     Grocery_store_or_food_market\n",
       "  floor_area year_built energy_star_rating ELEVATION cooling_degree_days\n",
       "1 61242      1942       11                 2.4       115                \n",
       "2 61242      1942       11                 2.4       115                \n",
       "3 61242      1942       11                 2.4       115                \n",
       "4 61242      1942       11                 2.4       115                \n",
       "5 61242      1942       11                 2.4       115                \n",
       "6 61242      1942       11                 2.4       115                \n",
       "  heating_degree_days ... days_above_100F days_above_110F\n",
       "1 2960                ... 0               0              \n",
       "2 2960                ... 0               0              \n",
       "3 2960                ... 0               0              \n",
       "4 2960                ... 0               0              \n",
       "5 2960                ... 0               0              \n",
       "6 2960                ... 0               0              \n",
       "  direction_max_wind_speed direction_peak_wind_speed max_wind_speed\n",
       "1 1                        1                         1             \n",
       "2 1                        1                         1             \n",
       "3 1                        1                         1             \n",
       "4 1                        1                         1             \n",
       "5 1                        1                         1             \n",
       "6 1                        1                         1             \n",
       "  days_with_fog site_eui id month             temp    \n",
       "1 NA            248.6826 0  january_min_temp  36.00000\n",
       "2 NA            248.6826 0  january_avg_temp  50.50000\n",
       "3 NA            248.6826 0  january_max_temp  68.00000\n",
       "4 NA            248.6826 0  february_min_temp 35.00000\n",
       "5 NA            248.6826 0  february_avg_temp 50.58929\n",
       "6 NA            248.6826 0  february_max_temp 73.00000"
      ]
     },
     "metadata": {},
     "output_type": "display_data"
    }
   ],
   "source": [
    "head(df.long)"
   ]
  },
  {
   "attachments": {},
   "cell_type": "markdown",
   "metadata": {
    "datalore": {
     "sheet_delimiter": true
    },
    "jupyter": {
     "outputs_hidden": false,
     "source_hidden": false
    }
   },
   "source": [
    "# Column Split"
   ]
  },
  {
   "cell_type": "code",
   "execution_count": 10,
   "metadata": {
    "datalore": {
     "sheet_delimiter": false,
     "type": "CODE"
    },
    "jupyter": {
     "outputs_hidden": false,
     "source_hidden": false
    }
   },
   "outputs": [
    {
     "data": {
      "text/html": [
       "<table class=\"dataframe\">\n",
       "<caption>A data.frame: 6 × 30</caption>\n",
       "<thead>\n",
       "\t<tr><th></th><th scope=col>Year_Factor</th><th scope=col>State_Factor</th><th scope=col>building_class</th><th scope=col>facility_type</th><th scope=col>floor_area</th><th scope=col>year_built</th><th scope=col>energy_star_rating</th><th scope=col>ELEVATION</th><th scope=col>cooling_degree_days</th><th scope=col>heating_degree_days</th><th scope=col>...</th><th scope=col>days_above_100F</th><th scope=col>days_above_110F</th><th scope=col>direction_max_wind_speed</th><th scope=col>direction_peak_wind_speed</th><th scope=col>max_wind_speed</th><th scope=col>days_with_fog</th><th scope=col>site_eui</th><th scope=col>id</th><th scope=col>month</th><th scope=col>temp</th></tr>\n",
       "\t<tr><th></th><th scope=col>&lt;int&gt;</th><th scope=col>&lt;chr&gt;</th><th scope=col>&lt;chr&gt;</th><th scope=col>&lt;chr&gt;</th><th scope=col>&lt;dbl&gt;</th><th scope=col>&lt;dbl&gt;</th><th scope=col>&lt;dbl&gt;</th><th scope=col>&lt;dbl&gt;</th><th scope=col>&lt;int&gt;</th><th scope=col>&lt;int&gt;</th><th scope=col>...</th><th scope=col>&lt;int&gt;</th><th scope=col>&lt;int&gt;</th><th scope=col>&lt;dbl&gt;</th><th scope=col>&lt;dbl&gt;</th><th scope=col>&lt;dbl&gt;</th><th scope=col>&lt;dbl&gt;</th><th scope=col>&lt;dbl&gt;</th><th scope=col>&lt;int&gt;</th><th scope=col>&lt;chr&gt;</th><th scope=col>&lt;dbl&gt;</th></tr>\n",
       "</thead>\n",
       "<tbody>\n",
       "\t<tr><th scope=row>1</th><td>1</td><td>State_1</td><td>Commercial</td><td>Grocery_store_or_food_market</td><td>61242</td><td>1942</td><td>11</td><td>2.4</td><td>115</td><td>2960</td><td>...</td><td>0</td><td>0</td><td>1</td><td>1</td><td>1</td><td>NA</td><td>248.6826</td><td>0</td><td>january_min_temp </td><td>36.00000</td></tr>\n",
       "\t<tr><th scope=row>2</th><td>1</td><td>State_1</td><td>Commercial</td><td>Grocery_store_or_food_market</td><td>61242</td><td>1942</td><td>11</td><td>2.4</td><td>115</td><td>2960</td><td>...</td><td>0</td><td>0</td><td>1</td><td>1</td><td>1</td><td>NA</td><td>248.6826</td><td>0</td><td>january_avg_temp </td><td>50.50000</td></tr>\n",
       "\t<tr><th scope=row>3</th><td>1</td><td>State_1</td><td>Commercial</td><td>Grocery_store_or_food_market</td><td>61242</td><td>1942</td><td>11</td><td>2.4</td><td>115</td><td>2960</td><td>...</td><td>0</td><td>0</td><td>1</td><td>1</td><td>1</td><td>NA</td><td>248.6826</td><td>0</td><td>january_max_temp </td><td>68.00000</td></tr>\n",
       "\t<tr><th scope=row>4</th><td>1</td><td>State_1</td><td>Commercial</td><td>Grocery_store_or_food_market</td><td>61242</td><td>1942</td><td>11</td><td>2.4</td><td>115</td><td>2960</td><td>...</td><td>0</td><td>0</td><td>1</td><td>1</td><td>1</td><td>NA</td><td>248.6826</td><td>0</td><td>february_min_temp</td><td>35.00000</td></tr>\n",
       "\t<tr><th scope=row>5</th><td>1</td><td>State_1</td><td>Commercial</td><td>Grocery_store_or_food_market</td><td>61242</td><td>1942</td><td>11</td><td>2.4</td><td>115</td><td>2960</td><td>...</td><td>0</td><td>0</td><td>1</td><td>1</td><td>1</td><td>NA</td><td>248.6826</td><td>0</td><td>february_avg_temp</td><td>50.58929</td></tr>\n",
       "\t<tr><th scope=row>6</th><td>1</td><td>State_1</td><td>Commercial</td><td>Grocery_store_or_food_market</td><td>61242</td><td>1942</td><td>11</td><td>2.4</td><td>115</td><td>2960</td><td>...</td><td>0</td><td>0</td><td>1</td><td>1</td><td>1</td><td>NA</td><td>248.6826</td><td>0</td><td>february_max_temp</td><td>73.00000</td></tr>\n",
       "</tbody>\n",
       "</table>\n"
      ],
      "text/latex": [
       "A data.frame: 6 × 30\n",
       "\\begin{tabular}{r|lllllllllllllllllllll}\n",
       "  & Year\\_Factor & State\\_Factor & building\\_class & facility\\_type & floor\\_area & year\\_built & energy\\_star\\_rating & ELEVATION & cooling\\_degree\\_days & heating\\_degree\\_days & ... & days\\_above\\_100F & days\\_above\\_110F & direction\\_max\\_wind\\_speed & direction\\_peak\\_wind\\_speed & max\\_wind\\_speed & days\\_with\\_fog & site\\_eui & id & month & temp\\\\\n",
       "  & <int> & <chr> & <chr> & <chr> & <dbl> & <dbl> & <dbl> & <dbl> & <int> & <int> & ... & <int> & <int> & <dbl> & <dbl> & <dbl> & <dbl> & <dbl> & <int> & <chr> & <dbl>\\\\\n",
       "\\hline\n",
       "\t1 & 1 & State\\_1 & Commercial & Grocery\\_store\\_or\\_food\\_market & 61242 & 1942 & 11 & 2.4 & 115 & 2960 & ... & 0 & 0 & 1 & 1 & 1 & NA & 248.6826 & 0 & january\\_min\\_temp  & 36.00000\\\\\n",
       "\t2 & 1 & State\\_1 & Commercial & Grocery\\_store\\_or\\_food\\_market & 61242 & 1942 & 11 & 2.4 & 115 & 2960 & ... & 0 & 0 & 1 & 1 & 1 & NA & 248.6826 & 0 & january\\_avg\\_temp  & 50.50000\\\\\n",
       "\t3 & 1 & State\\_1 & Commercial & Grocery\\_store\\_or\\_food\\_market & 61242 & 1942 & 11 & 2.4 & 115 & 2960 & ... & 0 & 0 & 1 & 1 & 1 & NA & 248.6826 & 0 & january\\_max\\_temp  & 68.00000\\\\\n",
       "\t4 & 1 & State\\_1 & Commercial & Grocery\\_store\\_or\\_food\\_market & 61242 & 1942 & 11 & 2.4 & 115 & 2960 & ... & 0 & 0 & 1 & 1 & 1 & NA & 248.6826 & 0 & february\\_min\\_temp & 35.00000\\\\\n",
       "\t5 & 1 & State\\_1 & Commercial & Grocery\\_store\\_or\\_food\\_market & 61242 & 1942 & 11 & 2.4 & 115 & 2960 & ... & 0 & 0 & 1 & 1 & 1 & NA & 248.6826 & 0 & february\\_avg\\_temp & 50.58929\\\\\n",
       "\t6 & 1 & State\\_1 & Commercial & Grocery\\_store\\_or\\_food\\_market & 61242 & 1942 & 11 & 2.4 & 115 & 2960 & ... & 0 & 0 & 1 & 1 & 1 & NA & 248.6826 & 0 & february\\_max\\_temp & 73.00000\\\\\n",
       "\\end{tabular}\n"
      ],
      "text/markdown": [
       "\n",
       "A data.frame: 6 × 30\n",
       "\n",
       "| <!--/--> | Year_Factor &lt;int&gt; | State_Factor &lt;chr&gt; | building_class &lt;chr&gt; | facility_type &lt;chr&gt; | floor_area &lt;dbl&gt; | year_built &lt;dbl&gt; | energy_star_rating &lt;dbl&gt; | ELEVATION &lt;dbl&gt; | cooling_degree_days &lt;int&gt; | heating_degree_days &lt;int&gt; | ... ... | days_above_100F &lt;int&gt; | days_above_110F &lt;int&gt; | direction_max_wind_speed &lt;dbl&gt; | direction_peak_wind_speed &lt;dbl&gt; | max_wind_speed &lt;dbl&gt; | days_with_fog &lt;dbl&gt; | site_eui &lt;dbl&gt; | id &lt;int&gt; | month &lt;chr&gt; | temp &lt;dbl&gt; |\n",
       "|---|---|---|---|---|---|---|---|---|---|---|---|---|---|---|---|---|---|---|---|---|---|\n",
       "| 1 | 1 | State_1 | Commercial | Grocery_store_or_food_market | 61242 | 1942 | 11 | 2.4 | 115 | 2960 | ... | 0 | 0 | 1 | 1 | 1 | NA | 248.6826 | 0 | january_min_temp  | 36.00000 |\n",
       "| 2 | 1 | State_1 | Commercial | Grocery_store_or_food_market | 61242 | 1942 | 11 | 2.4 | 115 | 2960 | ... | 0 | 0 | 1 | 1 | 1 | NA | 248.6826 | 0 | january_avg_temp  | 50.50000 |\n",
       "| 3 | 1 | State_1 | Commercial | Grocery_store_or_food_market | 61242 | 1942 | 11 | 2.4 | 115 | 2960 | ... | 0 | 0 | 1 | 1 | 1 | NA | 248.6826 | 0 | january_max_temp  | 68.00000 |\n",
       "| 4 | 1 | State_1 | Commercial | Grocery_store_or_food_market | 61242 | 1942 | 11 | 2.4 | 115 | 2960 | ... | 0 | 0 | 1 | 1 | 1 | NA | 248.6826 | 0 | february_min_temp | 35.00000 |\n",
       "| 5 | 1 | State_1 | Commercial | Grocery_store_or_food_market | 61242 | 1942 | 11 | 2.4 | 115 | 2960 | ... | 0 | 0 | 1 | 1 | 1 | NA | 248.6826 | 0 | february_avg_temp | 50.58929 |\n",
       "| 6 | 1 | State_1 | Commercial | Grocery_store_or_food_market | 61242 | 1942 | 11 | 2.4 | 115 | 2960 | ... | 0 | 0 | 1 | 1 | 1 | NA | 248.6826 | 0 | february_max_temp | 73.00000 |\n",
       "\n"
      ],
      "text/plain": [
       "  Year_Factor State_Factor building_class facility_type               \n",
       "1 1           State_1      Commercial     Grocery_store_or_food_market\n",
       "2 1           State_1      Commercial     Grocery_store_or_food_market\n",
       "3 1           State_1      Commercial     Grocery_store_or_food_market\n",
       "4 1           State_1      Commercial     Grocery_store_or_food_market\n",
       "5 1           State_1      Commercial     Grocery_store_or_food_market\n",
       "6 1           State_1      Commercial     Grocery_store_or_food_market\n",
       "  floor_area year_built energy_star_rating ELEVATION cooling_degree_days\n",
       "1 61242      1942       11                 2.4       115                \n",
       "2 61242      1942       11                 2.4       115                \n",
       "3 61242      1942       11                 2.4       115                \n",
       "4 61242      1942       11                 2.4       115                \n",
       "5 61242      1942       11                 2.4       115                \n",
       "6 61242      1942       11                 2.4       115                \n",
       "  heating_degree_days ... days_above_100F days_above_110F\n",
       "1 2960                ... 0               0              \n",
       "2 2960                ... 0               0              \n",
       "3 2960                ... 0               0              \n",
       "4 2960                ... 0               0              \n",
       "5 2960                ... 0               0              \n",
       "6 2960                ... 0               0              \n",
       "  direction_max_wind_speed direction_peak_wind_speed max_wind_speed\n",
       "1 1                        1                         1             \n",
       "2 1                        1                         1             \n",
       "3 1                        1                         1             \n",
       "4 1                        1                         1             \n",
       "5 1                        1                         1             \n",
       "6 1                        1                         1             \n",
       "  days_with_fog site_eui id month             temp    \n",
       "1 NA            248.6826 0  january_min_temp  36.00000\n",
       "2 NA            248.6826 0  january_avg_temp  50.50000\n",
       "3 NA            248.6826 0  january_max_temp  68.00000\n",
       "4 NA            248.6826 0  february_min_temp 35.00000\n",
       "5 NA            248.6826 0  february_avg_temp 50.58929\n",
       "6 NA            248.6826 0  february_max_temp 73.00000"
      ]
     },
     "metadata": {},
     "output_type": "display_data"
    }
   ],
   "source": [
    "df.long <- as.data.frame(df.long)\n",
    "head(df.long)"
   ]
  },
  {
   "cell_type": "code",
   "execution_count": 11,
   "metadata": {},
   "outputs": [
    {
     "name": "stderr",
     "output_type": "stream",
     "text": [
      "Warning message:\n",
      "\"Expected 2 pieces. Additional pieces discarded in 2727252 rows [1, 2, 3, 4, 5, 6, 7, 8, 9, 10, 11, 12, 13, 14, 15, 16, 17, 18, 19, 20, ...].\"\n"
     ]
    }
   ],
   "source": [
    "df.long.split <- separate(data = df.long, col = month, into = c(\"month\", \"type\"), sep = \"_\")"
   ]
  },
  {
   "cell_type": "code",
   "execution_count": 12,
   "metadata": {},
   "outputs": [],
   "source": [
    "# Convert colum names to ordered factors \n",
    "df.long.split$month_f <- factor(df.long.split$month, levels = months)"
   ]
  },
  {
   "cell_type": "code",
   "execution_count": 13,
   "metadata": {
    "datalore": {
     "sheet_delimiter": false,
     "type": "CODE"
    },
    "jupyter": {
     "outputs_hidden": false,
     "source_hidden": false
    }
   },
   "outputs": [
    {
     "data": {
      "text/html": [
       "<table class=\"dataframe\">\n",
       "<caption>A data.frame: 6 × 32</caption>\n",
       "<thead>\n",
       "\t<tr><th></th><th scope=col>Year_Factor</th><th scope=col>State_Factor</th><th scope=col>building_class</th><th scope=col>facility_type</th><th scope=col>floor_area</th><th scope=col>year_built</th><th scope=col>energy_star_rating</th><th scope=col>ELEVATION</th><th scope=col>cooling_degree_days</th><th scope=col>heating_degree_days</th><th scope=col>...</th><th scope=col>direction_max_wind_speed</th><th scope=col>direction_peak_wind_speed</th><th scope=col>max_wind_speed</th><th scope=col>days_with_fog</th><th scope=col>site_eui</th><th scope=col>id</th><th scope=col>month</th><th scope=col>type</th><th scope=col>temp</th><th scope=col>month_f</th></tr>\n",
       "\t<tr><th></th><th scope=col>&lt;int&gt;</th><th scope=col>&lt;chr&gt;</th><th scope=col>&lt;chr&gt;</th><th scope=col>&lt;chr&gt;</th><th scope=col>&lt;dbl&gt;</th><th scope=col>&lt;dbl&gt;</th><th scope=col>&lt;dbl&gt;</th><th scope=col>&lt;dbl&gt;</th><th scope=col>&lt;int&gt;</th><th scope=col>&lt;int&gt;</th><th scope=col>...</th><th scope=col>&lt;dbl&gt;</th><th scope=col>&lt;dbl&gt;</th><th scope=col>&lt;dbl&gt;</th><th scope=col>&lt;dbl&gt;</th><th scope=col>&lt;dbl&gt;</th><th scope=col>&lt;int&gt;</th><th scope=col>&lt;chr&gt;</th><th scope=col>&lt;chr&gt;</th><th scope=col>&lt;dbl&gt;</th><th scope=col>&lt;fct&gt;</th></tr>\n",
       "</thead>\n",
       "<tbody>\n",
       "\t<tr><th scope=row>1</th><td>1</td><td>State_1</td><td>Commercial</td><td>Grocery_store_or_food_market</td><td>61242</td><td>1942</td><td>11</td><td>2.4</td><td>115</td><td>2960</td><td>...</td><td>1</td><td>1</td><td>1</td><td>NA</td><td>248.6826</td><td>0</td><td>january </td><td>min</td><td>36.00000</td><td>january </td></tr>\n",
       "\t<tr><th scope=row>2</th><td>1</td><td>State_1</td><td>Commercial</td><td>Grocery_store_or_food_market</td><td>61242</td><td>1942</td><td>11</td><td>2.4</td><td>115</td><td>2960</td><td>...</td><td>1</td><td>1</td><td>1</td><td>NA</td><td>248.6826</td><td>0</td><td>january </td><td>avg</td><td>50.50000</td><td>january </td></tr>\n",
       "\t<tr><th scope=row>3</th><td>1</td><td>State_1</td><td>Commercial</td><td>Grocery_store_or_food_market</td><td>61242</td><td>1942</td><td>11</td><td>2.4</td><td>115</td><td>2960</td><td>...</td><td>1</td><td>1</td><td>1</td><td>NA</td><td>248.6826</td><td>0</td><td>january </td><td>max</td><td>68.00000</td><td>january </td></tr>\n",
       "\t<tr><th scope=row>4</th><td>1</td><td>State_1</td><td>Commercial</td><td>Grocery_store_or_food_market</td><td>61242</td><td>1942</td><td>11</td><td>2.4</td><td>115</td><td>2960</td><td>...</td><td>1</td><td>1</td><td>1</td><td>NA</td><td>248.6826</td><td>0</td><td>february</td><td>min</td><td>35.00000</td><td>february</td></tr>\n",
       "\t<tr><th scope=row>5</th><td>1</td><td>State_1</td><td>Commercial</td><td>Grocery_store_or_food_market</td><td>61242</td><td>1942</td><td>11</td><td>2.4</td><td>115</td><td>2960</td><td>...</td><td>1</td><td>1</td><td>1</td><td>NA</td><td>248.6826</td><td>0</td><td>february</td><td>avg</td><td>50.58929</td><td>february</td></tr>\n",
       "\t<tr><th scope=row>6</th><td>1</td><td>State_1</td><td>Commercial</td><td>Grocery_store_or_food_market</td><td>61242</td><td>1942</td><td>11</td><td>2.4</td><td>115</td><td>2960</td><td>...</td><td>1</td><td>1</td><td>1</td><td>NA</td><td>248.6826</td><td>0</td><td>february</td><td>max</td><td>73.00000</td><td>february</td></tr>\n",
       "</tbody>\n",
       "</table>\n"
      ],
      "text/latex": [
       "A data.frame: 6 × 32\n",
       "\\begin{tabular}{r|lllllllllllllllllllll}\n",
       "  & Year\\_Factor & State\\_Factor & building\\_class & facility\\_type & floor\\_area & year\\_built & energy\\_star\\_rating & ELEVATION & cooling\\_degree\\_days & heating\\_degree\\_days & ... & direction\\_max\\_wind\\_speed & direction\\_peak\\_wind\\_speed & max\\_wind\\_speed & days\\_with\\_fog & site\\_eui & id & month & type & temp & month\\_f\\\\\n",
       "  & <int> & <chr> & <chr> & <chr> & <dbl> & <dbl> & <dbl> & <dbl> & <int> & <int> & ... & <dbl> & <dbl> & <dbl> & <dbl> & <dbl> & <int> & <chr> & <chr> & <dbl> & <fct>\\\\\n",
       "\\hline\n",
       "\t1 & 1 & State\\_1 & Commercial & Grocery\\_store\\_or\\_food\\_market & 61242 & 1942 & 11 & 2.4 & 115 & 2960 & ... & 1 & 1 & 1 & NA & 248.6826 & 0 & january  & min & 36.00000 & january \\\\\n",
       "\t2 & 1 & State\\_1 & Commercial & Grocery\\_store\\_or\\_food\\_market & 61242 & 1942 & 11 & 2.4 & 115 & 2960 & ... & 1 & 1 & 1 & NA & 248.6826 & 0 & january  & avg & 50.50000 & january \\\\\n",
       "\t3 & 1 & State\\_1 & Commercial & Grocery\\_store\\_or\\_food\\_market & 61242 & 1942 & 11 & 2.4 & 115 & 2960 & ... & 1 & 1 & 1 & NA & 248.6826 & 0 & january  & max & 68.00000 & january \\\\\n",
       "\t4 & 1 & State\\_1 & Commercial & Grocery\\_store\\_or\\_food\\_market & 61242 & 1942 & 11 & 2.4 & 115 & 2960 & ... & 1 & 1 & 1 & NA & 248.6826 & 0 & february & min & 35.00000 & february\\\\\n",
       "\t5 & 1 & State\\_1 & Commercial & Grocery\\_store\\_or\\_food\\_market & 61242 & 1942 & 11 & 2.4 & 115 & 2960 & ... & 1 & 1 & 1 & NA & 248.6826 & 0 & february & avg & 50.58929 & february\\\\\n",
       "\t6 & 1 & State\\_1 & Commercial & Grocery\\_store\\_or\\_food\\_market & 61242 & 1942 & 11 & 2.4 & 115 & 2960 & ... & 1 & 1 & 1 & NA & 248.6826 & 0 & february & max & 73.00000 & february\\\\\n",
       "\\end{tabular}\n"
      ],
      "text/markdown": [
       "\n",
       "A data.frame: 6 × 32\n",
       "\n",
       "| <!--/--> | Year_Factor &lt;int&gt; | State_Factor &lt;chr&gt; | building_class &lt;chr&gt; | facility_type &lt;chr&gt; | floor_area &lt;dbl&gt; | year_built &lt;dbl&gt; | energy_star_rating &lt;dbl&gt; | ELEVATION &lt;dbl&gt; | cooling_degree_days &lt;int&gt; | heating_degree_days &lt;int&gt; | ... ... | direction_max_wind_speed &lt;dbl&gt; | direction_peak_wind_speed &lt;dbl&gt; | max_wind_speed &lt;dbl&gt; | days_with_fog &lt;dbl&gt; | site_eui &lt;dbl&gt; | id &lt;int&gt; | month &lt;chr&gt; | type &lt;chr&gt; | temp &lt;dbl&gt; | month_f &lt;fct&gt; |\n",
       "|---|---|---|---|---|---|---|---|---|---|---|---|---|---|---|---|---|---|---|---|---|---|\n",
       "| 1 | 1 | State_1 | Commercial | Grocery_store_or_food_market | 61242 | 1942 | 11 | 2.4 | 115 | 2960 | ... | 1 | 1 | 1 | NA | 248.6826 | 0 | january  | min | 36.00000 | january  |\n",
       "| 2 | 1 | State_1 | Commercial | Grocery_store_or_food_market | 61242 | 1942 | 11 | 2.4 | 115 | 2960 | ... | 1 | 1 | 1 | NA | 248.6826 | 0 | january  | avg | 50.50000 | january  |\n",
       "| 3 | 1 | State_1 | Commercial | Grocery_store_or_food_market | 61242 | 1942 | 11 | 2.4 | 115 | 2960 | ... | 1 | 1 | 1 | NA | 248.6826 | 0 | january  | max | 68.00000 | january  |\n",
       "| 4 | 1 | State_1 | Commercial | Grocery_store_or_food_market | 61242 | 1942 | 11 | 2.4 | 115 | 2960 | ... | 1 | 1 | 1 | NA | 248.6826 | 0 | february | min | 35.00000 | february |\n",
       "| 5 | 1 | State_1 | Commercial | Grocery_store_or_food_market | 61242 | 1942 | 11 | 2.4 | 115 | 2960 | ... | 1 | 1 | 1 | NA | 248.6826 | 0 | february | avg | 50.58929 | february |\n",
       "| 6 | 1 | State_1 | Commercial | Grocery_store_or_food_market | 61242 | 1942 | 11 | 2.4 | 115 | 2960 | ... | 1 | 1 | 1 | NA | 248.6826 | 0 | february | max | 73.00000 | february |\n",
       "\n"
      ],
      "text/plain": [
       "  Year_Factor State_Factor building_class facility_type               \n",
       "1 1           State_1      Commercial     Grocery_store_or_food_market\n",
       "2 1           State_1      Commercial     Grocery_store_or_food_market\n",
       "3 1           State_1      Commercial     Grocery_store_or_food_market\n",
       "4 1           State_1      Commercial     Grocery_store_or_food_market\n",
       "5 1           State_1      Commercial     Grocery_store_or_food_market\n",
       "6 1           State_1      Commercial     Grocery_store_or_food_market\n",
       "  floor_area year_built energy_star_rating ELEVATION cooling_degree_days\n",
       "1 61242      1942       11                 2.4       115                \n",
       "2 61242      1942       11                 2.4       115                \n",
       "3 61242      1942       11                 2.4       115                \n",
       "4 61242      1942       11                 2.4       115                \n",
       "5 61242      1942       11                 2.4       115                \n",
       "6 61242      1942       11                 2.4       115                \n",
       "  heating_degree_days ... direction_max_wind_speed direction_peak_wind_speed\n",
       "1 2960                ... 1                        1                        \n",
       "2 2960                ... 1                        1                        \n",
       "3 2960                ... 1                        1                        \n",
       "4 2960                ... 1                        1                        \n",
       "5 2960                ... 1                        1                        \n",
       "6 2960                ... 1                        1                        \n",
       "  max_wind_speed days_with_fog site_eui id month    type temp     month_f \n",
       "1 1              NA            248.6826 0  january  min  36.00000 january \n",
       "2 1              NA            248.6826 0  january  avg  50.50000 january \n",
       "3 1              NA            248.6826 0  january  max  68.00000 january \n",
       "4 1              NA            248.6826 0  february min  35.00000 february\n",
       "5 1              NA            248.6826 0  february avg  50.58929 february\n",
       "6 1              NA            248.6826 0  february max  73.00000 february"
      ]
     },
     "metadata": {},
     "output_type": "display_data"
    }
   ],
   "source": [
    "head(df.long.split)"
   ]
  },
  {
   "cell_type": "markdown",
   "metadata": {},
   "source": [
    "# Data Export"
   ]
  },
  {
   "cell_type": "code",
   "execution_count": 14,
   "metadata": {
    "datalore": {
     "sheet_delimiter": false,
     "type": "CODE"
    },
    "jupyter": {
     "outputs_hidden": false,
     "source_hidden": false
    }
   },
   "outputs": [
    {
     "name": "stderr",
     "output_type": "stream",
     "text": [
      "Warning message in write.csv(., file = path, sep = \",\"):\n",
      "\"attempt to set 'sep' ignored\"\n"
     ]
    }
   ],
   "source": [
    "# Write dataframe to csv\n",
    "path = 'D:\\\\jupyterlab\\\\silicon-valley-chapter-data-science-for-climate-change\\\\src\\\\data\\\\train_long.csv'\n",
    "df.long.split %>% write.csv(file = path, sep = ',')"
   ]
  },
  {
   "attachments": {},
   "cell_type": "markdown",
   "metadata": {
    "datalore": {
     "sheet_delimiter": true
    },
    "jupyter": {
     "outputs_hidden": false,
     "source_hidden": false
    }
   },
   "source": [
    "# Termperature Normailization"
   ]
  },
  {
   "cell_type": "code",
   "execution_count": 15,
   "metadata": {
    "datalore": {
     "sheet_delimiter": false,
     "type": "CODE"
    },
    "jupyter": {
     "outputs_hidden": false,
     "source_hidden": false
    }
   },
   "outputs": [
    {
     "data": {
      "text/html": [
       "<table class=\"dataframe\">\n",
       "<caption>A data.frame: 6 × 32</caption>\n",
       "<thead>\n",
       "\t<tr><th></th><th scope=col>Year_Factor</th><th scope=col>State_Factor</th><th scope=col>building_class</th><th scope=col>facility_type</th><th scope=col>floor_area</th><th scope=col>year_built</th><th scope=col>energy_star_rating</th><th scope=col>ELEVATION</th><th scope=col>cooling_degree_days</th><th scope=col>heating_degree_days</th><th scope=col>...</th><th scope=col>direction_max_wind_speed</th><th scope=col>direction_peak_wind_speed</th><th scope=col>max_wind_speed</th><th scope=col>days_with_fog</th><th scope=col>site_eui</th><th scope=col>id</th><th scope=col>month</th><th scope=col>type</th><th scope=col>temp</th><th scope=col>month_f</th></tr>\n",
       "\t<tr><th></th><th scope=col>&lt;int&gt;</th><th scope=col>&lt;chr&gt;</th><th scope=col>&lt;chr&gt;</th><th scope=col>&lt;chr&gt;</th><th scope=col>&lt;dbl&gt;</th><th scope=col>&lt;dbl&gt;</th><th scope=col>&lt;dbl&gt;</th><th scope=col>&lt;dbl&gt;</th><th scope=col>&lt;int&gt;</th><th scope=col>&lt;int&gt;</th><th scope=col>...</th><th scope=col>&lt;dbl&gt;</th><th scope=col>&lt;dbl&gt;</th><th scope=col>&lt;dbl&gt;</th><th scope=col>&lt;dbl&gt;</th><th scope=col>&lt;dbl&gt;</th><th scope=col>&lt;int&gt;</th><th scope=col>&lt;chr&gt;</th><th scope=col>&lt;chr&gt;</th><th scope=col>&lt;dbl&gt;</th><th scope=col>&lt;fct&gt;</th></tr>\n",
       "</thead>\n",
       "<tbody>\n",
       "\t<tr><th scope=row>2</th><td>1</td><td>State_1</td><td>Commercial</td><td>Grocery_store_or_food_market</td><td>61242</td><td>1942</td><td>11</td><td>2.4</td><td>115</td><td>2960</td><td>...</td><td>1</td><td>1</td><td>1</td><td>NA</td><td>248.6826</td><td>0</td><td>january </td><td>avg</td><td>50.50000</td><td>january </td></tr>\n",
       "\t<tr><th scope=row>5</th><td>1</td><td>State_1</td><td>Commercial</td><td>Grocery_store_or_food_market</td><td>61242</td><td>1942</td><td>11</td><td>2.4</td><td>115</td><td>2960</td><td>...</td><td>1</td><td>1</td><td>1</td><td>NA</td><td>248.6826</td><td>0</td><td>february</td><td>avg</td><td>50.58929</td><td>february</td></tr>\n",
       "\t<tr><th scope=row>8</th><td>1</td><td>State_1</td><td>Commercial</td><td>Grocery_store_or_food_market</td><td>61242</td><td>1942</td><td>11</td><td>2.4</td><td>115</td><td>2960</td><td>...</td><td>1</td><td>1</td><td>1</td><td>NA</td><td>248.6826</td><td>0</td><td>march   </td><td>avg</td><td>53.69355</td><td>march   </td></tr>\n",
       "\t<tr><th scope=row>11</th><td>1</td><td>State_1</td><td>Commercial</td><td>Grocery_store_or_food_market</td><td>61242</td><td>1942</td><td>11</td><td>2.4</td><td>115</td><td>2960</td><td>...</td><td>1</td><td>1</td><td>1</td><td>NA</td><td>248.6826</td><td>0</td><td>april   </td><td>avg</td><td>55.50000</td><td>april   </td></tr>\n",
       "\t<tr><th scope=row>14</th><td>1</td><td>State_1</td><td>Commercial</td><td>Grocery_store_or_food_market</td><td>61242</td><td>1942</td><td>11</td><td>2.4</td><td>115</td><td>2960</td><td>...</td><td>1</td><td>1</td><td>1</td><td>NA</td><td>248.6826</td><td>0</td><td>may     </td><td>avg</td><td>56.85484</td><td>may     </td></tr>\n",
       "\t<tr><th scope=row>17</th><td>1</td><td>State_1</td><td>Commercial</td><td>Grocery_store_or_food_market</td><td>61242</td><td>1942</td><td>11</td><td>2.4</td><td>115</td><td>2960</td><td>...</td><td>1</td><td>1</td><td>1</td><td>NA</td><td>248.6826</td><td>0</td><td>june    </td><td>avg</td><td>60.50000</td><td>june    </td></tr>\n",
       "</tbody>\n",
       "</table>\n"
      ],
      "text/latex": [
       "A data.frame: 6 × 32\n",
       "\\begin{tabular}{r|lllllllllllllllllllll}\n",
       "  & Year\\_Factor & State\\_Factor & building\\_class & facility\\_type & floor\\_area & year\\_built & energy\\_star\\_rating & ELEVATION & cooling\\_degree\\_days & heating\\_degree\\_days & ... & direction\\_max\\_wind\\_speed & direction\\_peak\\_wind\\_speed & max\\_wind\\_speed & days\\_with\\_fog & site\\_eui & id & month & type & temp & month\\_f\\\\\n",
       "  & <int> & <chr> & <chr> & <chr> & <dbl> & <dbl> & <dbl> & <dbl> & <int> & <int> & ... & <dbl> & <dbl> & <dbl> & <dbl> & <dbl> & <int> & <chr> & <chr> & <dbl> & <fct>\\\\\n",
       "\\hline\n",
       "\t2 & 1 & State\\_1 & Commercial & Grocery\\_store\\_or\\_food\\_market & 61242 & 1942 & 11 & 2.4 & 115 & 2960 & ... & 1 & 1 & 1 & NA & 248.6826 & 0 & january  & avg & 50.50000 & january \\\\\n",
       "\t5 & 1 & State\\_1 & Commercial & Grocery\\_store\\_or\\_food\\_market & 61242 & 1942 & 11 & 2.4 & 115 & 2960 & ... & 1 & 1 & 1 & NA & 248.6826 & 0 & february & avg & 50.58929 & february\\\\\n",
       "\t8 & 1 & State\\_1 & Commercial & Grocery\\_store\\_or\\_food\\_market & 61242 & 1942 & 11 & 2.4 & 115 & 2960 & ... & 1 & 1 & 1 & NA & 248.6826 & 0 & march    & avg & 53.69355 & march   \\\\\n",
       "\t11 & 1 & State\\_1 & Commercial & Grocery\\_store\\_or\\_food\\_market & 61242 & 1942 & 11 & 2.4 & 115 & 2960 & ... & 1 & 1 & 1 & NA & 248.6826 & 0 & april    & avg & 55.50000 & april   \\\\\n",
       "\t14 & 1 & State\\_1 & Commercial & Grocery\\_store\\_or\\_food\\_market & 61242 & 1942 & 11 & 2.4 & 115 & 2960 & ... & 1 & 1 & 1 & NA & 248.6826 & 0 & may      & avg & 56.85484 & may     \\\\\n",
       "\t17 & 1 & State\\_1 & Commercial & Grocery\\_store\\_or\\_food\\_market & 61242 & 1942 & 11 & 2.4 & 115 & 2960 & ... & 1 & 1 & 1 & NA & 248.6826 & 0 & june     & avg & 60.50000 & june    \\\\\n",
       "\\end{tabular}\n"
      ],
      "text/markdown": [
       "\n",
       "A data.frame: 6 × 32\n",
       "\n",
       "| <!--/--> | Year_Factor &lt;int&gt; | State_Factor &lt;chr&gt; | building_class &lt;chr&gt; | facility_type &lt;chr&gt; | floor_area &lt;dbl&gt; | year_built &lt;dbl&gt; | energy_star_rating &lt;dbl&gt; | ELEVATION &lt;dbl&gt; | cooling_degree_days &lt;int&gt; | heating_degree_days &lt;int&gt; | ... ... | direction_max_wind_speed &lt;dbl&gt; | direction_peak_wind_speed &lt;dbl&gt; | max_wind_speed &lt;dbl&gt; | days_with_fog &lt;dbl&gt; | site_eui &lt;dbl&gt; | id &lt;int&gt; | month &lt;chr&gt; | type &lt;chr&gt; | temp &lt;dbl&gt; | month_f &lt;fct&gt; |\n",
       "|---|---|---|---|---|---|---|---|---|---|---|---|---|---|---|---|---|---|---|---|---|---|\n",
       "| 2 | 1 | State_1 | Commercial | Grocery_store_or_food_market | 61242 | 1942 | 11 | 2.4 | 115 | 2960 | ... | 1 | 1 | 1 | NA | 248.6826 | 0 | january  | avg | 50.50000 | january  |\n",
       "| 5 | 1 | State_1 | Commercial | Grocery_store_or_food_market | 61242 | 1942 | 11 | 2.4 | 115 | 2960 | ... | 1 | 1 | 1 | NA | 248.6826 | 0 | february | avg | 50.58929 | february |\n",
       "| 8 | 1 | State_1 | Commercial | Grocery_store_or_food_market | 61242 | 1942 | 11 | 2.4 | 115 | 2960 | ... | 1 | 1 | 1 | NA | 248.6826 | 0 | march    | avg | 53.69355 | march    |\n",
       "| 11 | 1 | State_1 | Commercial | Grocery_store_or_food_market | 61242 | 1942 | 11 | 2.4 | 115 | 2960 | ... | 1 | 1 | 1 | NA | 248.6826 | 0 | april    | avg | 55.50000 | april    |\n",
       "| 14 | 1 | State_1 | Commercial | Grocery_store_or_food_market | 61242 | 1942 | 11 | 2.4 | 115 | 2960 | ... | 1 | 1 | 1 | NA | 248.6826 | 0 | may      | avg | 56.85484 | may      |\n",
       "| 17 | 1 | State_1 | Commercial | Grocery_store_or_food_market | 61242 | 1942 | 11 | 2.4 | 115 | 2960 | ... | 1 | 1 | 1 | NA | 248.6826 | 0 | june     | avg | 60.50000 | june     |\n",
       "\n"
      ],
      "text/plain": [
       "   Year_Factor State_Factor building_class facility_type               \n",
       "2  1           State_1      Commercial     Grocery_store_or_food_market\n",
       "5  1           State_1      Commercial     Grocery_store_or_food_market\n",
       "8  1           State_1      Commercial     Grocery_store_or_food_market\n",
       "11 1           State_1      Commercial     Grocery_store_or_food_market\n",
       "14 1           State_1      Commercial     Grocery_store_or_food_market\n",
       "17 1           State_1      Commercial     Grocery_store_or_food_market\n",
       "   floor_area year_built energy_star_rating ELEVATION cooling_degree_days\n",
       "2  61242      1942       11                 2.4       115                \n",
       "5  61242      1942       11                 2.4       115                \n",
       "8  61242      1942       11                 2.4       115                \n",
       "11 61242      1942       11                 2.4       115                \n",
       "14 61242      1942       11                 2.4       115                \n",
       "17 61242      1942       11                 2.4       115                \n",
       "   heating_degree_days ... direction_max_wind_speed direction_peak_wind_speed\n",
       "2  2960                ... 1                        1                        \n",
       "5  2960                ... 1                        1                        \n",
       "8  2960                ... 1                        1                        \n",
       "11 2960                ... 1                        1                        \n",
       "14 2960                ... 1                        1                        \n",
       "17 2960                ... 1                        1                        \n",
       "   max_wind_speed days_with_fog site_eui id month    type temp     month_f \n",
       "2  1              NA            248.6826 0  january  avg  50.50000 january \n",
       "5  1              NA            248.6826 0  february avg  50.58929 february\n",
       "8  1              NA            248.6826 0  march    avg  53.69355 march   \n",
       "11 1              NA            248.6826 0  april    avg  55.50000 april   \n",
       "14 1              NA            248.6826 0  may      avg  56.85484 may     \n",
       "17 1              NA            248.6826 0  june     avg  60.50000 june    "
      ]
     },
     "metadata": {},
     "output_type": "display_data"
    }
   ],
   "source": [
    "df.long.split.avg <- df.long.split[df.long.split$type=='avg',] \n",
    "head(df.long.split.avg)"
   ]
  },
  {
   "attachments": {},
   "cell_type": "markdown",
   "metadata": {
    "datalore": {
     "sheet_delimiter": false,
     "type": "MD"
    },
    "jupyter": {
     "outputs_hidden": false,
     "source_hidden": false
    }
   },
   "source": [
    "A preliminary analysis shows that there is no linear relationship between average temperatures and site eui\n",
    "Hence we will not proceed with deltas and normailzarion insatead proceed with cuts of the data plot"
   ]
  },
  {
   "attachments": {},
   "cell_type": "markdown",
   "metadata": {
    "datalore": {
     "sheet_delimiter": true
    },
    "jupyter": {
     "outputs_hidden": false,
     "source_hidden": false
    }
   },
   "source": [
    "# Data Visiulization on builiding type"
   ]
  },
  {
   "cell_type": "code",
   "execution_count": 16,
   "metadata": {
    "datalore": {
     "sheet_delimiter": false,
     "type": "CODE"
    },
    "jupyter": {
     "outputs_hidden": false,
     "source_hidden": false
    }
   },
   "outputs": [
    {
     "data": {
      "image/png": "[encoded data removed]",
      "text/plain": [
       "plot without title"
      ]
     },
     "metadata": {
      "image/png": {
       "height": 420,
       "width": 420
      }
     },
     "output_type": "display_data"
    }
   ],
   "source": [
    "library(ggplot2)\n",
    "ggplot(df.long.split.avg, aes(x=temp, y=site_eui)) + geom_point()+\n",
    "facet_grid(rows = vars(building_class))"
   ]
  },
  {
   "cell_type": "markdown",
   "metadata": {},
   "source": [
    "# Data Visiulization on months"
   ]
  },
  {
   "cell_type": "code",
   "execution_count": 17,
   "metadata": {},
   "outputs": [
    {
     "data": {
      "image/png": "[encoded data removed]",
      "text/plain": [
       "plot without title"
      ]
     },
     "metadata": {
      "image/png": {
       "height": 420,
       "width": 420
      }
     },
     "output_type": "display_data"
    }
   ],
   "source": [
    " library(ggplot2)\n",
    "ggplot(df.long.split.avg, aes(x=temp, y=site_eui)) + geom_point()+\n",
    "facet_grid(rows = vars(month_f))"
   ]
  },
  {
   "cell_type": "code",
   "execution_count": 18,
   "metadata": {
    "datalore": {
     "sheet_delimiter": false,
     "type": "CODE"
    },
    "jupyter": {
     "outputs_hidden": false,
     "source_hidden": false
    }
   },
   "outputs": [
    {
     "data": {
      "image/png": "[encoded data removed]",
      "text/plain": [
       "plot without title"
      ]
     },
     "metadata": {
      "image/png": {
       "height": 420,
       "width": 420
      }
     },
     "output_type": "display_data"
    }
   ],
   "source": [
    "ggplot(df.long.split.avg, aes(x=site_eui, y=temp)) + geom_point()+\n",
    "facet_grid(cols = vars(month_f))"
   ]
  },
  {
   "cell_type": "markdown",
   "metadata": {},
   "source": [
    "# Conclusion\n",
    "\n",
    "We see that there is no stron corelation between the average temperature and energy consumption.\n",
    "This could be due to the fact that there are a very large variety of buildigs Considered"
   ]
  },
  {
   "cell_type": "markdown",
   "metadata": {},
   "source": [
    "# Checking variance of Site EUI for Against Avg Temp"
   ]
  },
  {
   "cell_type": "code",
   "execution_count": 19,
   "metadata": {},
   "outputs": [
    {
     "data": {
      "text/plain": [
       "   Min. 1st Qu.  Median    Mean 3rd Qu.    Max. \n",
       "  10.81   43.45   57.10   56.08   70.47   94.90 "
      ]
     },
     "metadata": {},
     "output_type": "display_data"
    }
   ],
   "source": [
    "summary(df.long.split.avg$temp)"
   ]
  },
  {
   "cell_type": "code",
   "execution_count": 20,
   "metadata": {},
   "outputs": [],
   "source": [
    "df.long.split.avg$temp.int <- as.integer(df.long.split.avg$temp)"
   ]
  },
  {
   "cell_type": "code",
   "execution_count": 21,
   "metadata": {},
   "outputs": [
    {
     "data": {
      "text/plain": [
       "   Min. 1st Qu.  Median    Mean 3rd Qu.    Max. \n",
       "  10.00   43.00   57.00   55.54   70.00   94.00 "
      ]
     },
     "metadata": {},
     "output_type": "display_data"
    }
   ],
   "source": [
    "summary(df.long.split.avg$temp.int)"
   ]
  },
  {
   "cell_type": "code",
   "execution_count": 27,
   "metadata": {},
   "outputs": [],
   "source": [
    "# Calculate Varinace of Site EUI grouped by temp\n",
    " df.siteeui.var <- df.long.split.avg %>%\n",
    "                     group_by(temp.int) %>% \n",
    "                     summarise(var = var(site_eui))\n"
   ]
  },
  {
   "cell_type": "code",
   "execution_count": 29,
   "metadata": {},
   "outputs": [
    {
     "name": "stderr",
     "output_type": "stream",
     "text": [
      "Warning message:\n",
      "\"Removed 4 rows containing missing values (geom_point).\"\n"
     ]
    },
    {
     "data": {
      "image/png": "[encoded data removed]",
      "text/plain": [
       "plot without title"
      ]
     },
     "metadata": {
      "image/png": {
       "height": 420,
       "width": 420
      }
     },
     "output_type": "display_data"
    }
   ],
   "source": [
    "# Scatter plot of tem.int vs var \n",
    "ggplot(df.siteeui.var, aes(x=temp.int, y=var)) + geom_point()"
   ]
  },
  {
   "cell_type": "markdown",
   "metadata": {},
   "source": [
    "Here we see the varinace os not constant it is lower at higher avg temerature"
   ]
  },
  {
   "cell_type": "code",
   "execution_count": 33,
   "metadata": {},
   "outputs": [
    {
     "data": {
      "image/png": "[encoded data removed]",
      "text/plain": [
       "plot without title"
      ]
     },
     "metadata": {
      "image/png": {
       "height": 420,
       "width": 420
      }
     },
     "output_type": "display_data"
    }
   ],
   "source": [
    "# Box plot of temp.int vs site eui\n",
    "ggplot(df.long.split.avg, aes(y=as.factor(temp.int), x=site_eui)) + geom_boxplot()"
   ]
  },
  {
   "cell_type": "markdown",
   "metadata": {},
   "source": [
    "As the above boxplot is not very friendly the same analysis will be done in Tableau <br>\n",
    "The file will then be uploaded as pdf in visualization folder <br>\n",
    "A preliminary inspection shows that range is less for extreme average temperatures\n",
    "but this couls be because the count is less "
   ]
  },
  {
   "cell_type": "markdown",
   "metadata": {},
   "source": [
    "# Log Average of Site EUI "
   ]
  },
  {
   "cell_type": "code",
   "execution_count": 44,
   "metadata": {},
   "outputs": [
    {
     "data": {
      "text/plain": [
       "     Min.   1st Qu.    Median      Mean   3rd Qu.      Max. \n",
       "0.0000023 0.0003612 0.0007433 0.0010821 0.0012545 0.3519655 "
      ]
     },
     "metadata": {},
     "output_type": "display_data"
    }
   ],
   "source": [
    "summary(df.long.split.avg$site_eui/df.long.split.avg$floor_area)"
   ]
  },
  {
   "cell_type": "markdown",
   "metadata": {},
   "source": [
    "As these values are too small lets try out log average of the site eui"
   ]
  },
  {
   "cell_type": "code",
   "execution_count": 45,
   "metadata": {},
   "outputs": [
    {
     "data": {
      "text/plain": [
       "   Min. 1st Qu.  Median    Mean 3rd Qu.    Max. \n",
       "-12.988  -7.926  -7.204  -7.344  -6.681  -1.044 "
      ]
     },
     "metadata": {},
     "output_type": "display_data"
    }
   ],
   "source": [
    "summary(log(df.long.split.avg$site_eui/df.long.split.avg$floor_area))"
   ]
  },
  {
   "cell_type": "code",
   "execution_count": 42,
   "metadata": {},
   "outputs": [
    {
     "data": {
      "text/html": [
       "-12.9826014350292"
      ],
      "text/latex": [
       "-12.9826014350292"
      ],
      "text/markdown": [
       "-12.9826014350292"
      ],
      "text/plain": [
       "[1] -12.9826"
      ]
     },
     "metadata": {},
     "output_type": "display_data"
    }
   ],
   "source": [
    "log(0.0000023)"
   ]
  },
  {
   "cell_type": "code",
   "execution_count": 47,
   "metadata": {},
   "outputs": [],
   "source": [
    "df.long.split.avg$site_eui_log_avg <- log(df.long.split.avg$site_eui/df.long.split.avg$floor_area)"
   ]
  },
  {
   "cell_type": "code",
   "execution_count": 50,
   "metadata": {},
   "outputs": [
    {
     "data": {
      "image/png": "[encoded data removed]",
      "text/plain": [
       "plot without title"
      ]
     },
     "metadata": {
      "image/png": {
       "height": 420,
       "width": 420
      }
     },
     "output_type": "display_data"
    }
   ],
   "source": [
    "ggplot(df.long.split.avg, aes(y=temp.int, x=site_eui_log_avg)) + geom_point()+\n",
    "facet_grid(rows = vars(building_class))"
   ]
  },
  {
   "cell_type": "markdown",
   "metadata": {},
   "source": [
    "There is clearly no relationship here also"
   ]
  },
  {
   "cell_type": "markdown",
   "metadata": {},
   "source": []
  }
 ],
 "metadata": {
  "datalore": {
   "base_environment": "minimal",
   "computation_mode": "JUPYTER",
   "package_manager": "conda",
   "packages": [],
   "version": 1
  },
  "kernelspec": {
   "display_name": "R",
   "language": "R",
   "name": "ir"
  },
  "language_info": {
   "codemirror_mode": "r",
   "file_extension": ".r",
   "mimetype": "text/x-r-source",
   "name": "R",
   "pygments_lexer": "r",
   "version": "4.1.1"
  }
 },
 "nbformat": 4,
 "nbformat_minor": 4
}