{
  "nbformat": 4,
  "nbformat_minor": 0,
  "metadata": {
    "colab": {
      "name": "Final Dataset First Draft.ipynb",
      "provenance": [],
      "collapsed_sections": []
    },
    "kernelspec": {
      "name": "python3",
      "display_name": "Python 3"
    },
    "language_info": {
      "name": "python"
    },
    "accelerator": "GPU",
    "widgets": {
      "application/vnd.jupyter.widget-state+json": {
        "945239d0695547818627b68fe2616ef8": {
          "model_module": "@jupyter-widgets/controls",
          "model_name": "HBoxModel",
          "model_module_version": "1.5.0",
          "state": {
            "_view_name": "HBoxView",
            "_dom_classes": [],
            "_model_name": "HBoxModel",
            "_view_module": "@jupyter-widgets/controls",
            "_model_module_version": "1.5.0",
            "_view_count": null,
            "_view_module_version": "1.5.0",
            "box_style": "",
            "layout": "IPY_MODEL_8b668590e47d4ae68bcd6515f8a4c72d",
            "_model_module": "@jupyter-widgets/controls",
            "children": [
              "IPY_MODEL_431992bc33d1414a96a942ac8d2fef94",
              "IPY_MODEL_fcaf9d7a44244f75843088a55112e413",
              "IPY_MODEL_9e8cd8f11a9f41009505da04699689e8"
            ]
          }
        },
        "8b668590e47d4ae68bcd6515f8a4c72d": {
          "model_module": "@jupyter-widgets/base",
          "model_name": "LayoutModel",
          "model_module_version": "1.2.0",
          "state": {
            "_view_name": "LayoutView",
            "grid_template_rows": null,
            "right": null,
            "justify_content": null,
            "_view_module": "@jupyter-widgets/base",
            "overflow": null,
            "_model_module_version": "1.2.0",
            "_view_count": null,
            "flex_flow": null,
            "width": null,
            "min_width": null,
            "border": null,
            "align_items": null,
            "bottom": null,
            "_model_module": "@jupyter-widgets/base",
            "top": null,
            "grid_column": null,
            "overflow_y": null,
            "overflow_x": null,
            "grid_auto_flow": null,
            "grid_area": null,
            "grid_template_columns": null,
            "flex": null,
            "_model_name": "LayoutModel",
            "justify_items": null,
            "grid_row": null,
            "max_height": null,
            "align_content": null,
            "visibility": null,
            "align_self": null,
            "height": null,
            "min_height": null,
            "padding": null,
            "grid_auto_rows": null,
            "grid_gap": null,
            "max_width": null,
            "order": null,
            "_view_module_version": "1.2.0",
            "grid_template_areas": null,
            "object_position": null,
            "object_fit": null,
            "grid_auto_columns": null,
            "margin": null,
            "display": null,
            "left": null
          }
        },
        "431992bc33d1414a96a942ac8d2fef94": {
          "model_module": "@jupyter-widgets/controls",
          "model_name": "HTMLModel",
          "model_module_version": "1.5.0",
          "state": {
            "_view_name": "HTMLView",
            "style": "IPY_MODEL_aaddc93a1b634b35b34e35d2baee282f",
            "_dom_classes": [],
            "description": "",
            "_model_name": "HTMLModel",
            "placeholder": "​",
            "_view_module": "@jupyter-widgets/controls",
            "_model_module_version": "1.5.0",
            "value": "days_with_fog:\tregression...iter200/200: 100%",
            "_view_count": null,
            "_view_module_version": "1.5.0",
            "description_tooltip": null,
            "_model_module": "@jupyter-widgets/controls",
            "layout": "IPY_MODEL_49f5fa81d71b4191b7cd36b33359c061"
          }
        },
        "fcaf9d7a44244f75843088a55112e413": {
          "model_module": "@jupyter-widgets/controls",
          "model_name": "FloatProgressModel",
          "model_module_version": "1.5.0",
          "state": {
            "_view_name": "ProgressView",
            "style": "IPY_MODEL_b4ac5701b9524442bab4f7cd35353d40",
            "_dom_classes": [],
            "description": "",
            "_model_name": "FloatProgressModel",
            "bar_style": "success",
            "max": 1,
            "_view_module": "@jupyter-widgets/controls",
            "_model_module_version": "1.5.0",
            "value": 1,
            "_view_count": null,
            "_view_module_version": "1.5.0",
            "orientation": "horizontal",
            "min": 0,
            "description_tooltip": null,
            "_model_module": "@jupyter-widgets/controls",
            "layout": "IPY_MODEL_7db364bfb05542f986053f9fd19a96e4"
          }
        },
        "9e8cd8f11a9f41009505da04699689e8": {
          "model_module": "@jupyter-widgets/controls",
          "model_name": "HTMLModel",
          "model_module_version": "1.5.0",
          "state": {
            "_view_name": "HTMLView",
            "style": "IPY_MODEL_6f65cdb1532c4fd5927c1ec750893560",
            "_dom_classes": [],
            "description": "",
            "_model_name": "HTMLModel",
            "placeholder": "​",
            "_view_module": "@jupyter-widgets/controls",
            "_model_module_version": "1.5.0",
            "value": " 1/1 [00:02&lt;00:00,  2.23s/it]",
            "_view_count": null,
            "_view_module_version": "1.5.0",
            "description_tooltip": null,
            "_model_module": "@jupyter-widgets/controls",
            "layout": "IPY_MODEL_ab90b190437a465fbf1c27d5f22aea3f"
          }
        },
        "aaddc93a1b634b35b34e35d2baee282f": {
          "model_module": "@jupyter-widgets/controls",
          "model_name": "DescriptionStyleModel",
          "model_module_version": "1.5.0",
          "state": {
            "_view_name": "StyleView",
            "_model_name": "DescriptionStyleModel",
            "description_width": "",
            "_view_module": "@jupyter-widgets/base",
            "_model_module_version": "1.5.0",
            "_view_count": null,
            "_view_module_version": "1.2.0",
            "_model_module": "@jupyter-widgets/controls"
          }
        },
        "49f5fa81d71b4191b7cd36b33359c061": {
          "model_module": "@jupyter-widgets/base",
          "model_name": "LayoutModel",
          "model_module_version": "1.2.0",
          "state": {
            "_view_name": "LayoutView",
            "grid_template_rows": null,
            "right": null,
            "justify_content": null,
            "_view_module": "@jupyter-widgets/base",
            "overflow": null,
            "_model_module_version": "1.2.0",
            "_view_count": null,
            "flex_flow": null,
            "width": null,
            "min_width": null,
            "border": null,
            "align_items": null,
            "bottom": null,
            "_model_module": "@jupyter-widgets/base",
            "top": null,
            "grid_column": null,
            "overflow_y": null,
            "overflow_x": null,
            "grid_auto_flow": null,
            "grid_area": null,
            "grid_template_columns": null,
            "flex": null,
            "_model_name": "LayoutModel",
            "justify_items": null,
            "grid_row": null,
            "max_height": null,
            "align_content": null,
            "visibility": null,
            "align_self": null,
            "height": null,
            "min_height": null,
            "padding": null,
            "grid_auto_rows": null,
            "grid_gap": null,
            "max_width": null,
            "order": null,
            "_view_module_version": "1.2.0",
            "grid_template_areas": null,
            "object_position": null,
            "object_fit": null,
            "grid_auto_columns": null,
            "margin": null,
            "display": null,
            "left": null
          }
        },
        "b4ac5701b9524442bab4f7cd35353d40": {
          "model_module": "@jupyter-widgets/controls",
          "model_name": "ProgressStyleModel",
          "model_module_version": "1.5.0",
          "state": {
            "_view_name": "StyleView",
            "_model_name": "ProgressStyleModel",
            "description_width": "",
            "_view_module": "@jupyter-widgets/base",
            "_model_module_version": "1.5.0",
            "_view_count": null,
            "_view_module_version": "1.2.0",
            "bar_color": null,
            "_model_module": "@jupyter-widgets/controls"
          }
        },
        "7db364bfb05542f986053f9fd19a96e4": {
          "model_module": "@jupyter-widgets/base",
          "model_name": "LayoutModel",
          "model_module_version": "1.2.0",
          "state": {
            "_view_name": "LayoutView",
            "grid_template_rows": null,
            "right": null,
            "justify_content": null,
            "_view_module": "@jupyter-widgets/base",
            "overflow": null,
            "_model_module_version": "1.2.0",
            "_view_count": null,
            "flex_flow": null,
            "width": null,
            "min_width": null,
            "border": null,
            "align_items": null,
            "bottom": null,
            "_model_module": "@jupyter-widgets/base",
            "top": null,
            "grid_column": null,
            "overflow_y": null,
            "overflow_x": null,
            "grid_auto_flow": null,
            "grid_area": null,
            "grid_template_columns": null,
            "flex": null,
            "_model_name": "LayoutModel",
            "justify_items": null,
            "grid_row": null,
            "max_height": null,
            "align_content": null,
            "visibility": null,
            "align_self": null,
            "height": null,
            "min_height": null,
            "padding": null,
            "grid_auto_rows": null,
            "grid_gap": null,
            "max_width": null,
            "order": null,
            "_view_module_version": "1.2.0",
            "grid_template_areas": null,
            "object_position": null,
            "object_fit": null,
            "grid_auto_columns": null,
            "margin": null,
            "display": null,
            "left": null
          }
        },
        "6f65cdb1532c4fd5927c1ec750893560": {
          "model_module": "@jupyter-widgets/controls",
          "model_name": "DescriptionStyleModel",
          "model_module_version": "1.5.0",
          "state": {
            "_view_name": "StyleView",
            "_model_name": "DescriptionStyleModel",
            "description_width": "",
            "_view_module": "@jupyter-widgets/base",
            "_model_module_version": "1.5.0",
            "_view_count": null,
            "_view_module_version": "1.2.0",
            "_model_module": "@jupyter-widgets/controls"
          }
        },
        "ab90b190437a465fbf1c27d5f22aea3f": {
          "model_module": "@jupyter-widgets/base",
          "model_name": "LayoutModel",
          "model_module_version": "1.2.0",
          "state": {
            "_view_name": "LayoutView",
            "grid_template_rows": null,
            "right": null,
            "justify_content": null,
            "_view_module": "@jupyter-widgets/base",
            "overflow": null,
            "_model_module_version": "1.2.0",
            "_view_count": null,
            "flex_flow": null,
            "width": null,
            "min_width": null,
            "border": null,
            "align_items": null,
            "bottom": null,
            "_model_module": "@jupyter-widgets/base",
            "top": null,
            "grid_column": null,
            "overflow_y": null,
            "overflow_x": null,
            "grid_auto_flow": null,
            "grid_area": null,
            "grid_template_columns": null,
            "flex": null,
            "_model_name": "LayoutModel",
            "justify_items": null,
            "grid_row": null,
            "max_height": null,
            "align_content": null,
            "visibility": null,
            "align_self": null,
            "height": null,
            "min_height": null,
            "padding": null,
            "grid_auto_rows": null,
            "grid_gap": null,
            "max_width": null,
            "order": null,
            "_view_module_version": "1.2.0",
            "grid_template_areas": null,
            "object_position": null,
            "object_fit": null,
            "grid_auto_columns": null,
            "margin": null,
            "display": null,
            "left": null
          }
        }
      }
    }
  },
  "cells": [
    {
      "cell_type": "code",
      "execution_count": null,
      "metadata": {
        "id": "9TS6mJ6hLtOT"
      },
      "outputs": [],
      "source": [
        "import numpy as np\n",
        "import pandas as pd\n",
        "import seaborn as sns\n",
        "import matplotlib.pyplot as plt\n",
        "from matplotlib.pyplot import figure"
      ]
    },
    {
      "cell_type": "code",
      "source": [
        "from google.colab import drive\n",
        "drive.mount('/content/drive')"
      ],
      "metadata": {
        "colab": {
          "base_uri": "https://localhost:8080/"
        },
        "id": "lrp9dzTvXrag",
        "outputId": "d55f05bb-32f6-4d71-ede0-dcedf8bf8f6c"
      },
      "execution_count": null,
      "outputs": [
        {
          "output_type": "stream",
          "name": "stdout",
          "text": [
            "Mounted at /content/drive\n"
          ]
        }
      ]
    },
    {
      "cell_type": "code",
      "source": [
        "%cd /content/drive/MyDrive/OMDENA SV"
      ],
      "metadata": {
        "colab": {
          "base_uri": "https://localhost:8080/"
        },
        "id": "H9INW1bXXx7J",
        "outputId": "db8d9d27-1e24-4c92-9ddf-bb048ab6f27a"
      },
      "execution_count": null,
      "outputs": [
        {
          "output_type": "stream",
          "name": "stdout",
          "text": [
            "/content/drive/MyDrive/OMDENA SV\n"
          ]
        }
      ]
    },
    {
      "cell_type": "code",
      "source": [
        "df = pd.read_csv('train.csv')"
      ],
      "metadata": {
        "id": "3IGkKllZNELE"
      },
      "execution_count": null,
      "outputs": []
    },
    {
      "cell_type": "code",
      "source": [
        "df.shape"
      ],
      "metadata": {
        "colab": {
          "base_uri": "https://localhost:8080/"
        },
        "id": "vV7b_1QTNKKc",
        "outputId": "86319de8-c5ae-41da-cd75-9da7d08da084"
      },
      "execution_count": null,
      "outputs": [
        {
          "output_type": "execute_result",
          "data": {
            "text/plain": [
              "(75757, 64)"
            ]
          },
          "metadata": {},
          "execution_count": 5
        }
      ]
    },
    {
      "cell_type": "code",
      "source": [
        "df.columns"
      ],
      "metadata": {
        "colab": {
          "base_uri": "https://localhost:8080/"
        },
        "id": "PFo1gK0jNZNg",
        "outputId": "a6ad7c09-10a1-4d68-b5db-04e8fe6c61a2"
      },
      "execution_count": null,
      "outputs": [
        {
          "output_type": "execute_result",
          "data": {
            "text/plain": [
              "Index(['Year_Factor', 'State_Factor', 'building_class', 'facility_type',\n",
              "       'floor_area', 'year_built', 'energy_star_rating', 'ELEVATION',\n",
              "       'january_min_temp', 'january_avg_temp', 'january_max_temp',\n",
              "       'february_min_temp', 'february_avg_temp', 'february_max_temp',\n",
              "       'march_min_temp', 'march_avg_temp', 'march_max_temp', 'april_min_temp',\n",
              "       'april_avg_temp', 'april_max_temp', 'may_min_temp', 'may_avg_temp',\n",
              "       'may_max_temp', 'june_min_temp', 'june_avg_temp', 'june_max_temp',\n",
              "       'july_min_temp', 'july_avg_temp', 'july_max_temp', 'august_min_temp',\n",
              "       'august_avg_temp', 'august_max_temp', 'september_min_temp',\n",
              "       'september_avg_temp', 'september_max_temp', 'october_min_temp',\n",
              "       'october_avg_temp', 'october_max_temp', 'november_min_temp',\n",
              "       'november_avg_temp', 'november_max_temp', 'december_min_temp',\n",
              "       'december_avg_temp', 'december_max_temp', 'cooling_degree_days',\n",
              "       'heating_degree_days', 'precipitation_inches', 'snowfall_inches',\n",
              "       'snowdepth_inches', 'avg_temp', 'days_below_30F', 'days_below_20F',\n",
              "       'days_below_10F', 'days_below_0F', 'days_above_80F', 'days_above_90F',\n",
              "       'days_above_100F', 'days_above_110F', 'direction_max_wind_speed',\n",
              "       'direction_peak_wind_speed', 'max_wind_speed', 'days_with_fog',\n",
              "       'site_eui', 'id'],\n",
              "      dtype='object')"
            ]
          },
          "metadata": {},
          "execution_count": 6
        }
      ]
    },
    {
      "cell_type": "markdown",
      "source": [
        "### Dropping 1"
      ],
      "metadata": {
        "id": "p7MvXvYST_zi"
      }
    },
    {
      "cell_type": "code",
      "source": [
        "Drop = ['building_class','energy_star_rating','avg_temp','days_above_100F','days_above_110F','direction_max_wind_speed',\n",
        "       'direction_peak_wind_speed', 'max_wind_speed','id']"
      ],
      "metadata": {
        "id": "ok96D_O7NMG_"
      },
      "execution_count": null,
      "outputs": []
    },
    {
      "cell_type": "code",
      "source": [
        "train_data= df.drop(Drop,axis =1)"
      ],
      "metadata": {
        "id": "skOR9MGpO88W"
      },
      "execution_count": null,
      "outputs": []
    },
    {
      "cell_type": "code",
      "source": [
        "print(len(df.columns))\n",
        "print(len(train_data.columns))"
      ],
      "metadata": {
        "colab": {
          "base_uri": "https://localhost:8080/"
        },
        "id": "80Xkp9q3POba",
        "outputId": "838e94d2-39ae-432b-f611-837a384fca2d"
      },
      "execution_count": null,
      "outputs": [
        {
          "output_type": "stream",
          "name": "stdout",
          "text": [
            "64\n",
            "55\n"
          ]
        }
      ]
    },
    {
      "cell_type": "code",
      "source": [
        "train_data['Energy'] = train_data['floor_area']*train_data['site_eui']"
      ],
      "metadata": {
        "id": "KYaxsRy2NU-o"
      },
      "execution_count": null,
      "outputs": []
    },
    {
      "cell_type": "code",
      "source": [
        "train_data['facility_type'].nunique()"
      ],
      "metadata": {
        "colab": {
          "base_uri": "https://localhost:8080/"
        },
        "id": "6NZciHohPuhv",
        "outputId": "4d33257d-cdf5-4211-cc7a-ff25667f1b22"
      },
      "execution_count": null,
      "outputs": [
        {
          "output_type": "execute_result",
          "data": {
            "text/plain": [
              "60"
            ]
          },
          "metadata": {},
          "execution_count": 11
        }
      ]
    },
    {
      "cell_type": "markdown",
      "source": [
        "### Months to season and dropping 2"
      ],
      "metadata": {
        "id": "EL3PL70GUEup"
      }
    },
    {
      "cell_type": "code",
      "source": [
        "train_data['winter_average_temp'] = (train_data['january_avg_temp'] + train_data['february_avg_temp'] + train_data['december_avg_temp'])/3\n",
        "train_data['summer_average_temp'] = (train_data['june_avg_temp'] + train_data['july_avg_temp'] + train_data['august_avg_temp'])/3\n",
        "train_data['fall_average_temp'] = (train_data['september_avg_temp'] + train_data['october_avg_temp'] + train_data['november_avg_temp'])/3\n",
        "train_data['spring_average_temp'] = (train_data['march_avg_temp'] + train_data['april_avg_temp'] + train_data['may_avg_temp'])/3\n",
        "\n",
        "train_data['winter_average_maxtemp'] = (train_data['january_max_temp'] + train_data['february_max_temp'] + train_data['december_max_temp'])/3\n",
        "train_data['summer_average_maxtemp'] = (train_data['june_max_temp'] + train_data['july_max_temp'] + train_data['august_max_temp'])/3\n",
        "train_data['fall_average_maxtemp'] = (train_data['september_max_temp'] + train_data['october_max_temp'] + train_data['november_max_temp'])/3\n",
        "train_data['spring_average_maxtemp'] = (train_data['march_max_temp'] + train_data['april_max_temp'] + train_data['may_max_temp'])/3\n",
        "\n",
        "train_data['winter_average_mintemp'] = (train_data['january_min_temp'] + train_data['february_min_temp'] + train_data['december_min_temp'])/3\n",
        "train_data['summer_average_mintemp'] = (train_data['june_min_temp'] + train_data['july_min_temp'] + train_data['august_min_temp'])/3\n",
        "train_data['fall_average_mintemp'] = (train_data['september_min_temp'] + train_data['october_min_temp'] + train_data['november_min_temp'])/3\n",
        "train_data['spring_average_mintemp'] = (train_data['march_min_temp'] + train_data['april_min_temp'] + train_data['may_min_temp'])/3\n",
        "\n",
        "train_data.head()"
      ],
      "metadata": {
        "colab": {
          "base_uri": "https://localhost:8080/",
          "height": 270
        },
        "id": "lavJakRKQSAz",
        "outputId": "bc303b85-2e0a-4477-ff2a-06e0f540c0a0"
      },
      "execution_count": null,
      "outputs": [
        {
          "output_type": "execute_result",
          "data": {
            "text/html": [
              "\n",
              "  <div id=\"df-cce630f6-b652-4d2e-9d9c-02a77b1727fe\">\n",
              "    <div class=\"colab-df-container\">\n",
              "      <div>\n",
              "<style scoped>\n",
              "    .dataframe tbody tr th:only-of-type {\n",
              "        vertical-align: middle;\n",
              "    }\n",
              "\n",
              "    .dataframe tbody tr th {\n",
              "        vertical-align: top;\n",
              "    }\n",
              "\n",
              "    .dataframe thead th {\n",
              "        text-align: right;\n",
              "    }\n",
              "</style>\n",
              "<table border=\"1\" class=\"dataframe\">\n",
              "  <thead>\n",
              "    <tr style=\"text-align: right;\">\n",
              "      <th></th>\n",
              "      <th>Year_Factor</th>\n",
              "      <th>State_Factor</th>\n",
              "      <th>facility_type</th>\n",
              "      <th>floor_area</th>\n",
              "      <th>year_built</th>\n",
              "      <th>ELEVATION</th>\n",
              "      <th>january_min_temp</th>\n",
              "      <th>january_avg_temp</th>\n",
              "      <th>january_max_temp</th>\n",
              "      <th>february_min_temp</th>\n",
              "      <th>february_avg_temp</th>\n",
              "      <th>february_max_temp</th>\n",
              "      <th>march_min_temp</th>\n",
              "      <th>march_avg_temp</th>\n",
              "      <th>march_max_temp</th>\n",
              "      <th>april_min_temp</th>\n",
              "      <th>april_avg_temp</th>\n",
              "      <th>april_max_temp</th>\n",
              "      <th>may_min_temp</th>\n",
              "      <th>may_avg_temp</th>\n",
              "      <th>may_max_temp</th>\n",
              "      <th>june_min_temp</th>\n",
              "      <th>june_avg_temp</th>\n",
              "      <th>june_max_temp</th>\n",
              "      <th>july_min_temp</th>\n",
              "      <th>july_avg_temp</th>\n",
              "      <th>july_max_temp</th>\n",
              "      <th>august_min_temp</th>\n",
              "      <th>august_avg_temp</th>\n",
              "      <th>august_max_temp</th>\n",
              "      <th>september_min_temp</th>\n",
              "      <th>september_avg_temp</th>\n",
              "      <th>september_max_temp</th>\n",
              "      <th>october_min_temp</th>\n",
              "      <th>october_avg_temp</th>\n",
              "      <th>october_max_temp</th>\n",
              "      <th>november_min_temp</th>\n",
              "      <th>november_avg_temp</th>\n",
              "      <th>november_max_temp</th>\n",
              "      <th>december_min_temp</th>\n",
              "      <th>december_avg_temp</th>\n",
              "      <th>december_max_temp</th>\n",
              "      <th>cooling_degree_days</th>\n",
              "      <th>heating_degree_days</th>\n",
              "      <th>precipitation_inches</th>\n",
              "      <th>snowfall_inches</th>\n",
              "      <th>snowdepth_inches</th>\n",
              "      <th>days_below_30F</th>\n",
              "      <th>days_below_20F</th>\n",
              "      <th>days_below_10F</th>\n",
              "      <th>days_below_0F</th>\n",
              "      <th>days_above_80F</th>\n",
              "      <th>days_above_90F</th>\n",
              "      <th>days_with_fog</th>\n",
              "      <th>site_eui</th>\n",
              "      <th>Energy</th>\n",
              "      <th>winter_average_temp</th>\n",
              "      <th>summer_average_temp</th>\n",
              "      <th>fall_average_temp</th>\n",
              "      <th>spring_average_temp</th>\n",
              "      <th>winter_average_maxtemp</th>\n",
              "      <th>summer_average_maxtemp</th>\n",
              "      <th>fall_average_maxtemp</th>\n",
              "      <th>spring_average_maxtemp</th>\n",
              "      <th>winter_average_mintemp</th>\n",
              "      <th>summer_average_mintemp</th>\n",
              "      <th>fall_average_mintemp</th>\n",
              "      <th>spring_average_mintemp</th>\n",
              "    </tr>\n",
              "  </thead>\n",
              "  <tbody>\n",
              "    <tr>\n",
              "      <th>0</th>\n",
              "      <td>1</td>\n",
              "      <td>State_1</td>\n",
              "      <td>Grocery_store_or_food_market</td>\n",
              "      <td>61242.0</td>\n",
              "      <td>1942.0</td>\n",
              "      <td>2.4</td>\n",
              "      <td>36</td>\n",
              "      <td>50.5</td>\n",
              "      <td>68</td>\n",
              "      <td>35</td>\n",
              "      <td>50.589286</td>\n",
              "      <td>73</td>\n",
              "      <td>40</td>\n",
              "      <td>53.693548</td>\n",
              "      <td>80</td>\n",
              "      <td>41</td>\n",
              "      <td>55.5</td>\n",
              "      <td>78</td>\n",
              "      <td>46</td>\n",
              "      <td>56.854839</td>\n",
              "      <td>84</td>\n",
              "      <td>50</td>\n",
              "      <td>60.5</td>\n",
              "      <td>90</td>\n",
              "      <td>52</td>\n",
              "      <td>62.725806</td>\n",
              "      <td>84</td>\n",
              "      <td>52</td>\n",
              "      <td>62.16129</td>\n",
              "      <td>85</td>\n",
              "      <td>52</td>\n",
              "      <td>64.65</td>\n",
              "      <td>90</td>\n",
              "      <td>47</td>\n",
              "      <td>63.016129</td>\n",
              "      <td>83</td>\n",
              "      <td>43</td>\n",
              "      <td>53.8</td>\n",
              "      <td>72</td>\n",
              "      <td>36</td>\n",
              "      <td>49.274194</td>\n",
              "      <td>71</td>\n",
              "      <td>115</td>\n",
              "      <td>2960</td>\n",
              "      <td>16.59</td>\n",
              "      <td>0.0</td>\n",
              "      <td>0</td>\n",
              "      <td>0</td>\n",
              "      <td>0</td>\n",
              "      <td>0</td>\n",
              "      <td>0</td>\n",
              "      <td>14</td>\n",
              "      <td>0</td>\n",
              "      <td>NaN</td>\n",
              "      <td>248.682615</td>\n",
              "      <td>1.522982e+07</td>\n",
              "      <td>50.12116</td>\n",
              "      <td>61.795699</td>\n",
              "      <td>60.48871</td>\n",
              "      <td>55.349462</td>\n",
              "      <td>70.666667</td>\n",
              "      <td>86.333333</td>\n",
              "      <td>81.666667</td>\n",
              "      <td>80.666667</td>\n",
              "      <td>35.666667</td>\n",
              "      <td>51.333333</td>\n",
              "      <td>47.333333</td>\n",
              "      <td>42.333333</td>\n",
              "    </tr>\n",
              "    <tr>\n",
              "      <th>1</th>\n",
              "      <td>1</td>\n",
              "      <td>State_1</td>\n",
              "      <td>Warehouse_Distribution_or_Shipping_center</td>\n",
              "      <td>274000.0</td>\n",
              "      <td>1955.0</td>\n",
              "      <td>1.8</td>\n",
              "      <td>36</td>\n",
              "      <td>50.5</td>\n",
              "      <td>68</td>\n",
              "      <td>35</td>\n",
              "      <td>50.589286</td>\n",
              "      <td>73</td>\n",
              "      <td>40</td>\n",
              "      <td>53.693548</td>\n",
              "      <td>80</td>\n",
              "      <td>41</td>\n",
              "      <td>55.5</td>\n",
              "      <td>78</td>\n",
              "      <td>46</td>\n",
              "      <td>56.854839</td>\n",
              "      <td>84</td>\n",
              "      <td>50</td>\n",
              "      <td>60.5</td>\n",
              "      <td>90</td>\n",
              "      <td>52</td>\n",
              "      <td>62.725806</td>\n",
              "      <td>84</td>\n",
              "      <td>52</td>\n",
              "      <td>62.16129</td>\n",
              "      <td>85</td>\n",
              "      <td>52</td>\n",
              "      <td>64.65</td>\n",
              "      <td>90</td>\n",
              "      <td>47</td>\n",
              "      <td>63.016129</td>\n",
              "      <td>83</td>\n",
              "      <td>43</td>\n",
              "      <td>53.8</td>\n",
              "      <td>72</td>\n",
              "      <td>36</td>\n",
              "      <td>49.274194</td>\n",
              "      <td>71</td>\n",
              "      <td>115</td>\n",
              "      <td>2960</td>\n",
              "      <td>16.59</td>\n",
              "      <td>0.0</td>\n",
              "      <td>0</td>\n",
              "      <td>0</td>\n",
              "      <td>0</td>\n",
              "      <td>0</td>\n",
              "      <td>0</td>\n",
              "      <td>14</td>\n",
              "      <td>0</td>\n",
              "      <td>12.0</td>\n",
              "      <td>26.500150</td>\n",
              "      <td>7.261041e+06</td>\n",
              "      <td>50.12116</td>\n",
              "      <td>61.795699</td>\n",
              "      <td>60.48871</td>\n",
              "      <td>55.349462</td>\n",
              "      <td>70.666667</td>\n",
              "      <td>86.333333</td>\n",
              "      <td>81.666667</td>\n",
              "      <td>80.666667</td>\n",
              "      <td>35.666667</td>\n",
              "      <td>51.333333</td>\n",
              "      <td>47.333333</td>\n",
              "      <td>42.333333</td>\n",
              "    </tr>\n",
              "    <tr>\n",
              "      <th>2</th>\n",
              "      <td>1</td>\n",
              "      <td>State_1</td>\n",
              "      <td>Retail_Enclosed_mall</td>\n",
              "      <td>280025.0</td>\n",
              "      <td>1951.0</td>\n",
              "      <td>1.8</td>\n",
              "      <td>36</td>\n",
              "      <td>50.5</td>\n",
              "      <td>68</td>\n",
              "      <td>35</td>\n",
              "      <td>50.589286</td>\n",
              "      <td>73</td>\n",
              "      <td>40</td>\n",
              "      <td>53.693548</td>\n",
              "      <td>80</td>\n",
              "      <td>41</td>\n",
              "      <td>55.5</td>\n",
              "      <td>78</td>\n",
              "      <td>46</td>\n",
              "      <td>56.854839</td>\n",
              "      <td>84</td>\n",
              "      <td>50</td>\n",
              "      <td>60.5</td>\n",
              "      <td>90</td>\n",
              "      <td>52</td>\n",
              "      <td>62.725806</td>\n",
              "      <td>84</td>\n",
              "      <td>52</td>\n",
              "      <td>62.16129</td>\n",
              "      <td>85</td>\n",
              "      <td>52</td>\n",
              "      <td>64.65</td>\n",
              "      <td>90</td>\n",
              "      <td>47</td>\n",
              "      <td>63.016129</td>\n",
              "      <td>83</td>\n",
              "      <td>43</td>\n",
              "      <td>53.8</td>\n",
              "      <td>72</td>\n",
              "      <td>36</td>\n",
              "      <td>49.274194</td>\n",
              "      <td>71</td>\n",
              "      <td>115</td>\n",
              "      <td>2960</td>\n",
              "      <td>16.59</td>\n",
              "      <td>0.0</td>\n",
              "      <td>0</td>\n",
              "      <td>0</td>\n",
              "      <td>0</td>\n",
              "      <td>0</td>\n",
              "      <td>0</td>\n",
              "      <td>14</td>\n",
              "      <td>0</td>\n",
              "      <td>12.0</td>\n",
              "      <td>24.693619</td>\n",
              "      <td>6.914831e+06</td>\n",
              "      <td>50.12116</td>\n",
              "      <td>61.795699</td>\n",
              "      <td>60.48871</td>\n",
              "      <td>55.349462</td>\n",
              "      <td>70.666667</td>\n",
              "      <td>86.333333</td>\n",
              "      <td>81.666667</td>\n",
              "      <td>80.666667</td>\n",
              "      <td>35.666667</td>\n",
              "      <td>51.333333</td>\n",
              "      <td>47.333333</td>\n",
              "      <td>42.333333</td>\n",
              "    </tr>\n",
              "    <tr>\n",
              "      <th>3</th>\n",
              "      <td>1</td>\n",
              "      <td>State_1</td>\n",
              "      <td>Education_Other_classroom</td>\n",
              "      <td>55325.0</td>\n",
              "      <td>1980.0</td>\n",
              "      <td>1.8</td>\n",
              "      <td>36</td>\n",
              "      <td>50.5</td>\n",
              "      <td>68</td>\n",
              "      <td>35</td>\n",
              "      <td>50.589286</td>\n",
              "      <td>73</td>\n",
              "      <td>40</td>\n",
              "      <td>53.693548</td>\n",
              "      <td>80</td>\n",
              "      <td>41</td>\n",
              "      <td>55.5</td>\n",
              "      <td>78</td>\n",
              "      <td>46</td>\n",
              "      <td>56.854839</td>\n",
              "      <td>84</td>\n",
              "      <td>50</td>\n",
              "      <td>60.5</td>\n",
              "      <td>90</td>\n",
              "      <td>52</td>\n",
              "      <td>62.725806</td>\n",
              "      <td>84</td>\n",
              "      <td>52</td>\n",
              "      <td>62.16129</td>\n",
              "      <td>85</td>\n",
              "      <td>52</td>\n",
              "      <td>64.65</td>\n",
              "      <td>90</td>\n",
              "      <td>47</td>\n",
              "      <td>63.016129</td>\n",
              "      <td>83</td>\n",
              "      <td>43</td>\n",
              "      <td>53.8</td>\n",
              "      <td>72</td>\n",
              "      <td>36</td>\n",
              "      <td>49.274194</td>\n",
              "      <td>71</td>\n",
              "      <td>115</td>\n",
              "      <td>2960</td>\n",
              "      <td>16.59</td>\n",
              "      <td>0.0</td>\n",
              "      <td>0</td>\n",
              "      <td>0</td>\n",
              "      <td>0</td>\n",
              "      <td>0</td>\n",
              "      <td>0</td>\n",
              "      <td>14</td>\n",
              "      <td>0</td>\n",
              "      <td>12.0</td>\n",
              "      <td>48.406926</td>\n",
              "      <td>2.678113e+06</td>\n",
              "      <td>50.12116</td>\n",
              "      <td>61.795699</td>\n",
              "      <td>60.48871</td>\n",
              "      <td>55.349462</td>\n",
              "      <td>70.666667</td>\n",
              "      <td>86.333333</td>\n",
              "      <td>81.666667</td>\n",
              "      <td>80.666667</td>\n",
              "      <td>35.666667</td>\n",
              "      <td>51.333333</td>\n",
              "      <td>47.333333</td>\n",
              "      <td>42.333333</td>\n",
              "    </tr>\n",
              "    <tr>\n",
              "      <th>4</th>\n",
              "      <td>1</td>\n",
              "      <td>State_1</td>\n",
              "      <td>Warehouse_Nonrefrigerated</td>\n",
              "      <td>66000.0</td>\n",
              "      <td>1985.0</td>\n",
              "      <td>2.4</td>\n",
              "      <td>36</td>\n",
              "      <td>50.5</td>\n",
              "      <td>68</td>\n",
              "      <td>35</td>\n",
              "      <td>50.589286</td>\n",
              "      <td>73</td>\n",
              "      <td>40</td>\n",
              "      <td>53.693548</td>\n",
              "      <td>80</td>\n",
              "      <td>41</td>\n",
              "      <td>55.5</td>\n",
              "      <td>78</td>\n",
              "      <td>46</td>\n",
              "      <td>56.854839</td>\n",
              "      <td>84</td>\n",
              "      <td>50</td>\n",
              "      <td>60.5</td>\n",
              "      <td>90</td>\n",
              "      <td>52</td>\n",
              "      <td>62.725806</td>\n",
              "      <td>84</td>\n",
              "      <td>52</td>\n",
              "      <td>62.16129</td>\n",
              "      <td>85</td>\n",
              "      <td>52</td>\n",
              "      <td>64.65</td>\n",
              "      <td>90</td>\n",
              "      <td>47</td>\n",
              "      <td>63.016129</td>\n",
              "      <td>83</td>\n",
              "      <td>43</td>\n",
              "      <td>53.8</td>\n",
              "      <td>72</td>\n",
              "      <td>36</td>\n",
              "      <td>49.274194</td>\n",
              "      <td>71</td>\n",
              "      <td>115</td>\n",
              "      <td>2960</td>\n",
              "      <td>16.59</td>\n",
              "      <td>0.0</td>\n",
              "      <td>0</td>\n",
              "      <td>0</td>\n",
              "      <td>0</td>\n",
              "      <td>0</td>\n",
              "      <td>0</td>\n",
              "      <td>14</td>\n",
              "      <td>0</td>\n",
              "      <td>NaN</td>\n",
              "      <td>3.899395</td>\n",
              "      <td>2.573601e+05</td>\n",
              "      <td>50.12116</td>\n",
              "      <td>61.795699</td>\n",
              "      <td>60.48871</td>\n",
              "      <td>55.349462</td>\n",
              "      <td>70.666667</td>\n",
              "      <td>86.333333</td>\n",
              "      <td>81.666667</td>\n",
              "      <td>80.666667</td>\n",
              "      <td>35.666667</td>\n",
              "      <td>51.333333</td>\n",
              "      <td>47.333333</td>\n",
              "      <td>42.333333</td>\n",
              "    </tr>\n",
              "  </tbody>\n",
              "</table>\n",
              "</div>\n",
              "      <button class=\"colab-df-convert\" onclick=\"convertToInteractive('df-cce630f6-b652-4d2e-9d9c-02a77b1727fe')\"\n",
              "              title=\"Convert this dataframe to an interactive table.\"\n",
              "              style=\"display:none;\">\n",
              "        \n",
              "  <svg xmlns=\"http://www.w3.org/2000/svg\" height=\"24px\"viewBox=\"0 0 24 24\"\n",
              "       width=\"24px\">\n",
              "    <path d=\"M0 0h24v24H0V0z\" fill=\"none\"/>\n",
              "    <path d=\"M18.56 5.44l.94 2.06.94-2.06 2.06-.94-2.06-.94-.94-2.06-.94 2.06-2.06.94zm-11 1L8.5 8.5l.94-2.06 2.06-.94-2.06-.94L8.5 2.5l-.94 2.06-2.06.94zm10 10l.94 2.06.94-2.06 2.06-.94-2.06-.94-.94-2.06-.94 2.06-2.06.94z\"/><path d=\"M17.41 7.96l-1.37-1.37c-.4-.4-.92-.59-1.43-.59-.52 0-1.04.2-1.43.59L10.3 9.45l-7.72 7.72c-.78.78-.78 2.05 0 2.83L4 21.41c.39.39.9.59 1.41.59.51 0 1.02-.2 1.41-.59l7.78-7.78 2.81-2.81c.8-.78.8-2.07 0-2.86zM5.41 20L4 18.59l7.72-7.72 1.47 1.35L5.41 20z\"/>\n",
              "  </svg>\n",
              "      </button>\n",
              "      \n",
              "  <style>\n",
              "    .colab-df-container {\n",
              "      display:flex;\n",
              "      flex-wrap:wrap;\n",
              "      gap: 12px;\n",
              "    }\n",
              "\n",
              "    .colab-df-convert {\n",
              "      background-color: #E8F0FE;\n",
              "      border: none;\n",
              "      border-radius: 50%;\n",
              "      cursor: pointer;\n",
              "      display: none;\n",
              "      fill: #1967D2;\n",
              "      height: 32px;\n",
              "      padding: 0 0 0 0;\n",
              "      width: 32px;\n",
              "    }\n",
              "\n",
              "    .colab-df-convert:hover {\n",
              "      background-color: #E2EBFA;\n",
              "      box-shadow: 0px 1px 2px rgba(60, 64, 67, 0.3), 0px 1px 3px 1px rgba(60, 64, 67, 0.15);\n",
              "      fill: #174EA6;\n",
              "    }\n",
              "\n",
              "    [theme=dark] .colab-df-convert {\n",
              "      background-color: #3B4455;\n",
              "      fill: #D2E3FC;\n",
              "    }\n",
              "\n",
              "    [theme=dark] .colab-df-convert:hover {\n",
              "      background-color: #434B5C;\n",
              "      box-shadow: 0px 1px 3px 1px rgba(0, 0, 0, 0.15);\n",
              "      filter: drop-shadow(0px 1px 2px rgba(0, 0, 0, 0.3));\n",
              "      fill: #FFFFFF;\n",
              "    }\n",
              "  </style>\n",
              "\n",
              "      <script>\n",
              "        const buttonEl =\n",
              "          document.querySelector('#df-cce630f6-b652-4d2e-9d9c-02a77b1727fe button.colab-df-convert');\n",
              "        buttonEl.style.display =\n",
              "          google.colab.kernel.accessAllowed ? 'block' : 'none';\n",
              "\n",
              "        async function convertToInteractive(key) {\n",
              "          const element = document.querySelector('#df-cce630f6-b652-4d2e-9d9c-02a77b1727fe');\n",
              "          const dataTable =\n",
              "            await google.colab.kernel.invokeFunction('convertToInteractive',\n",
              "                                                     [key], {});\n",
              "          if (!dataTable) return;\n",
              "\n",
              "          const docLinkHtml = 'Like what you see? Visit the ' +\n",
              "            '<a target=\"_blank\" href=https://colab.research.google.com/notebooks/data_table.ipynb>data table notebook</a>'\n",
              "            + ' to learn more about interactive tables.';\n",
              "          element.innerHTML = '';\n",
              "          dataTable['output_type'] = 'display_data';\n",
              "          await google.colab.output.renderOutput(dataTable, element);\n",
              "          const docLink = document.createElement('div');\n",
              "          docLink.innerHTML = docLinkHtml;\n",
              "          element.appendChild(docLink);\n",
              "        }\n",
              "      </script>\n",
              "    </div>\n",
              "  </div>\n",
              "  "
            ],
            "text/plain": [
              "   Year_Factor State_Factor  ... fall_average_mintemp  spring_average_mintemp\n",
              "0            1      State_1  ...            47.333333               42.333333\n",
              "1            1      State_1  ...            47.333333               42.333333\n",
              "2            1      State_1  ...            47.333333               42.333333\n",
              "3            1      State_1  ...            47.333333               42.333333\n",
              "4            1      State_1  ...            47.333333               42.333333\n",
              "\n",
              "[5 rows x 68 columns]"
            ]
          },
          "metadata": {},
          "execution_count": 12
        }
      ]
    },
    {
      "cell_type": "code",
      "source": [
        "print(len(train_data.columns))"
      ],
      "metadata": {
        "colab": {
          "base_uri": "https://localhost:8080/"
        },
        "id": "ihrgVTbCRhAm",
        "outputId": "da8126f2-fb98-4922-82ce-a93b86ea88dd"
      },
      "execution_count": null,
      "outputs": [
        {
          "output_type": "stream",
          "name": "stdout",
          "text": [
            "68\n"
          ]
        }
      ]
    },
    {
      "cell_type": "code",
      "source": [
        "Dropped_temp = ['january_min_temp', 'january_avg_temp', 'january_max_temp',\n",
        "       'february_min_temp', 'february_avg_temp', 'february_max_temp',\n",
        "       'march_min_temp', 'march_avg_temp', 'march_max_temp', 'april_min_temp',\n",
        "       'april_avg_temp', 'april_max_temp', 'may_min_temp', 'may_avg_temp',\n",
        "       'may_max_temp', 'june_min_temp', 'june_avg_temp', 'june_max_temp',\n",
        "       'july_min_temp', 'july_avg_temp', 'july_max_temp', 'august_min_temp',\n",
        "       'august_avg_temp', 'august_max_temp', 'september_min_temp',\n",
        "       'september_avg_temp', 'september_max_temp', 'october_min_temp',\n",
        "       'october_avg_temp', 'october_max_temp', 'november_min_temp',\n",
        "       'november_avg_temp', 'november_max_temp', 'december_min_temp',\n",
        "       'december_avg_temp', 'december_max_temp']\n",
        "\n",
        "train_data = train_data.drop(Dropped_temp,axis =1)"
      ],
      "metadata": {
        "id": "MSSgLiZjRj_-"
      },
      "execution_count": null,
      "outputs": []
    },
    {
      "cell_type": "markdown",
      "source": [
        "### Facility type "
      ],
      "metadata": {
        "id": "Dn6joqlQUKGh"
      }
    },
    {
      "cell_type": "code",
      "source": [
        "facility_type = df['facility_type']"
      ],
      "metadata": {
        "id": "shBV-k6aTOSn"
      },
      "execution_count": null,
      "outputs": []
    },
    {
      "cell_type": "code",
      "source": [
        "train_data[\"facility_type\"]=train_data[\"facility_type\"].replace(['Warehouse_Refrigerated','Warehouse_Uncategorized'],\"Warehouse_Low\")\n",
        "train_data[\"facility_type\"]=train_data[\"facility_type\"].replace(['Warehouse_Selfstorage','Warehouse_Distribution_or_Shipping_center'],\"Warehouse_Med\")\n",
        "train_data[\"facility_type\"]=train_data[\"facility_type\"].replace(['Warehouse_Nonrefrigerated','Data_Center'],\"Warehouse_High\")\n",
        "\n",
        "train_data[\"facility_type\"]=train_data[\"facility_type\"].replace(['Mixed_Use_Predominantly_Commercial','Retail_Vehicle_dealership_showroom'],\"Commercial_Low\")\n",
        "train_data[\"facility_type\"]=train_data[\"facility_type\"].replace(['Commercial_Other','Commercial_Unknown','Mixed_Use_Commercial_and_Residential','Retail_Enclosed_mall','Retail_Strip_shopping_mall','Retail_Uncategorized'],\"Commercial_High\")\n",
        "\n",
        "train_data[\"facility_type\"]=train_data[\"facility_type\"].replace(['Lodging_Uncategorized'],\"Lodging_Low\")\n",
        "train_data[\"facility_type\"]=train_data[\"facility_type\"].replace(['Lodging_Other'],\"Lodging_Med\")\n",
        "train_data[\"facility_type\"]=train_data[\"facility_type\"].replace(['Lodging_Dormitory_or_fraternity_sorority','Lodging_Hotel'],\"Lodging_High\")\n",
        "\n",
        "train_data[\"facility_type\"]=train_data[\"facility_type\"].replace(['Education_Preschool_or_daycare'],\"Educational_Low\")\n",
        "train_data[\"facility_type\"]=train_data[\"facility_type\"].replace(['Education_College_or_university','Education_Other_classroom','Education_Uncategorized'],\"Educational_High\")\n",
        "\n",
        "train_data[\"facility_type\"]=train_data[\"facility_type\"].replace(['Food_Service_Other'],\"Food_Low\")\n",
        "train_data[\"facility_type\"]=train_data[\"facility_type\"].replace(['Food_Service_Restaurant_or_cafeteria','Food_Service_Uncategorized','Grocery_store_or_food_market'],\"Food_Med\")\n",
        "train_data[\"facility_type\"]=train_data[\"facility_type\"].replace(['Food_Sales'],\"Food_High\")\n",
        "\n",
        "train_data[\"facility_type\"]=train_data[\"facility_type\"].replace(['Public_Assembly_Library','Public_Assembly_Movie_Theater','Public_Assembly_Stadium' , 'Public_Safety_Fire_or_police_station','Public_Safety_Penitentiary','Public_Safety_Uncategorized','Religious_worship'],\"Public_Services_Low\")\n",
        "train_data[\"facility_type\"]=train_data[\"facility_type\"].replace(['Parking_Garage','Public_Assembly_Entertainment_culture','Public_Assembly_Other' , 'Public_Assembly_Social_meeting','Public_Assembly_Uncategorized','Public_Safety_Courthouse'],\"Public_Services_High\")\n",
        "\n",
        "train_data[\"facility_type\"]=train_data[\"facility_type\"].replace(['Service_Drycleaning_or_Laundry'],\"Services_Low\")\n",
        "train_data[\"facility_type\"]=train_data[\"facility_type\"].replace(['Service_Uncategorized','Service_Vehicle_service_repair_shop'],\"Services_High\")\n",
        "\n",
        "train_data[\"facility_type\"]=train_data[\"facility_type\"].replace(['Health_Care_Outpatient_Clinic','Health_Care_Outpatient_Uncategorized','Nursing_Home','Office_Medical_non_diagnostic'],\"Healthcare_Low\")\n",
        "train_data[\"facility_type\"]=train_data[\"facility_type\"].replace(['Health_Care_Uncategorized','Health_Care_Inpatient','Laboratory'],\"Healthcare_High\")\n",
        "\n",
        "train_data[\"facility_type\"]=train_data[\"facility_type\"].replace(['Office_Mixed_use'],\"Office_Low\")\n",
        "train_data[\"facility_type\"]=train_data[\"facility_type\"].replace(['Office_Bank_or_other_financial','Office_Uncategorized'],\"Office_High\")\n",
        "\n",
        "train_data[\"facility_type\"]=train_data[\"facility_type\"].replace(['Mixed_Use_Predominantly_Residential'],\"Residential_Low\")\n",
        "train_data[\"facility_type\"]=train_data[\"facility_type\"].replace(['2to4_Unit_Building','5plus_Unit_Building'],\"Residential_Med\")\n",
        "train_data[\"facility_type\"]=train_data[\"facility_type\"].replace(['Multifamily_Uncategorized'],\"Residential_High\")"
      ],
      "metadata": {
        "id": "GxGKlCFmR4ya"
      },
      "execution_count": null,
      "outputs": []
    },
    {
      "cell_type": "code",
      "source": [
        "train_data['facility_type'] = train_data[\"facility_type\"].dropna()"
      ],
      "metadata": {
        "id": "e9rByFOiSIDO"
      },
      "execution_count": null,
      "outputs": []
    },
    {
      "cell_type": "markdown",
      "source": [
        "### Encoding for facility_type"
      ],
      "metadata": {
        "id": "u_MDpOJSUReA"
      }
    },
    {
      "cell_type": "code",
      "source": [
        "from sklearn import preprocessing\n",
        "le = preprocessing.LabelEncoder()\n",
        "train_data['facility_type'] = le.fit_transform(train_data['facility_type'])"
      ],
      "metadata": {
        "id": "qQOwZ0HrSdk2"
      },
      "execution_count": null,
      "outputs": []
    },
    {
      "cell_type": "markdown",
      "source": [
        "Imputations of year_built"
      ],
      "metadata": {
        "id": "ovekr0iZal0Z"
      }
    },
    {
      "cell_type": "code",
      "source": [
        "train_data['year_built_is_null'] = train_data['year_built'].apply(lambda row: True if np.isnan(row) or row == 0 else False)"
      ],
      "metadata": {
        "id": "H9PMzBviaqcb"
      },
      "execution_count": null,
      "outputs": []
    },
    {
      "cell_type": "code",
      "source": [
        "train_data['year_built_is_null'].sum()"
      ],
      "metadata": {
        "colab": {
          "base_uri": "https://localhost:8080/"
        },
        "id": "KUtLXibRa1vk",
        "outputId": "ee1d9b94-9e77-4525-eb8a-a0bb65d3d371"
      },
      "execution_count": null,
      "outputs": [
        {
          "output_type": "execute_result",
          "data": {
            "text/plain": [
              "1843"
            ]
          },
          "metadata": {},
          "execution_count": 20
        }
      ]
    },
    {
      "cell_type": "code",
      "source": [
        "train_data.year_built.quantile([0.25,0.5,0.75, 1])"
      ],
      "metadata": {
        "colab": {
          "base_uri": "https://localhost:8080/"
        },
        "id": "10-ZNR-7a8-5",
        "outputId": "eb7a79e6-807c-48d3-8cfa-de5c9df61beb"
      },
      "execution_count": null,
      "outputs": [
        {
          "output_type": "execute_result",
          "data": {
            "text/plain": [
              "0.25    1927.0\n",
              "0.50    1951.0\n",
              "0.75    1977.0\n",
              "1.00    2015.0\n",
              "Name: year_built, dtype: float64"
            ]
          },
          "metadata": {},
          "execution_count": 21
        }
      ]
    },
    {
      "cell_type": "code",
      "source": [
        "# Get mode values per each group\n",
        "def get_mode(row):\n",
        "  \"\"\"\n",
        "  code reference: https://www.geeksforgeeks.org/python-multimode-of-list/\n",
        "\n",
        "  Customized by Dongyeun (Lael) K.\n",
        "  \"\"\"\n",
        "  import math\n",
        "  from collections import Counter\n",
        "  \n",
        "  mode = []\n",
        "  row_list = row.tolist()\n",
        "  test_list1 = Counter(row_list) \n",
        "  temp = test_list1.most_common(1)[0][1]\n",
        "\n",
        "  for ele in row_list:\n",
        "    if row_list.count(ele) == temp:\n",
        "      mode.append(ele)\n",
        "\n",
        "  mode_value = max(list(set(mode)))\n",
        "  \n",
        "  return mode_value\n",
        "\n",
        "mode_df = train_data[train_data.year_built_is_null == False].groupby(['Year_Factor','State_Factor', 'facility_type'])['year_built'].apply(get_mode).to_frame().reset_index().rename(columns={'year_built': 'year_built_mode'})\n",
        "mode_df.head(10)"
      ],
      "metadata": {
        "colab": {
          "base_uri": "https://localhost:8080/",
          "height": 363
        },
        "id": "hxEdd89tbCCz",
        "outputId": "082bb558-f431-4afa-bde8-b524778f36f5"
      },
      "execution_count": null,
      "outputs": [
        {
          "output_type": "execute_result",
          "data": {
            "text/html": [
              "\n",
              "  <div id=\"df-00a22e28-576b-4a8d-a1c6-49dbcfe9273d\">\n",
              "    <div class=\"colab-df-container\">\n",
              "      <div>\n",
              "<style scoped>\n",
              "    .dataframe tbody tr th:only-of-type {\n",
              "        vertical-align: middle;\n",
              "    }\n",
              "\n",
              "    .dataframe tbody tr th {\n",
              "        vertical-align: top;\n",
              "    }\n",
              "\n",
              "    .dataframe thead th {\n",
              "        text-align: right;\n",
              "    }\n",
              "</style>\n",
              "<table border=\"1\" class=\"dataframe\">\n",
              "  <thead>\n",
              "    <tr style=\"text-align: right;\">\n",
              "      <th></th>\n",
              "      <th>Year_Factor</th>\n",
              "      <th>State_Factor</th>\n",
              "      <th>facility_type</th>\n",
              "      <th>year_built_mode</th>\n",
              "    </tr>\n",
              "  </thead>\n",
              "  <tbody>\n",
              "    <tr>\n",
              "      <th>0</th>\n",
              "      <td>1</td>\n",
              "      <td>State_1</td>\n",
              "      <td>0</td>\n",
              "      <td>1909.0</td>\n",
              "    </tr>\n",
              "    <tr>\n",
              "      <th>1</th>\n",
              "      <td>1</td>\n",
              "      <td>State_1</td>\n",
              "      <td>1</td>\n",
              "      <td>1914.0</td>\n",
              "    </tr>\n",
              "    <tr>\n",
              "      <th>2</th>\n",
              "      <td>1</td>\n",
              "      <td>State_1</td>\n",
              "      <td>2</td>\n",
              "      <td>1920.0</td>\n",
              "    </tr>\n",
              "    <tr>\n",
              "      <th>3</th>\n",
              "      <td>1</td>\n",
              "      <td>State_1</td>\n",
              "      <td>6</td>\n",
              "      <td>1986.0</td>\n",
              "    </tr>\n",
              "    <tr>\n",
              "      <th>4</th>\n",
              "      <td>1</td>\n",
              "      <td>State_1</td>\n",
              "      <td>8</td>\n",
              "      <td>1989.0</td>\n",
              "    </tr>\n",
              "    <tr>\n",
              "      <th>5</th>\n",
              "      <td>1</td>\n",
              "      <td>State_1</td>\n",
              "      <td>9</td>\n",
              "      <td>1948.0</td>\n",
              "    </tr>\n",
              "    <tr>\n",
              "      <th>6</th>\n",
              "      <td>1</td>\n",
              "      <td>State_1</td>\n",
              "      <td>10</td>\n",
              "      <td>1983.0</td>\n",
              "    </tr>\n",
              "    <tr>\n",
              "      <th>7</th>\n",
              "      <td>1</td>\n",
              "      <td>State_1</td>\n",
              "      <td>13</td>\n",
              "      <td>1908.0</td>\n",
              "    </tr>\n",
              "    <tr>\n",
              "      <th>8</th>\n",
              "      <td>1</td>\n",
              "      <td>State_1</td>\n",
              "      <td>15</td>\n",
              "      <td>1909.0</td>\n",
              "    </tr>\n",
              "    <tr>\n",
              "      <th>9</th>\n",
              "      <td>1</td>\n",
              "      <td>State_1</td>\n",
              "      <td>17</td>\n",
              "      <td>1934.0</td>\n",
              "    </tr>\n",
              "  </tbody>\n",
              "</table>\n",
              "</div>\n",
              "      <button class=\"colab-df-convert\" onclick=\"convertToInteractive('df-00a22e28-576b-4a8d-a1c6-49dbcfe9273d')\"\n",
              "              title=\"Convert this dataframe to an interactive table.\"\n",
              "              style=\"display:none;\">\n",
              "        \n",
              "  <svg xmlns=\"http://www.w3.org/2000/svg\" height=\"24px\"viewBox=\"0 0 24 24\"\n",
              "       width=\"24px\">\n",
              "    <path d=\"M0 0h24v24H0V0z\" fill=\"none\"/>\n",
              "    <path d=\"M18.56 5.44l.94 2.06.94-2.06 2.06-.94-2.06-.94-.94-2.06-.94 2.06-2.06.94zm-11 1L8.5 8.5l.94-2.06 2.06-.94-2.06-.94L8.5 2.5l-.94 2.06-2.06.94zm10 10l.94 2.06.94-2.06 2.06-.94-2.06-.94-.94-2.06-.94 2.06-2.06.94z\"/><path d=\"M17.41 7.96l-1.37-1.37c-.4-.4-.92-.59-1.43-.59-.52 0-1.04.2-1.43.59L10.3 9.45l-7.72 7.72c-.78.78-.78 2.05 0 2.83L4 21.41c.39.39.9.59 1.41.59.51 0 1.02-.2 1.41-.59l7.78-7.78 2.81-2.81c.8-.78.8-2.07 0-2.86zM5.41 20L4 18.59l7.72-7.72 1.47 1.35L5.41 20z\"/>\n",
              "  </svg>\n",
              "      </button>\n",
              "      \n",
              "  <style>\n",
              "    .colab-df-container {\n",
              "      display:flex;\n",
              "      flex-wrap:wrap;\n",
              "      gap: 12px;\n",
              "    }\n",
              "\n",
              "    .colab-df-convert {\n",
              "      background-color: #E8F0FE;\n",
              "      border: none;\n",
              "      border-radius: 50%;\n",
              "      cursor: pointer;\n",
              "      display: none;\n",
              "      fill: #1967D2;\n",
              "      height: 32px;\n",
              "      padding: 0 0 0 0;\n",
              "      width: 32px;\n",
              "    }\n",
              "\n",
              "    .colab-df-convert:hover {\n",
              "      background-color: #E2EBFA;\n",
              "      box-shadow: 0px 1px 2px rgba(60, 64, 67, 0.3), 0px 1px 3px 1px rgba(60, 64, 67, 0.15);\n",
              "      fill: #174EA6;\n",
              "    }\n",
              "\n",
              "    [theme=dark] .colab-df-convert {\n",
              "      background-color: #3B4455;\n",
              "      fill: #D2E3FC;\n",
              "    }\n",
              "\n",
              "    [theme=dark] .colab-df-convert:hover {\n",
              "      background-color: #434B5C;\n",
              "      box-shadow: 0px 1px 3px 1px rgba(0, 0, 0, 0.15);\n",
              "      filter: drop-shadow(0px 1px 2px rgba(0, 0, 0, 0.3));\n",
              "      fill: #FFFFFF;\n",
              "    }\n",
              "  </style>\n",
              "\n",
              "      <script>\n",
              "        const buttonEl =\n",
              "          document.querySelector('#df-00a22e28-576b-4a8d-a1c6-49dbcfe9273d button.colab-df-convert');\n",
              "        buttonEl.style.display =\n",
              "          google.colab.kernel.accessAllowed ? 'block' : 'none';\n",
              "\n",
              "        async function convertToInteractive(key) {\n",
              "          const element = document.querySelector('#df-00a22e28-576b-4a8d-a1c6-49dbcfe9273d');\n",
              "          const dataTable =\n",
              "            await google.colab.kernel.invokeFunction('convertToInteractive',\n",
              "                                                     [key], {});\n",
              "          if (!dataTable) return;\n",
              "\n",
              "          const docLinkHtml = 'Like what you see? Visit the ' +\n",
              "            '<a target=\"_blank\" href=https://colab.research.google.com/notebooks/data_table.ipynb>data table notebook</a>'\n",
              "            + ' to learn more about interactive tables.';\n",
              "          element.innerHTML = '';\n",
              "          dataTable['output_type'] = 'display_data';\n",
              "          await google.colab.output.renderOutput(dataTable, element);\n",
              "          const docLink = document.createElement('div');\n",
              "          docLink.innerHTML = docLinkHtml;\n",
              "          element.appendChild(docLink);\n",
              "        }\n",
              "      </script>\n",
              "    </div>\n",
              "  </div>\n",
              "  "
            ],
            "text/plain": [
              "   Year_Factor State_Factor  facility_type  year_built_mode\n",
              "0            1      State_1              0           1909.0\n",
              "1            1      State_1              1           1914.0\n",
              "2            1      State_1              2           1920.0\n",
              "3            1      State_1              6           1986.0\n",
              "4            1      State_1              8           1989.0\n",
              "5            1      State_1              9           1948.0\n",
              "6            1      State_1             10           1983.0\n",
              "7            1      State_1             13           1908.0\n",
              "8            1      State_1             15           1909.0\n",
              "9            1      State_1             17           1934.0"
            ]
          },
          "metadata": {},
          "execution_count": 22
        }
      ]
    },
    {
      "cell_type": "code",
      "source": [
        "df.State_Factor.value_counts()"
      ],
      "metadata": {
        "colab": {
          "base_uri": "https://localhost:8080/"
        },
        "id": "fXE2KMWScRCQ",
        "outputId": "a766737c-f91f-46ca-e49b-9b4d4d96e62c"
      },
      "execution_count": null,
      "outputs": [
        {
          "output_type": "execute_result",
          "data": {
            "text/plain": [
              "State_6     50840\n",
              "State_11     6412\n",
              "State_1      5618\n",
              "State_2      4871\n",
              "State_4      4300\n",
              "State_8      3701\n",
              "State_10       15\n",
              "Name: State_Factor, dtype: int64"
            ]
          },
          "metadata": {},
          "execution_count": 23
        }
      ]
    },
    {
      "cell_type": "code",
      "source": [
        "# Extra step for finding mode values is needed for certain types of property types in certain states and year factor\n",
        "mode_df_extra = train_data[train_data.year_built_is_null == False].groupby(['State_Factor', 'facility_type'])['year_built'].apply(get_mode).to_frame().reset_index().rename(columns={'year_built': 'year_built_mode_extra'})\n",
        "mode_df_extra_service_state_2 = train_data[train_data.year_built_is_null == False].groupby(['facility_type'])['year_built'].apply(get_mode).to_frame().reset_index().rename(columns={'year_built': 'year_built_mode_extra'})\n",
        "\n",
        "# Extra step 2 - Get the mode value for Service in State 2\n",
        "service_state_2 = train_data[train_data.year_built_is_null == False].groupby(['facility_type'])['year_built'].apply(get_mode).to_frame().reset_index().rename(columns={'year_built': 'year_built_mode_extra_service_state_2'}).iloc[19, 1]\n",
        "\n",
        "mode_df_extra.head(10)"
      ],
      "metadata": {
        "colab": {
          "base_uri": "https://localhost:8080/",
          "height": 363
        },
        "id": "jZ5-1ZIedpz7",
        "outputId": "f0952e1c-6153-4f19-8058-1c3eb860fa41"
      },
      "execution_count": null,
      "outputs": [
        {
          "output_type": "execute_result",
          "data": {
            "text/html": [
              "\n",
              "  <div id=\"df-43430dd7-da02-4ae0-bdad-6791159dbc80\">\n",
              "    <div class=\"colab-df-container\">\n",
              "      <div>\n",
              "<style scoped>\n",
              "    .dataframe tbody tr th:only-of-type {\n",
              "        vertical-align: middle;\n",
              "    }\n",
              "\n",
              "    .dataframe tbody tr th {\n",
              "        vertical-align: top;\n",
              "    }\n",
              "\n",
              "    .dataframe thead th {\n",
              "        text-align: right;\n",
              "    }\n",
              "</style>\n",
              "<table border=\"1\" class=\"dataframe\">\n",
              "  <thead>\n",
              "    <tr style=\"text-align: right;\">\n",
              "      <th></th>\n",
              "      <th>State_Factor</th>\n",
              "      <th>facility_type</th>\n",
              "      <th>year_built_mode_extra</th>\n",
              "    </tr>\n",
              "  </thead>\n",
              "  <tbody>\n",
              "    <tr>\n",
              "      <th>0</th>\n",
              "      <td>State_1</td>\n",
              "      <td>0</td>\n",
              "      <td>1907.0</td>\n",
              "    </tr>\n",
              "    <tr>\n",
              "      <th>1</th>\n",
              "      <td>State_1</td>\n",
              "      <td>1</td>\n",
              "      <td>1900.0</td>\n",
              "    </tr>\n",
              "    <tr>\n",
              "      <th>2</th>\n",
              "      <td>State_1</td>\n",
              "      <td>2</td>\n",
              "      <td>1920.0</td>\n",
              "    </tr>\n",
              "    <tr>\n",
              "      <th>3</th>\n",
              "      <td>State_1</td>\n",
              "      <td>3</td>\n",
              "      <td>1931.0</td>\n",
              "    </tr>\n",
              "    <tr>\n",
              "      <th>4</th>\n",
              "      <td>State_1</td>\n",
              "      <td>4</td>\n",
              "      <td>1936.0</td>\n",
              "    </tr>\n",
              "    <tr>\n",
              "      <th>5</th>\n",
              "      <td>State_1</td>\n",
              "      <td>5</td>\n",
              "      <td>1932.0</td>\n",
              "    </tr>\n",
              "    <tr>\n",
              "      <th>6</th>\n",
              "      <td>State_1</td>\n",
              "      <td>6</td>\n",
              "      <td>1900.0</td>\n",
              "    </tr>\n",
              "    <tr>\n",
              "      <th>7</th>\n",
              "      <td>State_1</td>\n",
              "      <td>7</td>\n",
              "      <td>1911.0</td>\n",
              "    </tr>\n",
              "    <tr>\n",
              "      <th>8</th>\n",
              "      <td>State_1</td>\n",
              "      <td>8</td>\n",
              "      <td>1968.0</td>\n",
              "    </tr>\n",
              "    <tr>\n",
              "      <th>9</th>\n",
              "      <td>State_1</td>\n",
              "      <td>9</td>\n",
              "      <td>1948.0</td>\n",
              "    </tr>\n",
              "  </tbody>\n",
              "</table>\n",
              "</div>\n",
              "      <button class=\"colab-df-convert\" onclick=\"convertToInteractive('df-43430dd7-da02-4ae0-bdad-6791159dbc80')\"\n",
              "              title=\"Convert this dataframe to an interactive table.\"\n",
              "              style=\"display:none;\">\n",
              "        \n",
              "  <svg xmlns=\"http://www.w3.org/2000/svg\" height=\"24px\"viewBox=\"0 0 24 24\"\n",
              "       width=\"24px\">\n",
              "    <path d=\"M0 0h24v24H0V0z\" fill=\"none\"/>\n",
              "    <path d=\"M18.56 5.44l.94 2.06.94-2.06 2.06-.94-2.06-.94-.94-2.06-.94 2.06-2.06.94zm-11 1L8.5 8.5l.94-2.06 2.06-.94-2.06-.94L8.5 2.5l-.94 2.06-2.06.94zm10 10l.94 2.06.94-2.06 2.06-.94-2.06-.94-.94-2.06-.94 2.06-2.06.94z\"/><path d=\"M17.41 7.96l-1.37-1.37c-.4-.4-.92-.59-1.43-.59-.52 0-1.04.2-1.43.59L10.3 9.45l-7.72 7.72c-.78.78-.78 2.05 0 2.83L4 21.41c.39.39.9.59 1.41.59.51 0 1.02-.2 1.41-.59l7.78-7.78 2.81-2.81c.8-.78.8-2.07 0-2.86zM5.41 20L4 18.59l7.72-7.72 1.47 1.35L5.41 20z\"/>\n",
              "  </svg>\n",
              "      </button>\n",
              "      \n",
              "  <style>\n",
              "    .colab-df-container {\n",
              "      display:flex;\n",
              "      flex-wrap:wrap;\n",
              "      gap: 12px;\n",
              "    }\n",
              "\n",
              "    .colab-df-convert {\n",
              "      background-color: #E8F0FE;\n",
              "      border: none;\n",
              "      border-radius: 50%;\n",
              "      cursor: pointer;\n",
              "      display: none;\n",
              "      fill: #1967D2;\n",
              "      height: 32px;\n",
              "      padding: 0 0 0 0;\n",
              "      width: 32px;\n",
              "    }\n",
              "\n",
              "    .colab-df-convert:hover {\n",
              "      background-color: #E2EBFA;\n",
              "      box-shadow: 0px 1px 2px rgba(60, 64, 67, 0.3), 0px 1px 3px 1px rgba(60, 64, 67, 0.15);\n",
              "      fill: #174EA6;\n",
              "    }\n",
              "\n",
              "    [theme=dark] .colab-df-convert {\n",
              "      background-color: #3B4455;\n",
              "      fill: #D2E3FC;\n",
              "    }\n",
              "\n",
              "    [theme=dark] .colab-df-convert:hover {\n",
              "      background-color: #434B5C;\n",
              "      box-shadow: 0px 1px 3px 1px rgba(0, 0, 0, 0.15);\n",
              "      filter: drop-shadow(0px 1px 2px rgba(0, 0, 0, 0.3));\n",
              "      fill: #FFFFFF;\n",
              "    }\n",
              "  </style>\n",
              "\n",
              "      <script>\n",
              "        const buttonEl =\n",
              "          document.querySelector('#df-43430dd7-da02-4ae0-bdad-6791159dbc80 button.colab-df-convert');\n",
              "        buttonEl.style.display =\n",
              "          google.colab.kernel.accessAllowed ? 'block' : 'none';\n",
              "\n",
              "        async function convertToInteractive(key) {\n",
              "          const element = document.querySelector('#df-43430dd7-da02-4ae0-bdad-6791159dbc80');\n",
              "          const dataTable =\n",
              "            await google.colab.kernel.invokeFunction('convertToInteractive',\n",
              "                                                     [key], {});\n",
              "          if (!dataTable) return;\n",
              "\n",
              "          const docLinkHtml = 'Like what you see? Visit the ' +\n",
              "            '<a target=\"_blank\" href=https://colab.research.google.com/notebooks/data_table.ipynb>data table notebook</a>'\n",
              "            + ' to learn more about interactive tables.';\n",
              "          element.innerHTML = '';\n",
              "          dataTable['output_type'] = 'display_data';\n",
              "          await google.colab.output.renderOutput(dataTable, element);\n",
              "          const docLink = document.createElement('div');\n",
              "          docLink.innerHTML = docLinkHtml;\n",
              "          element.appendChild(docLink);\n",
              "        }\n",
              "      </script>\n",
              "    </div>\n",
              "  </div>\n",
              "  "
            ],
            "text/plain": [
              "  State_Factor  facility_type  year_built_mode_extra\n",
              "0      State_1              0                 1907.0\n",
              "1      State_1              1                 1900.0\n",
              "2      State_1              2                 1920.0\n",
              "3      State_1              3                 1931.0\n",
              "4      State_1              4                 1936.0\n",
              "5      State_1              5                 1932.0\n",
              "6      State_1              6                 1900.0\n",
              "7      State_1              7                 1911.0\n",
              "8      State_1              8                 1968.0\n",
              "9      State_1              9                 1948.0"
            ]
          },
          "metadata": {},
          "execution_count": 24
        }
      ]
    },
    {
      "cell_type": "code",
      "source": [
        "# Impute missing values using the values above\n",
        "import copy\n",
        "train_df_copy = copy.deepcopy(train_data)\n",
        "train_df_copy = pd.merge(train_df_copy, mode_df, how='left', on=['Year_Factor', 'State_Factor', 'facility_type'])\n",
        "train_df_copy = pd.merge(train_df_copy, mode_df_extra, how='left', on=['State_Factor', 'facility_type'])\n",
        "\n",
        "train_df_copy['year_built'].fillna(train_df_copy['year_built_mode'], inplace=True)\n",
        "train_df_copy['year_built'].fillna(train_df_copy['year_built_mode_extra'], inplace=True)\n",
        "train_df_copy['year_built'].fillna(service_state_2, inplace=True)\n",
        "\n",
        "train_df_copy[train_df_copy.year_built.isnull()] "
      ],
      "metadata": {
        "colab": {
          "base_uri": "https://localhost:8080/",
          "height": 113
        },
        "id": "AzIXZPjlbtFW",
        "outputId": "a4e80c2c-fd43-4007-e901-638ea63891c5"
      },
      "execution_count": null,
      "outputs": [
        {
          "output_type": "execute_result",
          "data": {
            "text/html": [
              "\n",
              "  <div id=\"df-c9ff9fa2-831a-47a5-9d65-0f319e708a42\">\n",
              "    <div class=\"colab-df-container\">\n",
              "      <div>\n",
              "<style scoped>\n",
              "    .dataframe tbody tr th:only-of-type {\n",
              "        vertical-align: middle;\n",
              "    }\n",
              "\n",
              "    .dataframe tbody tr th {\n",
              "        vertical-align: top;\n",
              "    }\n",
              "\n",
              "    .dataframe thead th {\n",
              "        text-align: right;\n",
              "    }\n",
              "</style>\n",
              "<table border=\"1\" class=\"dataframe\">\n",
              "  <thead>\n",
              "    <tr style=\"text-align: right;\">\n",
              "      <th></th>\n",
              "      <th>Year_Factor</th>\n",
              "      <th>State_Factor</th>\n",
              "      <th>facility_type</th>\n",
              "      <th>floor_area</th>\n",
              "      <th>year_built</th>\n",
              "      <th>ELEVATION</th>\n",
              "      <th>cooling_degree_days</th>\n",
              "      <th>heating_degree_days</th>\n",
              "      <th>precipitation_inches</th>\n",
              "      <th>snowfall_inches</th>\n",
              "      <th>snowdepth_inches</th>\n",
              "      <th>days_below_30F</th>\n",
              "      <th>days_below_20F</th>\n",
              "      <th>days_below_10F</th>\n",
              "      <th>days_below_0F</th>\n",
              "      <th>days_above_80F</th>\n",
              "      <th>days_above_90F</th>\n",
              "      <th>days_with_fog</th>\n",
              "      <th>site_eui</th>\n",
              "      <th>Energy</th>\n",
              "      <th>winter_average_temp</th>\n",
              "      <th>summer_average_temp</th>\n",
              "      <th>fall_average_temp</th>\n",
              "      <th>spring_average_temp</th>\n",
              "      <th>winter_average_maxtemp</th>\n",
              "      <th>summer_average_maxtemp</th>\n",
              "      <th>fall_average_maxtemp</th>\n",
              "      <th>spring_average_maxtemp</th>\n",
              "      <th>winter_average_mintemp</th>\n",
              "      <th>summer_average_mintemp</th>\n",
              "      <th>fall_average_mintemp</th>\n",
              "      <th>spring_average_mintemp</th>\n",
              "      <th>year_built_is_null</th>\n",
              "      <th>year_built_mode</th>\n",
              "      <th>year_built_mode_extra</th>\n",
              "    </tr>\n",
              "  </thead>\n",
              "  <tbody>\n",
              "  </tbody>\n",
              "</table>\n",
              "</div>\n",
              "      <button class=\"colab-df-convert\" onclick=\"convertToInteractive('df-c9ff9fa2-831a-47a5-9d65-0f319e708a42')\"\n",
              "              title=\"Convert this dataframe to an interactive table.\"\n",
              "              style=\"display:none;\">\n",
              "        \n",
              "  <svg xmlns=\"http://www.w3.org/2000/svg\" height=\"24px\"viewBox=\"0 0 24 24\"\n",
              "       width=\"24px\">\n",
              "    <path d=\"M0 0h24v24H0V0z\" fill=\"none\"/>\n",
              "    <path d=\"M18.56 5.44l.94 2.06.94-2.06 2.06-.94-2.06-.94-.94-2.06-.94 2.06-2.06.94zm-11 1L8.5 8.5l.94-2.06 2.06-.94-2.06-.94L8.5 2.5l-.94 2.06-2.06.94zm10 10l.94 2.06.94-2.06 2.06-.94-2.06-.94-.94-2.06-.94 2.06-2.06.94z\"/><path d=\"M17.41 7.96l-1.37-1.37c-.4-.4-.92-.59-1.43-.59-.52 0-1.04.2-1.43.59L10.3 9.45l-7.72 7.72c-.78.78-.78 2.05 0 2.83L4 21.41c.39.39.9.59 1.41.59.51 0 1.02-.2 1.41-.59l7.78-7.78 2.81-2.81c.8-.78.8-2.07 0-2.86zM5.41 20L4 18.59l7.72-7.72 1.47 1.35L5.41 20z\"/>\n",
              "  </svg>\n",
              "      </button>\n",
              "      \n",
              "  <style>\n",
              "    .colab-df-container {\n",
              "      display:flex;\n",
              "      flex-wrap:wrap;\n",
              "      gap: 12px;\n",
              "    }\n",
              "\n",
              "    .colab-df-convert {\n",
              "      background-color: #E8F0FE;\n",
              "      border: none;\n",
              "      border-radius: 50%;\n",
              "      cursor: pointer;\n",
              "      display: none;\n",
              "      fill: #1967D2;\n",
              "      height: 32px;\n",
              "      padding: 0 0 0 0;\n",
              "      width: 32px;\n",
              "    }\n",
              "\n",
              "    .colab-df-convert:hover {\n",
              "      background-color: #E2EBFA;\n",
              "      box-shadow: 0px 1px 2px rgba(60, 64, 67, 0.3), 0px 1px 3px 1px rgba(60, 64, 67, 0.15);\n",
              "      fill: #174EA6;\n",
              "    }\n",
              "\n",
              "    [theme=dark] .colab-df-convert {\n",
              "      background-color: #3B4455;\n",
              "      fill: #D2E3FC;\n",
              "    }\n",
              "\n",
              "    [theme=dark] .colab-df-convert:hover {\n",
              "      background-color: #434B5C;\n",
              "      box-shadow: 0px 1px 3px 1px rgba(0, 0, 0, 0.15);\n",
              "      filter: drop-shadow(0px 1px 2px rgba(0, 0, 0, 0.3));\n",
              "      fill: #FFFFFF;\n",
              "    }\n",
              "  </style>\n",
              "\n",
              "      <script>\n",
              "        const buttonEl =\n",
              "          document.querySelector('#df-c9ff9fa2-831a-47a5-9d65-0f319e708a42 button.colab-df-convert');\n",
              "        buttonEl.style.display =\n",
              "          google.colab.kernel.accessAllowed ? 'block' : 'none';\n",
              "\n",
              "        async function convertToInteractive(key) {\n",
              "          const element = document.querySelector('#df-c9ff9fa2-831a-47a5-9d65-0f319e708a42');\n",
              "          const dataTable =\n",
              "            await google.colab.kernel.invokeFunction('convertToInteractive',\n",
              "                                                     [key], {});\n",
              "          if (!dataTable) return;\n",
              "\n",
              "          const docLinkHtml = 'Like what you see? Visit the ' +\n",
              "            '<a target=\"_blank\" href=https://colab.research.google.com/notebooks/data_table.ipynb>data table notebook</a>'\n",
              "            + ' to learn more about interactive tables.';\n",
              "          element.innerHTML = '';\n",
              "          dataTable['output_type'] = 'display_data';\n",
              "          await google.colab.output.renderOutput(dataTable, element);\n",
              "          const docLink = document.createElement('div');\n",
              "          docLink.innerHTML = docLinkHtml;\n",
              "          element.appendChild(docLink);\n",
              "        }\n",
              "      </script>\n",
              "    </div>\n",
              "  </div>\n",
              "  "
            ],
            "text/plain": [
              "Empty DataFrame\n",
              "Columns: [Year_Factor, State_Factor, facility_type, floor_area, year_built, ELEVATION, cooling_degree_days, heating_degree_days, precipitation_inches, snowfall_inches, snowdepth_inches, days_below_30F, days_below_20F, days_below_10F, days_below_0F, days_above_80F, days_above_90F, days_with_fog, site_eui, Energy, winter_average_temp, summer_average_temp, fall_average_temp, spring_average_temp, winter_average_maxtemp, summer_average_maxtemp, fall_average_maxtemp, spring_average_maxtemp, winter_average_mintemp, summer_average_mintemp, fall_average_mintemp, spring_average_mintemp, year_built_is_null, year_built_mode, year_built_mode_extra]\n",
              "Index: []"
            ]
          },
          "metadata": {},
          "execution_count": 25
        }
      ]
    },
    {
      "cell_type": "code",
      "source": [
        "train_data = copy.deepcopy(train_df_copy)"
      ],
      "metadata": {
        "id": "Lm6MRzyweMQG"
      },
      "execution_count": null,
      "outputs": []
    },
    {
      "cell_type": "markdown",
      "source": [
        "### Imputation of year_built done now dropping Year_Factor, State_factor\n"
      ],
      "metadata": {
        "id": "sk6zz9h8eZrq"
      }
    },
    {
      "cell_type": "code",
      "source": [
        "train_data.drop(['Year_Factor', 'State_Factor'], axis=1, inplace=True)"
      ],
      "metadata": {
        "id": "OL88cJ-reVud"
      },
      "execution_count": null,
      "outputs": []
    },
    {
      "cell_type": "code",
      "source": [
        "train_data.isnull().sum()"
      ],
      "metadata": {
        "colab": {
          "base_uri": "https://localhost:8080/"
        },
        "id": "DZkorycdbpkX",
        "outputId": "ff119c1d-8be7-4fc4-ae70-382b4ca9aa45"
      },
      "execution_count": null,
      "outputs": [
        {
          "output_type": "execute_result",
          "data": {
            "text/plain": [
              "facility_type                 0\n",
              "floor_area                    0\n",
              "year_built                    0\n",
              "ELEVATION                     0\n",
              "cooling_degree_days           0\n",
              "heating_degree_days           0\n",
              "precipitation_inches          0\n",
              "snowfall_inches               0\n",
              "snowdepth_inches              0\n",
              "days_below_30F                0\n",
              "days_below_20F                0\n",
              "days_below_10F                0\n",
              "days_below_0F                 0\n",
              "days_above_80F                0\n",
              "days_above_90F                0\n",
              "days_with_fog             45796\n",
              "site_eui                      0\n",
              "Energy                        0\n",
              "winter_average_temp           0\n",
              "summer_average_temp           0\n",
              "fall_average_temp             0\n",
              "spring_average_temp           0\n",
              "winter_average_maxtemp        0\n",
              "summer_average_maxtemp        0\n",
              "fall_average_maxtemp          0\n",
              "spring_average_maxtemp        0\n",
              "winter_average_mintemp        0\n",
              "summer_average_mintemp        0\n",
              "fall_average_mintemp          0\n",
              "spring_average_mintemp        0\n",
              "year_built_is_null            0\n",
              "year_built_mode               9\n",
              "year_built_mode_extra         3\n",
              "dtype: int64"
            ]
          },
          "metadata": {},
          "execution_count": 28
        }
      ]
    },
    {
      "cell_type": "markdown",
      "source": [
        "### Dropping year_built_is_null , year_built_mode, year_built_mode_extra         "
      ],
      "metadata": {
        "id": "hJiJlK5Qe_Zs"
      }
    },
    {
      "cell_type": "code",
      "source": [
        "train_data.drop(['year_built_is_null' , 'year_built_mode', 'year_built_mode_extra'],axis=1 , inplace =True)"
      ],
      "metadata": {
        "id": "MuhTJRdbe-7g"
      },
      "execution_count": null,
      "outputs": []
    },
    {
      "cell_type": "markdown",
      "source": [
        "### Imputation - LGBM"
      ],
      "metadata": {
        "id": "cXweQhP3Vzbn"
      }
    },
    {
      "cell_type": "code",
      "source": [
        "!git clone https://github.com/analokmaus/kuma_utils.git"
      ],
      "metadata": {
        "colab": {
          "base_uri": "https://localhost:8080/"
        },
        "id": "oPloIccmUzZN",
        "outputId": "99179b6f-75e6-45f5-df39-fac2d665c40e"
      },
      "execution_count": null,
      "outputs": [
        {
          "output_type": "stream",
          "name": "stdout",
          "text": [
            "fatal: destination path 'kuma_utils' already exists and is not an empty directory.\n"
          ]
        }
      ]
    },
    {
      "cell_type": "code",
      "source": [
        "train_data.isnull().sum()"
      ],
      "metadata": {
        "colab": {
          "base_uri": "https://localhost:8080/"
        },
        "id": "172FZfXbWIGh",
        "outputId": "b6be4cf6-9247-4d10-a402-e307f6720f26"
      },
      "execution_count": null,
      "outputs": [
        {
          "output_type": "execute_result",
          "data": {
            "text/plain": [
              "facility_type                 0\n",
              "floor_area                    0\n",
              "year_built                    0\n",
              "ELEVATION                     0\n",
              "cooling_degree_days           0\n",
              "heating_degree_days           0\n",
              "precipitation_inches          0\n",
              "snowfall_inches               0\n",
              "snowdepth_inches              0\n",
              "days_below_30F                0\n",
              "days_below_20F                0\n",
              "days_below_10F                0\n",
              "days_below_0F                 0\n",
              "days_above_80F                0\n",
              "days_above_90F                0\n",
              "days_with_fog             45796\n",
              "site_eui                      0\n",
              "Energy                        0\n",
              "winter_average_temp           0\n",
              "summer_average_temp           0\n",
              "fall_average_temp             0\n",
              "spring_average_temp           0\n",
              "winter_average_maxtemp        0\n",
              "summer_average_maxtemp        0\n",
              "fall_average_maxtemp          0\n",
              "spring_average_maxtemp        0\n",
              "winter_average_mintemp        0\n",
              "summer_average_mintemp        0\n",
              "fall_average_mintemp          0\n",
              "spring_average_mintemp        0\n",
              "dtype: int64"
            ]
          },
          "metadata": {},
          "execution_count": 31
        }
      ]
    },
    {
      "cell_type": "code",
      "source": [
        "import sys\n",
        "sys.path.append(\"kuma_utils/\")\n",
        "from kuma_utils.preprocessing.imputer import LGBMImputer"
      ],
      "metadata": {
        "id": "9qFugP5UU_4G"
      },
      "execution_count": null,
      "outputs": []
    },
    {
      "cell_type": "code",
      "source": [
        "%%time\n",
        "lgbm_imtr = LGBMImputer(n_iter=200, verbose=True)\n",
        "\n",
        "train_lgbmimp = lgbm_imtr.fit_transform(train_data)"
      ],
      "metadata": {
        "colab": {
          "base_uri": "https://localhost:8080/",
          "height": 86,
          "referenced_widgets": [
            "945239d0695547818627b68fe2616ef8",
            "8b668590e47d4ae68bcd6515f8a4c72d",
            "431992bc33d1414a96a942ac8d2fef94",
            "fcaf9d7a44244f75843088a55112e413",
            "9e8cd8f11a9f41009505da04699689e8",
            "aaddc93a1b634b35b34e35d2baee282f",
            "49f5fa81d71b4191b7cd36b33359c061",
            "b4ac5701b9524442bab4f7cd35353d40",
            "7db364bfb05542f986053f9fd19a96e4",
            "6f65cdb1532c4fd5927c1ec750893560",
            "ab90b190437a465fbf1c27d5f22aea3f"
          ]
        },
        "id": "r38aFRnSVgdQ",
        "outputId": "e0502829-9114-4511-9e85-eb1c04299ff2"
      },
      "execution_count": null,
      "outputs": [
        {
          "output_type": "display_data",
          "data": {
            "application/vnd.jupyter.widget-view+json": {
              "model_id": "945239d0695547818627b68fe2616ef8",
              "version_minor": 0,
              "version_major": 2
            },
            "text/plain": [
              "  0%|          | 0/1 [00:00<?, ?it/s]"
            ]
          },
          "metadata": {}
        },
        {
          "output_type": "stream",
          "name": "stdout",
          "text": [
            "CPU times: user 3.21 s, sys: 76.6 ms, total: 3.28 s\n",
            "Wall time: 2.26 s\n"
          ]
        }
      ]
    },
    {
      "cell_type": "code",
      "source": [
        "train_lgbmimp.isnull().sum()"
      ],
      "metadata": {
        "colab": {
          "base_uri": "https://localhost:8080/"
        },
        "id": "88UNYJnVgMWz",
        "outputId": "0ee51146-4e5e-4758-91f7-36e604c9a1c3"
      },
      "execution_count": null,
      "outputs": [
        {
          "output_type": "execute_result",
          "data": {
            "text/plain": [
              "facility_type             0\n",
              "floor_area                0\n",
              "year_built                0\n",
              "ELEVATION                 0\n",
              "cooling_degree_days       0\n",
              "heating_degree_days       0\n",
              "precipitation_inches      0\n",
              "snowfall_inches           0\n",
              "snowdepth_inches          0\n",
              "days_below_30F            0\n",
              "days_below_20F            0\n",
              "days_below_10F            0\n",
              "days_below_0F             0\n",
              "days_above_80F            0\n",
              "days_above_90F            0\n",
              "days_with_fog             0\n",
              "site_eui                  0\n",
              "Energy                    0\n",
              "winter_average_temp       0\n",
              "summer_average_temp       0\n",
              "fall_average_temp         0\n",
              "spring_average_temp       0\n",
              "winter_average_maxtemp    0\n",
              "summer_average_maxtemp    0\n",
              "fall_average_maxtemp      0\n",
              "spring_average_maxtemp    0\n",
              "winter_average_mintemp    0\n",
              "summer_average_mintemp    0\n",
              "fall_average_mintemp      0\n",
              "spring_average_mintemp    0\n",
              "dtype: int64"
            ]
          },
          "metadata": {},
          "execution_count": 38
        }
      ]
    },
    {
      "cell_type": "markdown",
      "source": [
        "### SCALING"
      ],
      "metadata": {
        "id": "a1jAhJSHg6Sb"
      }
    },
    {
      "cell_type": "code",
      "source": [
        "features = ['days_below_30F', 'days_below_20F', 'days_below_10F', 'heating_degree_days']"
      ],
      "metadata": {
        "id": "TSujf2ashqFx"
      },
      "execution_count": null,
      "outputs": []
    },
    {
      "cell_type": "code",
      "source": [
        "from sklearn.preprocessing import StandardScaler\n",
        "train_data_tmp = train_data.loc[:,features].values\n",
        "train_data_tmp = StandardScaler().fit_transform(train_data_tmp)\n",
        "np.mean(train_data_tmp), np.std(train_data_tmp)"
      ],
      "metadata": {
        "colab": {
          "base_uri": "https://localhost:8080/"
        },
        "id": "35vhF-k_g9YZ",
        "outputId": "8f3cb134-e304-4b9b-f213-88e0fa8157bc"
      },
      "execution_count": null,
      "outputs": [
        {
          "output_type": "execute_result",
          "data": {
            "text/plain": [
              "(2.2510164946133566e-17, 1.0)"
            ]
          },
          "metadata": {},
          "execution_count": 40
        }
      ]
    },
    {
      "cell_type": "code",
      "source": [
        "feat_col = ['feature'+str(i) for i in range(train_data_tmp.shape[1])]"
      ],
      "metadata": {
        "id": "ZiRNKFFnh_3V"
      },
      "execution_count": null,
      "outputs": []
    },
    {
      "cell_type": "code",
      "source": [
        "from sklearn.decomposition import PCA\n",
        "pca = PCA(n_components=1)\n",
        "train_data['Cold_PCA'] = pca.fit_transform(train_data_tmp)\n",
        "print('Explained variation per principal component: {}'.format(pca.explained_variance_ratio_))"
      ],
      "metadata": {
        "colab": {
          "base_uri": "https://localhost:8080/"
        },
        "id": "F3mJf5DviCn2",
        "outputId": "f98c7bc2-b4b9-4caa-bae8-5021fc05c459"
      },
      "execution_count": null,
      "outputs": [
        {
          "output_type": "stream",
          "name": "stdout",
          "text": [
            "Explained variation per principal component: [0.84591557]\n"
          ]
        }
      ]
    },
    {
      "cell_type": "code",
      "source": [
        "train_data['Cold_PCA'].head(10)"
      ],
      "metadata": {
        "colab": {
          "base_uri": "https://localhost:8080/"
        },
        "id": "BfCT0dnsilro",
        "outputId": "14b76cdc-eb97-4096-d611-426e04cd406a"
      },
      "execution_count": null,
      "outputs": [
        {
          "output_type": "execute_result",
          "data": {
            "text/plain": [
              "0   -2.659102\n",
              "1   -2.659102\n",
              "2   -2.659102\n",
              "3   -2.659102\n",
              "4   -2.659102\n",
              "5   -2.659102\n",
              "6   -2.659102\n",
              "7   -2.659102\n",
              "8   -2.659102\n",
              "9   -2.659102\n",
              "Name: Cold_PCA, dtype: float64"
            ]
          },
          "metadata": {},
          "execution_count": 45
        }
      ]
    },
    {
      "cell_type": "markdown",
      "source": [
        "DROPPING FEATURES - A list mentioned above"
      ],
      "metadata": {
        "id": "vSrj27oWixum"
      }
    },
    {
      "cell_type": "code",
      "source": [
        "train_data.drop(features,axis=1,inplace=True)"
      ],
      "metadata": {
        "id": "-3-SoAZ3i5B-"
      },
      "execution_count": null,
      "outputs": []
    },
    {
      "cell_type": "markdown",
      "source": [
        "### Droping Duplicates"
      ],
      "metadata": {
        "id": "KVHswK6BjNze"
      }
    },
    {
      "cell_type": "code",
      "source": [
        "train_data.drop_duplicates(inplace=True)"
      ],
      "metadata": {
        "id": "e79x3e6UjNai"
      },
      "execution_count": null,
      "outputs": []
    },
    {
      "cell_type": "code",
      "source": [
        "train_data.shape"
      ],
      "metadata": {
        "colab": {
          "base_uri": "https://localhost:8080/"
        },
        "id": "gLcq6fhujUGY",
        "outputId": "a63d0ae4-a01c-4a08-d6bc-fb51e2a039ae"
      },
      "execution_count": null,
      "outputs": [
        {
          "output_type": "execute_result",
          "data": {
            "text/plain": [
              "(75715, 27)"
            ]
          },
          "metadata": {},
          "execution_count": 48
        }
      ]
    },
    {
      "cell_type": "markdown",
      "source": [
        "SAVING THE DATA"
      ],
      "metadata": {
        "id": "tO9wA4inkDR6"
      }
    },
    {
      "cell_type": "code",
      "source": [
        "train_data.to_csv('train1.csv')"
      ],
      "metadata": {
        "id": "M7UxJ1XSkC8f"
      },
      "execution_count": null,
      "outputs": []
    },
    {
      "cell_type": "markdown",
      "source": [
        "### Training"
      ],
      "metadata": {
        "id": "COfsFqJlg2zE"
      }
    },
    {
      "cell_type": "code",
      "source": [
        "def rmse(y_actual, y_pred):\n",
        "  \"\"\"\n",
        "  Wrtier: Dongyeun Kum\n",
        "  Description: Calculates RMSE for a given model\n",
        "  \"\"\"\n",
        "  from sklearn.metrics import mean_squared_error\n",
        "  from math import sqrt\n",
        "\n",
        "  rmse = sqrt(mean_squared_error(y_actual, y_pred))\n",
        "  \n",
        "  return rmse"
      ],
      "metadata": {
        "id": "8UKPkpWWgHn6"
      },
      "execution_count": null,
      "outputs": []
    },
    {
      "cell_type": "code",
      "source": [
        "from sklearn.ensemble import GradientBoostingRegressor\n",
        "from sklearn.model_selection import train_test_split\n",
        "\n",
        "target = 'site_eui'\n",
        "\n",
        "X = train_lgbmimp.drop(target, axis=1)\n",
        "y = train_lgbmimp[target]\n",
        "X_train, X_test, y_train, y_test = train_test_split(X, y, test_size = 0.3, random_state=42)\n",
        "\n",
        "model = GradientBoostingRegressor()\n",
        "model.fit(X_train, y_train)\n",
        "y_pred = model.predict(X_test)\n",
        "error = rmse(y_test, y_pred)\n",
        "error"
      ],
      "metadata": {
        "colab": {
          "base_uri": "https://localhost:8080/"
        },
        "id": "WDbxZAJbf6tb",
        "outputId": "e5b1ae1a-e410-4255-d669-0a2116dbe985"
      },
      "execution_count": null,
      "outputs": [
        {
          "output_type": "execute_result",
          "data": {
            "text/plain": [
              "8.820574281899285"
            ]
          },
          "metadata": {},
          "execution_count": 50
        }
      ]
    },
    {
      "cell_type": "code",
      "source": [
        "from sklearn.preprocessing import StandardScaler, MinMaxScaler, LabelEncoder\n",
        "from sklearn.decomposition import PCA\n",
        "from sklearn.linear_model import Lasso\n",
        "from sklearn.feature_selection import SelectFromModel\n",
        "from sklearn.model_selection import train_test_split\n",
        "from sklearn.linear_model import LinearRegression\n",
        "from sklearn.ensemble import RandomForestRegressor\n",
        "import xgboost as xgb\n",
        "from sklearn import metrics"
      ],
      "metadata": {
        "id": "I3NmwpyklCow"
      },
      "execution_count": 52,
      "outputs": []
    },
    {
      "cell_type": "code",
      "source": [
        "lr = LinearRegression()\n",
        "lr.fit(X_train, y_train)\n",
        "\n",
        "print('Linear Regression Train Score :', lr.score(X_train, y_train))\n",
        "print('Linear Regression Test Score :', lr.score(X_test, y_test))\n",
        "\n",
        "y_pred1 = lr.predict(X_test)\n",
        "RMSE1 = np.sqrt(metrics.mean_squared_error(y_test, y_pred1)) \n",
        "print('RMSE Value :', RMSE1)"
      ],
      "metadata": {
        "id": "Uv1xxxy7gBGW",
        "colab": {
          "base_uri": "https://localhost:8080/"
        },
        "outputId": "81ac4b96-cd54-4618-9979-1e16614c9a25"
      },
      "execution_count": 55,
      "outputs": [
        {
          "output_type": "stream",
          "name": "stdout",
          "text": [
            "Linear Regression Train Score : 0.3066815912873151\n",
            "Linear Regression Test Score : 0.2628010767522695\n",
            "RMSE Value : 48.575750100875695\n"
          ]
        }
      ]
    },
    {
      "cell_type": "code",
      "source": [
        "rf = RandomForestRegressor(n_estimators=700, max_depth=10, random_state=42)\n",
        "rf.fit(X_train, y_train)\n",
        "\n",
        "print('Random Forest Regressor Train Score :', rf.score(X_train, y_train))\n",
        "print('Random Forest Regressor Test Score :', rf.score(X_test, y_test))\n",
        "\n",
        "y_pred2 = rf.predict(X_test)\n",
        "RMSE2 = np.sqrt(metrics.mean_squared_error(y_test, y_pred2)) \n",
        "print('RMSE Value :', RMSE2)"
      ],
      "metadata": {
        "id": "UPWxkXNWlEer"
      },
      "execution_count": null,
      "outputs": []
    },
    {
      "cell_type": "code",
      "source": [
        ""
      ],
      "metadata": {
        "id": "QKVcq7ctlkOX"
      },
      "execution_count": null,
      "outputs": []
    }
  ]
}